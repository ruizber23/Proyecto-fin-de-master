{
 "cells": [
  {
   "cell_type": "markdown",
   "metadata": {},
   "source": [
    "## Funciones necesarias para el funcionamiento del proyecto"
   ]
  },
  {
   "cell_type": "markdown",
   "metadata": {},
   "source": [
    "Datos de prueba (genéricos)"
   ]
  },
  {
   "cell_type": "code",
   "execution_count": 1,
   "metadata": {},
   "outputs": [],
   "source": [
    "#Datos prueba\n",
    "\n",
    "lat = 38.1609\n",
    "lon = -0.801499\n",
    "orient = 10\n",
    "incl = 25\n",
    "ppico = 4.62 #kW pico\n",
    "fecha = \"2021-03-23\"\n",
    "fecha_a_usar = fecha"
   ]
  },
  {
   "cell_type": "markdown",
   "metadata": {},
   "source": [
    "Excentricidad de la tierra"
   ]
  },
  {
   "cell_type": "code",
   "execution_count": 2,
   "metadata": {},
   "outputs": [],
   "source": [
    "import math \n",
    "\n",
    "def excentricidad(dia):\n",
    "    e_0 = 1 + 0.033 * math.cos((2*math.pi*dia)/365)\n",
    "    return e_0"
   ]
  },
  {
   "cell_type": "markdown",
   "metadata": {},
   "source": [
    "Declinacion de la tierra"
   ]
  },
  {
   "cell_type": "code",
   "execution_count": 3,
   "metadata": {},
   "outputs": [],
   "source": [
    "import math \n",
    "\n",
    "def gamma_declinacion(dia):\n",
    "    gamma = 2.0 * math.pi *(dia-1)/365.0\n",
    "    return gamma"
   ]
  },
  {
   "cell_type": "code",
   "execution_count": 4,
   "metadata": {},
   "outputs": [],
   "source": [
    "import math \n",
    "\n",
    "def angulo_declinacion_solar(dia):\n",
    "    gamma = gamma_declinacion(dia)\n",
    "    delta = 0.006918 - 0.399912 * math.cos(gamma) + 0.070257 * math.sin(gamma) - 0.006758 * math.cos(2*gamma) + 0.000907 * math.sin(2* gamma) - 0.002697 * math.cos(3*gamma) + 0.001480 * math.sin(3*gamma)\n",
    "    return delta #(radianes)"
   ]
  },
  {
   "cell_type": "markdown",
   "metadata": {},
   "source": [
    "Ángulo de salida del sol"
   ]
  },
  {
   "cell_type": "code",
   "execution_count": 5,
   "metadata": {},
   "outputs": [],
   "source": [
    "import math \n",
    "\n",
    "def angulo_salida_sol(latitud, declinacion):\n",
    "    w = math.acos( -math.tan(latitud) * math.tan(declinacion))\n",
    "    return w"
   ]
  },
  {
   "cell_type": "markdown",
   "metadata": {},
   "source": [
    "Horas hasta el mediodia solar"
   ]
  },
  {
   "cell_type": "code",
   "execution_count": 6,
   "metadata": {},
   "outputs": [],
   "source": [
    "import math \n",
    "\n",
    "def horas_mediodia(wsr):\n",
    "    horas = wsr * 12/math.pi\n",
    "    return horas\n",
    "\n",
    "def segundos_(horas_mediodia):\n",
    "    segundos = (horas_mediodia - math.trunc(horas_mediodia)) * 3600\n",
    "    return segundos\n",
    "\n",
    "\n",
    "def hora_inicial_(horas_mediodia):\n",
    "    hora_inicial = 12 - math.trunc(horas_mediodia)\n",
    "    return hora_inicial\n",
    "\n",
    "\n",
    "def hora_final_(horas_mediodia):\n",
    "    hora_final = 12 + math.trunc(horas_mediodia)\n",
    "    return hora_final\n"
   ]
  },
  {
   "cell_type": "markdown",
   "metadata": {},
   "source": [
    "Ángulo solar horario"
   ]
  },
  {
   "cell_type": "code",
   "execution_count": 7,
   "metadata": {},
   "outputs": [],
   "source": [
    "import math \n",
    "\n",
    "def angulo_solar_primera_ultima_hora(segundos, w_sr):\n",
    "    w = w_sr - ((segundos/3600)/2 * math.pi/12)\n",
    "    return w\n",
    "\n",
    "\n",
    "def angulo_solar(hora):\n",
    "    w = (hora - 12 - 0.5) * math.pi/12\n",
    "    return w"
   ]
  },
  {
   "cell_type": "markdown",
   "metadata": {},
   "source": [
    "Altura solar horaria"
   ]
  },
  {
   "cell_type": "code",
   "execution_count": 8,
   "metadata": {},
   "outputs": [],
   "source": [
    "import math \n",
    "\n",
    "def altura_solar(declinacion, latitud, angulo_solar_hora):\n",
    "    altura = math.asin(math.sin(declinacion) * math.sin(latitud) + math.cos(declinacion) * math.cos(latitud) * math.cos(angulo_solar_hora))\n",
    "    return altura"
   ]
  },
  {
   "cell_type": "markdown",
   "metadata": {},
   "source": [
    "Acimut solar horario"
   ]
  },
  {
   "cell_type": "code",
   "execution_count": 9,
   "metadata": {},
   "outputs": [],
   "source": [
    "import math \n",
    "\n",
    "def acimut_solar(altura_solar, latitud, declinacion, angulo_horario):\n",
    "    if(latitud > 0):\n",
    "        acimut = math.acos((math.sin(altura_solar) * math.sin(latitud) - math.sin(declinacion))/(math.cos(altura_solar) * math.cos(latitud)))\n",
    "    else:\n",
    "        acimut = math.acos((math.sin(declinacion) * math.sin(latitud) - math.cos(declinacion) * math.sin(latitud) * math.cos(angulo_horario))/math.cos(declinacion))\n",
    "    return acimut"
   ]
  },
  {
   "cell_type": "markdown",
   "metadata": {},
   "source": [
    "Radiación extraterrestre incidente"
   ]
  },
  {
   "cell_type": "code",
   "execution_count": 10,
   "metadata": {},
   "outputs": [],
   "source": [
    "import math \n",
    "\n",
    "K_solar = 1367 #W/m^2\n",
    "\n",
    "def radiacion_incidente_extraterrestre(excentricidad, altura_solar_hora):\n",
    "    r_incidente = K_solar * excentricidad * math.sin(altura_solar_hora)\n",
    "    return r_incidente\n",
    "\n",
    "\n",
    "def radiacion_incidente_extraterrestre_primera_ultima_hora(excentricidad, altura_solar_hora, segundos):\n",
    "    radiacion = radiacion_incidente_extraterrestre(excentricidad, altura_solar_hora)\n",
    "    radiacion = radiacion * segundos / 3600\n",
    "    return radiacion"
   ]
  },
  {
   "cell_type": "markdown",
   "metadata": {},
   "source": [
    "Obtener dataframe de medidas horarias para una inclinación, latitud, longitud, altura y acimut (orientación)"
   ]
  },
  {
   "cell_type": "code",
   "execution_count": 11,
   "metadata": {},
   "outputs": [],
   "source": [
    "import math \n",
    "import pandas as pd\n",
    "import itertools\n",
    "\n",
    "\n",
    "\n",
    "def df_energia_solar(lat, lon, orientacion = 0, inclinacion = 0):\n",
    "    lat = lat * math.pi/180\n",
    "    lon = lon * math.pi/180\n",
    "    inclinacion = inclinacion * math.pi/180\n",
    "    orientacion = orientacion * math.pi/180\n",
    "  \n",
    "    mes = [1]*31 + [2]*28 + [3]*31 + [4]*30 + [5]*31 + [6]*30 + [7]*31 + [8]*31 + [9]*30 + [10]*31 + [11]*30 + [12]*31\n",
    "    dia = list(range(1,32)) + list(range(1,29)) + list(range(1,32)) + list(range(1,31)) + list(range(1,32)) + list(range(1,31)) + list(range(1,32)) + list(range(1,32)) + list(range(1,31)) + list(range(1,32)) + list(range(1,31)) + list(range(1,32))\n",
    "    dia_juliano = list(range(1,366))\n",
    "  \n",
    "    df = pd.DataFrame({'mes' : mes,\n",
    "                       'dia' : dia,\n",
    "                       'dia_juliano' : dia_juliano})\n",
    "    df.insert(3, \"declinacion_solar\", list(map(angulo_declinacion_solar, dia_juliano)), True) \n",
    "    df.insert(4, \"excentricidad_diaria\", list(map(excentricidad, dia_juliano)), True) \n",
    "    df.insert(5, \"w_sr\", list(map(angulo_salida_sol, df[\"declinacion_solar\"], itertools.repeat(lat, len(df[\"declinacion_solar\"])))), True) \n",
    "    df.insert(6, \"horas_mediodia\", list(map(horas_mediodia,df[\"w_sr\"])), True) \n",
    "    df.insert(7, \"duracion_dia\", df[\"horas_mediodia\"]*2, True) \n",
    "    df.insert(8, \"hora_inicial\", list(map(hora_inicial_, df[\"horas_mediodia\"])), True) \n",
    "    df.insert(9, \"hora_final\", list(map(hora_final_, df[\"horas_mediodia\"])), True) \n",
    "    df.insert(10, \"segundos\", list(map(segundos_, df[\"horas_mediodia\"])), True) \n",
    "    \n",
    "    \n",
    "    df_radiacion = pd.DataFrame(dia_juliano[0:365])\n",
    "    df_radiacion.columns = ['dia_juliano']\n",
    "    df_altura = pd.DataFrame(dia_juliano[0:365])\n",
    "    df_altura.columns = ['dia_juliano']\n",
    "    df_acimut = pd.DataFrame(dia_juliano[0:365])\n",
    "    df_acimut.columns = ['dia_juliano']\n",
    "    df_angulo_solar = pd.DataFrame(dia_juliano[0:365])\n",
    "    df_angulo_solar.columns = ['dia_juliano']\n",
    "    \n",
    "    # Para cada hora del día, se obtinene las diferenets variable solares en función del día del año\n",
    "    for h in range(1,25):\n",
    "        w = []\n",
    "        altura = []\n",
    "        acimut = []\n",
    "        radiacion = []\n",
    "    \n",
    "        for d in range(0,365):\n",
    "            hora_inicial = df[\"hora_inicial\"][d]\n",
    "            hora_final = df[\"hora_final\"][d]\n",
    "            segundos = df[\"segundos\"][d]\n",
    "            w_sr = df[\"w_sr\"][d]\n",
    "            delta = df[\"declinacion_solar\"][d] \n",
    "            E = df[\"excentricidad_diaria\"][d]          \n",
    "                   \n",
    "            \n",
    "            if(h == (hora_inicial) or h == (hora_final+1)):\n",
    "                w_d = angulo_solar_primera_ultima_hora(segundos, w_sr)\n",
    "                altura_d = altura_solar(delta, lat, w_d)\n",
    "                acimut_d = acimut_solar(altura_d, lat, delta, w_d)       \n",
    "                if(h == (hora_inicial)):\n",
    "                    acimut_d = -acimut_d\n",
    "                    w_d = -w_d              \n",
    "                rad_d = radiacion_incidente_extraterrestre_primera_ultima_hora(E, altura_d, segundos)\n",
    "                \n",
    "            elif(h >= (hora_inicial+1) and h < (hora_final+1)):\n",
    "                w_d = angulo_solar(h)\n",
    "                altura_d = altura_solar(delta, lat, w_d)\n",
    "                acimut_d = acimut_solar(altura_d, lat, delta, w_d)\n",
    "                if(h < 13):\n",
    "                    acimut_d = -acimut_d\n",
    "                rad_d = radiacion_incidente_extraterrestre(E, altura_d)\n",
    "                \n",
    "            else:\n",
    "                w_d = 0\n",
    "                altura_d = 0\n",
    "                acimut_d = 0\n",
    "                rad_d = 0\n",
    "        \n",
    "\n",
    "            w.append(w_d)\n",
    "            altura.append(altura_d)\n",
    "            acimut.append(acimut_d)\n",
    "            radiacion.append(rad_d)\n",
    "            \n",
    "        # angulo solar\n",
    "        df_angulo_solar.insert(len(df_angulo_solar.columns), str(\"W_{}_{}\".format(h-1, h)), w)\n",
    "        \n",
    "        # altura solar\n",
    "        df_altura.insert(len(df_altura.columns), str(\"Altura_{}_{}\".format(h-1, h)), altura)\n",
    "\n",
    "        # acimut solar\n",
    "        df_acimut.insert(len(df_acimut.columns), str(\"Acimut_{}_{}\".format(h-1, h)), acimut)\n",
    "\n",
    "        # Radiacion extraterrestre\n",
    "        df_radiacion.insert(len(df_radiacion.columns), str(\"Gh0_{}_{}\".format(h-1, h)), radiacion)\n",
    "\n",
    "    df = df.merge(df_angulo_solar, left_on = \"dia_juliano\", right_on = \"dia_juliano\")\n",
    "    df = df.merge(df_altura, left_on=\"dia_juliano\", right_on=\"dia_juliano\")\n",
    "    df = df.merge(df_acimut, left_on=\"dia_juliano\", right_on=\"dia_juliano\")\n",
    "    df = df.merge(df_radiacion, left_on=\"dia_juliano\", right_on=\"dia_juliano\")\n",
    "\n",
    "    \n",
    "    return df"
   ]
  },
  {
   "cell_type": "markdown",
   "metadata": {},
   "source": [
    "Radiación global"
   ]
  },
  {
   "cell_type": "code",
   "execution_count": 12,
   "metadata": {},
   "outputs": [],
   "source": [
    "def radiacion_global(r_directa, r_difusa, r_reflejada):\n",
    "    r_global = r_directa + r_difusa + r_reflejada\n",
    "    return r_global"
   ]
  },
  {
   "cell_type": "markdown",
   "metadata": {},
   "source": [
    "Índice de transparencia atmosférico"
   ]
  },
  {
   "cell_type": "code",
   "execution_count": 13,
   "metadata": {},
   "outputs": [],
   "source": [
    "def indice_transparencia(r_global, r_extraterrestre):\n",
    "    i_transparencia = r_global/r_extraterrestre\n",
    "    return i_transparencia"
   ]
  },
  {
   "cell_type": "markdown",
   "metadata": {},
   "source": [
    "Radiación difusa"
   ]
  },
  {
   "cell_type": "code",
   "execution_count": 14,
   "metadata": {},
   "outputs": [],
   "source": [
    "import math \n",
    "\n",
    "def radiacion_difusa_horizontal(indice_transparencia, r_global):\n",
    "    if(indice_transparencia >= 0 and indice_transparencia <= 0.22):\n",
    "        r_difusa = r_global *(1 - 0.09 * indice_transparencia)\n",
    "    elif(0.22 < indice_transparencia and indice_transparencia <= 0.8):\n",
    "        r_difusa = r_global * (0.9511 - 0.16 * indice_transparencia + 4.388 * indice_transparencia**2 - 16.638 * indice_transparencia**3 + 12.336 * indice_transparencia**4)\n",
    "    else:\n",
    "        r_difusa = r_global * 0.165\n",
    "    \n",
    "    return r_difusa\n",
    "\n",
    "def radiacion_difusa_inclinada(r_difusa, beta):\n",
    "    if(beta != 0):\n",
    "        r_difusa_beta = (1 + math.cos(beta))/2 * r_difusa\n",
    "        \n",
    "    return r_difusa_beta"
   ]
  },
  {
   "cell_type": "markdown",
   "metadata": {},
   "source": [
    "Radiación reflejada"
   ]
  },
  {
   "cell_type": "code",
   "execution_count": 15,
   "metadata": {},
   "outputs": [],
   "source": [
    "import math \n",
    "\n",
    "def radiacion_reflejada(radiacion_global, albedo = 0.2, beta = 0):\n",
    "    radiacion_reflejada = radiacion_global * albedo * (1- math.cos(beta))/2\n",
    "    \n",
    "    return radiacion_reflejada"
   ]
  },
  {
   "cell_type": "markdown",
   "metadata": {},
   "source": [
    "Radiación directa"
   ]
  },
  {
   "cell_type": "code",
   "execution_count": 16,
   "metadata": {},
   "outputs": [],
   "source": [
    "import math \n",
    "\n",
    "def wsrm_(orientacion, beta, latitud, declinacion, angulo_salida_solar):\n",
    "    \n",
    "    if(orientacion < 0):\n",
    "        signo = -1\n",
    "    else:\n",
    "        signo = 1\n",
    "    \n",
    "    A = math.sin(latitud)/math.tan(orientacion) + math.cos(latitud)/(math.sin(orientacion) * math.tan(beta))\n",
    "    B = -math.tan(declinacion)*(math.sin(latitud)/(math.sin(orientacion)*math.tan(beta)) - math.cos(latitud)/math.tan(orientacion))\n",
    "  \n",
    "    wsrm = math.acos((A*B + signo*math.sqrt(A*A-B*B+1))/(A*A+1))\n",
    "    wsrm = - min(wsrm,angulo_salida_solar) \n",
    "  \n",
    "    return wsrm\n",
    "\n",
    "\n",
    "def wsrt_(orientacion, beta, latitud, declinacion, angulo_salida_solar):\n",
    "    \n",
    "    if (orientacion < 0):\n",
    "        signo = -1\n",
    "    else:\n",
    "        signo <- 1\n",
    "  \n",
    "    A = math.sin(latitud)/math.tan(orientacion) + math.cos(latitud)/(math.sin(orientacion) * math.tan(beta))\n",
    "    B = -math.tan(declinacion)*(math.sin(latitud)/(math.sin(orientacion)*math.tan(beta)) - math.cos(latitud)/math.tan(orientacion))\n",
    "  \n",
    "    wsrt = math.acos((A*B - signo*math.sqrt(A*A-B*B+1))/(A*A+1))\n",
    "    wsrt = min(wsrt, angulo_salida_solar)\n",
    "    \n",
    "    return wsrt\n",
    "\n",
    "\n",
    "\n",
    "def radiacion_directa(r_global, r_difusa, acimut_solar_h, altura_solar_h, declinacion, latitud, angulo_solar_h, angulo_salida_solar, beta = 0, orientacion = 0):\n",
    "    \n",
    "    r_directa = r_global - r_difusa\n",
    "  \n",
    "    if (beta != 0):\n",
    "        \n",
    "        if(orientacion <0 and acimut_solar_h > 0):\n",
    "            wsrt = wsrt_(orientacion, beta, latitud, declinacion, angulo_salida_solar)\n",
    "            if(angulo_solar_h > wsrt):\n",
    "                angulo_solar_h = wsrt\n",
    "\n",
    "        if(orientacion >0 and acimut_solar_h <0):\n",
    "            wsrm = wsrm_(orientacion, beta, latitud, declinacion, angulo_salida_solar) \n",
    "            if(angulo_solar_h < wsrm):\n",
    "                angulo_solar_h = wsrm\n",
    "\n",
    "        costhita = math.sin(declinacion) * math.sin(latitud) * math.cos(beta) - math.sin(declinacion) * math.cos(latitud) * math.sin(beta) * math.cos(orientacion) + math.cos(declinacion) * math.cos(latitud) * math.cos(beta) * math.cos(angulo_solar_h) + math.cos(declinacion) * math.sin(latitud) * math.sin(beta) * math.cos(orientacion) * math.cos(angulo_solar_h) + math.cos(declinacion) * math.sin(beta) * math.sin(orientacion) * math.sin(angulo_solar_h)\n",
    "\n",
    "        if(costhita < 0):\n",
    "            costhita = 0\n",
    "\n",
    "        costhitaz = math.sin(declinacion) * math.sin(latitud) + math.cos(declinacion) * math.cos(latitud) * math.cos(angulo_solar_h)\n",
    "\n",
    "        \n",
    "        if(costhitaz > 0):\n",
    "            rb = costhita/costhitaz\n",
    "        else:\n",
    "            rb = 1\n",
    "\n",
    "        r_directa = r_directa * rb\n",
    "\n",
    "\n",
    "    return r_directa"
   ]
  },
  {
   "cell_type": "markdown",
   "metadata": {},
   "source": [
    "Obtención de la potencia generada por los paneles fotovoltaicos"
   ]
  },
  {
   "cell_type": "code",
   "execution_count": 17,
   "metadata": {},
   "outputs": [],
   "source": [
    "import math \n",
    "import numpy as np\n",
    "\n",
    "def temperatura_instalacion(temperatura_ambiente, irradiacion_solar, velocidad_viento, m = -3.56, n = -0.079):\n",
    "    temperatura = []\n",
    "    for i in range(0, len(temperatura_ambiente)):\n",
    "        temperatura.append(temperatura_ambiente[i] + irradiacion_solar[i] * math.exp(m + n * velocidad_viento[i]))\n",
    "    return temperatura\n",
    "\n",
    "\n",
    "def potencia_generada(t_ambiente, irr_solar, v_viento, ppico):\n",
    "    \n",
    "    g_ref = 1000 #W/m^2\n",
    "    coef_y = -0.0048\n",
    "    t_ref = 25\n",
    "    P_ref = 1000 * ppico\n",
    "  \n",
    "    coefCC = 0.97 * 0.98 * 0.98 * 0.98\n",
    "    efinversor = 0.95\n",
    "    perdCA = 0.99\n",
    "    T_m = temperatura_instalacion(t_ambiente, irr_solar, v_viento)\n",
    "  \n",
    "    potencia = P_ref * np.array(irr_solar)/g_ref * (1 + coef_y * (np.array(T_m) - t_ref))\n",
    "    potencia = potencia * coefCC * efinversor * perdCA\n",
    "  \n",
    "    return potencia"
   ]
  },
  {
   "cell_type": "markdown",
   "metadata": {},
   "source": [
    "Función auxiliar para calcular la radiación global horaria necesaria para obtener la producción fotovoltaica horaria"
   ]
  },
  {
   "cell_type": "code",
   "execution_count": 18,
   "metadata": {},
   "outputs": [],
   "source": [
    "def calculo_radiacion_horaria(r_global, K, acimut_sol, altura_sol, angulo_sol, decl, latitud, inclinacion, orientacion, angulo_salida_solar):\n",
    "    \n",
    "    r_difusa_horiz = []\n",
    "    r_difusa_incl = []\n",
    "    r_directa_h = []\n",
    "    r_reflejada_h = []\n",
    "    r_global_h = []\n",
    "    \n",
    "    for h in range(0,len(r_global)):\n",
    "        k = K[h]\n",
    "        rg = r_global[h]\n",
    "        acimut_h = acimut_sol[h]\n",
    "        altura_h = altura_sol[h]\n",
    "        angulo_h = angulo_sol[h]\n",
    "        declinacion = decl\n",
    "\n",
    "        r_difusa  = radiacion_difusa_horizontal(k, rg)\n",
    "        r_difusa_horiz.append(r_difusa)\n",
    "    \n",
    "        r_directa = radiacion_directa(r_global = rg, \n",
    "                                       r_difusa = r_difusa, \n",
    "                                       beta = inclinacion, \n",
    "                                       orientacion = orientacion, \n",
    "                                       acimut_solar_h = acimut_h, \n",
    "                                       altura_solar_h = altura_h, \n",
    "                                       declinacion = declinacion, \n",
    "                                       latitud = latitud, \n",
    "                                       angulo_solar_h = angulo_h,\n",
    "                                       angulo_salida_solar = angulo_salida_solar)\n",
    "        r_directa_h.append(r_directa)\n",
    "    \n",
    "        r_difusa_beta = radiacion_difusa_inclinada(r_difusa = r_difusa, beta = inclinacion)\n",
    "        r_difusa_incl.append(r_difusa_beta)\n",
    "\n",
    "        r_reflejada = radiacion_reflejada(radiacion_global = rg, beta = inclinacion)\n",
    "        r_reflejada_h.append(r_reflejada)\n",
    "\n",
    "        r_global_plano = radiacion_global(r_directa = r_directa, r_difusa = r_difusa_beta, r_reflejada = r_reflejada)\n",
    "        r_global_h.append(r_global_plano)\n",
    "\n",
    "    df_radiaciones = pd.DataFrame({'r_difusa_incl':r_difusa_incl, 'r_reflejada_h':r_reflejada_h, 'r_directa_h':r_directa_h, 'r_global_h':r_global_h})\n",
    "    return df_radiaciones\n"
   ]
  },
  {
   "cell_type": "markdown",
   "metadata": {},
   "source": [
    "Función que calcula la distancia euclidea o de Manhattan entre dos puntos"
   ]
  },
  {
   "cell_type": "code",
   "execution_count": 19,
   "metadata": {},
   "outputs": [],
   "source": [
    "import math \n",
    "\n",
    "def distancia(lat1, lon1, lat2, lon2, distancia = \"euclidea\"):\n",
    "    \n",
    "    if(distancia == \"euclidea\"):\n",
    "        dist = math.sqrt((lat1 - lat2)**2 + (lon1 -lon2)**2)\n",
    "    \n",
    "    elif(distancia == \"manhattan\"):\n",
    "        dist = abs(lat1 - lat2) + abs(lon1 -lon2)\n",
    "  \n",
    "    return dist "
   ]
  },
  {
   "cell_type": "markdown",
   "metadata": {},
   "source": [
    "Saber si un día tiene horario invierno o verano en España"
   ]
  },
  {
   "cell_type": "code",
   "execution_count": 20,
   "metadata": {},
   "outputs": [],
   "source": [
    "from datetime import date, datetime\n",
    "\n",
    "def verano_invierno(now):\n",
    "    \n",
    "    Y = 2000 #año bisiesto genérico\n",
    "    inv_ver = [(1, (date(Y,  1,  1),  date(Y,  3, 26))),\n",
    "               (2, (date(Y,  3, 27),  date(Y,  10, 30))),\n",
    "               (1, (date(Y, 10, 31),  date(Y, 12, 31)))]\n",
    "    # 1 Invierno, 2 Verano\n",
    "    \n",
    "    if isinstance(now, datetime):\n",
    "        now = now.date()\n",
    "    now = now.replace(year=Y)\n",
    "    return next(season for season, (start, end) in inv_ver\n",
    "                if start <= now <= end)"
   ]
  },
  {
   "cell_type": "markdown",
   "metadata": {},
   "source": [
    "Función de cálculo"
   ]
  },
  {
   "cell_type": "code",
   "execution_count": 21,
   "metadata": {
    "scrolled": true
   },
   "outputs": [],
   "source": [
    "from datetime import timezone, datetime, date, timedelta\n",
    "import math\n",
    "\n",
    "def calcularEnergia(lat, lon, orient, incl, ppico, fecha, dia_Gh, ta):\n",
    "       \n",
    "    fecha = str(fecha)\n",
    "    \n",
    "    # Dia y mes actual\n",
    "  \n",
    "    actualDay = datetime.strptime(fecha, '%Y-%m-%d').day\n",
    "    actualMonth = datetime.strptime(fecha, '%Y-%m-%d').month\n",
    " \n",
    "    \n",
    "    # Se calcula el dataframe con la informacion de radiacion (excentricidad, wsr...) para la lat, lon, orient e inclinacion que se esta procesando\n",
    "    \n",
    "    df_solar_energy = df_energia_solar(lat, lon, orient, incl) \n",
    "    \n",
    "    # Nos quedamos con los datos de radiacion para el dia\n",
    "    \n",
    "    calculos_dia = df_solar_energy[df_solar_energy[\"mes\"] == actualMonth]\n",
    "    calculos_dia = calculos_dia[calculos_dia[\"dia\"] == actualDay]\n",
    "   \n",
    "    acimut_h_dia = []\n",
    "    altura_h_dia = []\n",
    "    angulo_h_dia = []\n",
    "    gh0_h_dia = []\n",
    "    \n",
    "    [acimut_h_dia.append(\"Acimut_\" + str(i) + \"_\" + str(i+1)) for i in range(4,20)]\n",
    "    [altura_h_dia.append(\"Altura_\" + str(i) + \"_\" + str(i+1)) for i in range(4,20)]\n",
    "    [angulo_h_dia.append(\"W_\" + str(i) + \"_\" + str(i+1)) for i in range(4,20)]\n",
    "    [gh0_h_dia.append(\"Gh0_\" + str(i) + \"_\" + str(i+1)) for i in range(4,20)]\n",
    "\n",
    "    \n",
    "    dia_Acimut_h = calculos_dia[acimut_h_dia]     #Valores horarios de acimut para el dia\n",
    "    dia_Altura_h = calculos_dia[altura_h_dia]     #Valores horarios de altura solar para el dia\n",
    "    dia_Angulo_h = calculos_dia[angulo_h_dia]     #Valores horarios de angulo solar para el dia\n",
    "    dia_declinacion = calculos_dia[\"declinacion_solar\"]   #Valores horarios de declinacion para el dia\n",
    "    dia_Gh0 = calculos_dia[gh0_h_dia]   #Valores horarios de Gh0 (Radiacion extraterrestre) para el dia\n",
    "  \n",
    "    dia_Kh  = indice_transparencia(r_global = dia_Gh, r_extraterrestre = dia_Gh0)  #Valores horarios de indice de transparencia para el dia\n",
    "    dia_Kh_lista = list(pd.DataFrame(dia_Kh).reset_index(drop=True).iloc[0].isnull())\n",
    "    for i in range(0, len(dia_Kh_lista)):\n",
    "        if (dia_Kh_lista[i] == True):\n",
    "            dia_Kh[dia_Kh.columns[i]] = 0\n",
    "        \n",
    "\n",
    "    inclinacion = incl * math.pi/180\n",
    "    orientacion = orient * math.pi/180\n",
    "    lat = lat * math.pi/180\n",
    "    angulo_salida_solar = angulo_salida_sol(lat, dia_declinacion)\n",
    "    \n",
    "    \n",
    "    # Obtener dataframe de radiacion para el dia actual \n",
    "  \n",
    "    df_radiacion_horaria = calculo_radiacion_horaria(dia_Gh,\n",
    "                                                    list(dia_Kh.iloc[0]), \n",
    "                                                    list(dia_Acimut_h.iloc[0]), \n",
    "                                                    list(dia_Altura_h.iloc[0]), \n",
    "                                                    list(dia_Angulo_h.iloc[0]),\n",
    "                                                    dia_declinacion,\n",
    "                                                    lat,\n",
    "                                                    inclinacion,\n",
    "                                                    orientacion,\n",
    "                                                    angulo_salida_solar)\n",
    "     \n",
    "    # Temperatura ambiente y velocidad de viento\n",
    "    \n",
    "    temperatura_ambiente = ta\n",
    "    \n",
    "    vel_viento = []\n",
    "    for i in range (0, len(temperatura_ambiente)):\n",
    "        vel_viento.append(3.5)\n",
    "    \n",
    "    # Se calcula la energia\n",
    "    \n",
    "    potencia_dia_h = potencia_generada(temperatura_ambiente, list(df_radiacion_horaria[\"r_global_h\"]), vel_viento, ppico)\n",
    "        \n",
    "        \n",
    "    # Saber cuantas horas adelantar los datos para pasarlos a hora local\n",
    "    \n",
    "    horas_atrasar = verano_invierno(datetime.strptime(fecha, '%Y-%m-%d').date())\n",
    "    \n",
    "    if (horas_atrasar == 1):\n",
    "        potencia_dia_h = [0,0,0,0,0] + list(potencia_dia_h) + [0,0,0]\n",
    "    else:\n",
    "        potencia_dia_h = [0,0,0,0,0,0] + list(potencia_dia_h) + [0,0]\n",
    "        \n",
    "        \n",
    "    return potencia_dia_h\n"
   ]
  },
  {
   "cell_type": "markdown",
   "metadata": {},
   "source": [
    "Se convierte a .py para poder utilizarlo en ``Interfaz.ipynb``"
   ]
  },
  {
   "cell_type": "code",
   "execution_count": 22,
   "metadata": {},
   "outputs": [],
   "source": [
    "#! jupyter nbconvert --to script 'Funciones_solares.ipynb'"
   ]
  }
 ],
 "metadata": {
  "kernelspec": {
   "display_name": "Python 3",
   "language": "python",
   "name": "python3"
  },
  "language_info": {
   "codemirror_mode": {
    "name": "ipython",
    "version": 3
   },
   "file_extension": ".py",
   "mimetype": "text/x-python",
   "name": "python",
   "nbconvert_exporter": "python",
   "pygments_lexer": "ipython3",
   "version": "3.8.5"
  }
 },
 "nbformat": 4,
 "nbformat_minor": 4
}
