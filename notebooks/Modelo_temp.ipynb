{
 "cells": [
  {
   "cell_type": "markdown",
   "metadata": {},
   "source": [
    "# Modelo de predicción: Temperatura ambiente\n",
    "En este notebook se entrenarán diferentes algoritmos de ML para desarrollar el modelo de predicción de la temperatura ambiente horaria con los datasets obtenidos de:\n",
    "\n",
    "\n",
    "**Radiación del día anterior a la llamada** https://opendata.aemet.es/centrodedescargas/productosAEMET<br>\n",
    "**Radiación solar de dos días antes del día de obtención de datos** http://www.soda-pro.com/web-services/radiation/cams-radiation-service<br>\n",
    "**Datos climáticos de los cinco días anteriores a la llamada** https://openweathermap.org/api/one-call-api#history<br>\n",
    "**Predicción climática de los dos días siguientes a la llamada** https://openweathermap.org/api/one-call-api<br>\n",
    "\n",
    "- [Preparación](#Preparación)<br>\n",
    "\n",
    "### 1. [Se importan los datos a usar para entrenar y validar el modelo](#Se-importan-los-datos-a-usar-para-entrenar-y-validar-el-modelo)\n",
    "\n",
    "### 2. [Se dividen los datos en train y test](#Se-dividen-los-datos-en-train-y-test)\n",
    "\n",
    "### 3. [Modelo base](#Modelo-base)\n",
    "\n",
    "### 4. [Regresión lineal](#Regresión-lineal)\n",
    "\n",
    "### 5. [k-Nearest Neighbors](#k-Nearest-Neighbors)\n",
    "\n",
    "### 6. [Árbol de decisión](#Árbol-de-decisión)\n",
    "\n",
    "### 7. [Regresión polinomial](#Regresión-polinomial)\n",
    "\n",
    "### 8. [Gradient boosting](#Gradient-boosting)\n",
    "\n",
    "### 9. [Random forest](#Random-forest)\n",
    "\n",
    "### 10. [GridSearchCV](#GridSearchCV)\n",
    "\n",
    "### 11. [Regresión lineal con GridSearchCV](#Regresión-lineal-con-GridSearchCV)\n",
    "\n",
    "### 12. [k-Nearest Neighbors con GridSearchCV](#k-Nearest-Neighbors-con-GridSearchCV)\n",
    "\n",
    "### 13. [Árbol de decisión con GridSearchCV](#Árbol-de-decisión-con-GridSearchCV)\n",
    "\n",
    "### 14. [Gradient boosting con GridSearchCV](#Gradient-boosting-con-GridSearchCV)\n",
    "\n",
    "### 15. [Random forest con Regressor RandomizedSearchCV](#Random-forest-con-Regressor-RandomizedSearchCV)\n",
    "\n",
    "### 16. [Tensorflow](#Tensorflow)\n",
    "\n",
    "### 17. [Selección de modelo](#Selección-de-modelo)\n",
    "\n",
    "### 18. [Se comprueba que no haya sobreajuste](#Se-comprueba-que-no-haya-sobreajuste)\n",
    "\n",
    "### 19. [Se guarda el modelo](#Se-guarda-el-modelo)\n"
   ]
  },
  {
   "cell_type": "markdown",
   "metadata": {},
   "source": [
    "## Nota previa\n",
    "Para poder ejecutar el script adecuadamente hay que utilizar la siguiente línea de comando para abrir el notebook desde la terminal:"
   ]
  },
  {
   "cell_type": "code",
   "execution_count": 1,
   "metadata": {},
   "outputs": [],
   "source": [
    "#jupyter-lab --NotebookApp.iopub_data_rate_limit=1.0e15"
   ]
  },
  {
   "cell_type": "markdown",
   "metadata": {},
   "source": [
    "**PRECAUCIÓN:** Tarda muchas horas en correr"
   ]
  },
  {
   "cell_type": "markdown",
   "metadata": {},
   "source": [
    "## Preparación"
   ]
  },
  {
   "cell_type": "markdown",
   "metadata": {},
   "source": [
    "Se fija el directorio de trabajo"
   ]
  },
  {
   "cell_type": "code",
   "execution_count": 2,
   "metadata": {},
   "outputs": [
    {
     "name": "stdout",
     "output_type": "stream",
     "text": [
      "/home/dsc/git/TFM\n"
     ]
    }
   ],
   "source": [
    "%cd /home/dsc/git/TFM/"
   ]
  },
  {
   "cell_type": "code",
   "execution_count": 3,
   "metadata": {},
   "outputs": [],
   "source": [
    "directorio = '/home/dsc/git/TFM/'"
   ]
  },
  {
   "cell_type": "markdown",
   "metadata": {},
   "source": [
    "### ``dividir_train_test()``\n",
    "Esta función divide los datos en sets de train y de test:\n",
    "- Train: prop (Por defecto, 80%)\n",
    "- Test: 100% - prop"
   ]
  },
  {
   "cell_type": "code",
   "execution_count": 4,
   "metadata": {},
   "outputs": [],
   "source": [
    "def dividir_train_test(x,y, prop = 0.8):\n",
    "    \n",
    "    # Proporción de train\n",
    "    tam_train = prop\n",
    "\n",
    "    # Divido en train y test\n",
    "    x_train, x_test, y_train, y_test = train_test_split(x, y, train_size = tam_train, random_state = 1)\n",
    "\n",
    "    print('x_train: {}%. Nº de datos: {}'.format((len(x_train)/len(x))*100, len(x_train)))\n",
    "    print('y_train: {}%. Nº de datos: {}'.format((len(y_train)/len(y))*100, len(y_train)))\n",
    "\n",
    "\n",
    "    print('x_test: {}%. Nº de datos: {}'.format((len(x_test)/len(x))*100, len(x_test)))\n",
    "    print('y_test: {}%. Nº de datos: {}'.format((len(y_test)/len(y))*100, len(y_test)))\n",
    "    \n",
    "    return x_train, x_test, y_train, y_test"
   ]
  },
  {
   "cell_type": "markdown",
   "metadata": {},
   "source": [
    "### ``graf_compara()``\n",
    "\n",
    "Esta función representa mediante barras verticales los valores reales frente a los predichos.  "
   ]
  },
  {
   "cell_type": "code",
   "execution_count": 5,
   "metadata": {
    "scrolled": true
   },
   "outputs": [],
   "source": [
    "def graf_compara(nombre_modelo, y_real, y_pred):\n",
    "    \n",
    "    # Valores predicción\n",
    "    predic = pd.DataFrame({'Dato': y_pred})\n",
    "    predic.insert(len(predic.columns),\"index\",[i for i in range(0,len(predic[\"Dato\"]))],True)\n",
    "    \n",
    "    # Valores reales\n",
    "    real = pd.DataFrame({'Dato': y_real})\n",
    "    real.insert(len(real.columns),\"index\",[i for i in range(0,len(real[\"Dato\"]))],True)\n",
    "    \n",
    "    # Comparación\n",
    "    comparacion = pd.concat([real, predic], keys=[\"Real\", \"Prediccion\"]).reset_index()\n",
    "    comparacion.drop(['level_1'], axis=1, inplace = True)\n",
    "    comparacion.columns = ['Tipo', 'Dato', \"Index\"]\n",
    "    #print(comparacion)\n",
    "\n",
    "    sns.catplot(data = comparacion, kind = \"bar\", x = \"Index\", y = \"Dato\", hue = \"Tipo\", estimator = np.median, height = 10, aspect = 5)"
   ]
  },
  {
   "cell_type": "markdown",
   "metadata": {},
   "source": [
    "### ``mape_fun()``"
   ]
  },
  {
   "cell_type": "code",
   "execution_count": 6,
   "metadata": {},
   "outputs": [],
   "source": [
    "def mape_fun(y_real, y_pred): \n",
    "    y_real, y_pred = np.array(y_real), np.array(y_pred)\n",
    "    return np.mean(np.abs((y_real - y_pred) / y_real)) * 100"
   ]
  },
  {
   "cell_type": "markdown",
   "metadata": {},
   "source": [
    "### ``metricas()``\n",
    "\n",
    "Esta función calcula las diferentes métricas de la predicción arrojada por el modelo  \n",
    "\n",
    "Métricas: ``mae``, ``mse``,``rmse``, ``r2``, ``mape``"
   ]
  },
  {
   "cell_type": "code",
   "execution_count": 7,
   "metadata": {},
   "outputs": [],
   "source": [
    "def metricas(modelo, y_real, y_pred):\n",
    "    \n",
    "    from sklearn.metrics import mean_absolute_error, mean_squared_error, r2_score\n",
    "    \n",
    "    # MAE: el error se calcula como un promedio de diferencias absolutas entre los valores objetivo y las predicciones. Todas las diferencias individuales se ponderan por igual en el promedio.\n",
    "    mae = mean_absolute_error(y_real, y_pred)\n",
    "\n",
    "    # MSE: mide el error cuadrado promedio de las predicciones. Para cada punto, calcula la diferencia cuadrada entre las predicciones y el objetivo y luego promedia esos valores.\n",
    "    mse = mean_squared_error(y_real, y_pred, squared = False)\n",
    "    \n",
    "    # RMSE: es la raíz cuadrada de MSE. Tiene la escala de la variable objetivo.\n",
    "    rmse = np.sqrt(mean_squared_error(y_real, y_pred))\n",
    "    \n",
    "    # R^2: está estrechamente relacionada con la MSE, pero tiene la ventaja de estar libre de escala. Está siempre entre -∞ y 1.\n",
    "    r2 = r2_score(y_real, y_pred)\n",
    "    \n",
    "    # MAPE: Para cada objeto, el error absoluto se divide por el valor objetivo, dando un error relativo.\n",
    "    #mape = mape_fun(y_real, y_pred)\n",
    "    \n",
    "    \n",
    "    print('MODEL: ', modelo)\n",
    "    print('MAE: ', mae)\n",
    "    print('MSE: ', mse)\n",
    "    print('RMSE: ', rmse)\n",
    "    print('R2 : ', r2)\n",
    "    #print('MAPE : ', mape)\n",
    "    \n",
    "    #return modelo, mae, mse, rmse, r2, mape\n",
    "    return modelo, mae, mse, rmse, r2"
   ]
  },
  {
   "cell_type": "markdown",
   "metadata": {},
   "source": [
    "### ``compracion_metricas()``\n",
    "\n",
    "Esta función representa las métricas de cada modelo entrenado, para poder compararlas."
   ]
  },
  {
   "cell_type": "code",
   "execution_count": 8,
   "metadata": {},
   "outputs": [],
   "source": [
    "def compracion_metricas(lista_modelos):\n",
    "    \n",
    "    plt.style.use('ggplot')\n",
    "    \n",
    "    # Creamos dataframes para albergar las métricas\n",
    "    df_mae = pd.DataFrame(columns = ['mae', \"modelo\"])\n",
    "    df_mse = pd.DataFrame(columns = ['mse', \"modelo\"])\n",
    "    df_rmse = pd.DataFrame(columns = ['rmse', \"modelo\"])\n",
    "    df_r2 = pd.DataFrame(columns = ['r2', \"modelo\"])\n",
    "    #df_mape = pd.DataFrame(columns = ['mape', \"modelo\"])\n",
    "\n",
    "    # Se llenan los dataframes con las métricas\n",
    "    for modelo in lista_modelos:\n",
    "        \n",
    "        df_mae = df_mae.append({'mae': modelo[1], \"modelo\": modelo[0]}, ignore_index=True)\n",
    "        df_mse = df_mse.append({'mse': modelo[2], \"modelo\": modelo[0]}, ignore_index=True)\n",
    "        df_rmse = df_rmse.append({'rmse': modelo[3], \"modelo\": modelo[0]}, ignore_index=True)\n",
    "        df_r2 = df_r2.append({'r2': modelo[4], \"modelo\": modelo[0]}, ignore_index=True)\n",
    "        #df_mape = df_mape.append({'mape': modelo[5], \"modelo\": modelo[0]}, ignore_index=True)\n",
    "    \n",
    "    # Se crea la figura y añado los subplots de cada métrica\n",
    "    fig = plt.figure(figsize = (15, len(lista_modelos*4)))\n",
    "    ax1 = fig.add_subplot(5,1,1)\n",
    "    ax2 = fig.add_subplot(5,1,2)\n",
    "    ax3 = fig.add_subplot(5,1,3)\n",
    "    ax4 = fig.add_subplot(5,1,4)\n",
    "    #ax5 = fig.add_subplot(5,1,5)\n",
    "    \n",
    "    #MAE\n",
    "    fig = sns.barplot(x = \"mae\", y = \"modelo\", data = df_mae, ax = ax1, orient = \"h\", color = 'green').set_title(\"Comparación de métricas\")\n",
    "    ax1.tick_params(labelbottom = False, bottom = False)\n",
    "    ax1.set_xlabel(\"MAE\")\n",
    "    ax1.set_ylabel(\" \")\n",
    "    for pa in ax1.patches:\n",
    "        ax1.annotate(\"%.4f\" % pa.get_width(), xy = (pa.get_width(), pa.get_y() + pa.get_height()/2),\n",
    "            xytext = (5, 0), textcoords = 'offset points', ha = \"left\", va = \"center\")\n",
    "    \n",
    "    #MSE\n",
    "    fig = sns.barplot(x = \"mse\", y = \"modelo\", data = df_mse, ax = ax2, orient = \"h\", color = 'red')\n",
    "    ax2.tick_params(labelbottom = False, bottom = False)\n",
    "    ax2.set_xlabel(\"MSE\")\n",
    "    ax2.set_ylabel(\" \")\n",
    "    for pa in ax2.patches:\n",
    "        ax2.annotate(\"%.4f\" % pa.get_width(), xy = (pa.get_width(), pa.get_y() + pa.get_height()/2),\n",
    "            xytext = (5, 0), textcoords = 'offset points', ha = \"left\", va = \"center\")\n",
    "        \n",
    "    #RMSE\n",
    "    fig = sns.barplot(x = \"rmse\", y = \"modelo\", data = df_rmse, ax = ax3, orient = \"h\", color = 'blue')\n",
    "    ax3.tick_params(labelbottom = False, bottom = False)\n",
    "    ax3.set_xlabel(\"RMSE\")\n",
    "    ax3.set_ylabel(\" \")\n",
    "    for pa in ax3.patches:\n",
    "        ax3.annotate(\"%.4f\" % pa.get_width(), xy = (pa.get_width(), pa.get_y() + pa.get_height()/2),\n",
    "            xytext = (5, 0), textcoords = 'offset points', ha = \"left\", va = \"center\")\n",
    "\n",
    "    #R2\n",
    "    fig = sns.barplot(x = \"r2\", y = \"modelo\", data = df_r2, ax = ax4, orient = \"h\", color = 'yellow')\n",
    "    ax4.set_xlabel(\"R2\")\n",
    "    ax4.set_ylabel(\" \")\n",
    "    ax4.tick_params(labelbottom = False, bottom = False)\n",
    "    for pa in ax4.patches:\n",
    "        ax4.annotate(\"%.4f\" % pa.get_width(), xy = (pa.get_width(), pa.get_y() + pa.get_height()/2),\n",
    "            xytext = (5, 0), textcoords = 'offset points', ha = \"left\", va = \"center\")\n",
    "        \n",
    "    #MAPE\n",
    "    #fig = sns.barplot(x = \"mape\", y = \"modelo\", data = df_mape, ax = ax5, orient = \"h\", color = 'grey')\n",
    "    #ax5.set_xlabel(\"Valor de la métrica\")\n",
    "    #ax5.set_ylabel(\" \")\n",
    "    #ax5.tick_params(labelbottom = False, bottom = False)\n",
    "    #for pa in ax5.patches:\n",
    "    #    ax5.annotate(\"%.4f\" % pa.get_width(), xy = (pa.get_width(), pa.get_y() + pa.get_height()/2),\n",
    "    #        xytext = (5, 0), textcoords = 'offset points', ha = \"left\", va = \"center\")"
   ]
  },
  {
   "cell_type": "markdown",
   "metadata": {},
   "source": [
    "Se importan las librerías necesarias"
   ]
  },
  {
   "cell_type": "code",
   "execution_count": 9,
   "metadata": {},
   "outputs": [],
   "source": [
    "import pandas as pd\n",
    "import numpy as np\n",
    "import matplotlib.pyplot as plt\n",
    "import seaborn as sns\n",
    "pd.options.display.max_columns = None\n",
    "pd.options.display.max_rows = None\n",
    "\n",
    "from sklearn.model_selection import train_test_split\n",
    "from sklearn.metrics import mean_absolute_error, mean_squared_error, r2_score\n",
    "from sklearn.pipeline import Pipeline\n",
    "from sklearn.preprocessing import StandardScaler\n",
    "from sklearn.decomposition import PCA\n",
    "from sklearn.model_selection import cross_val_score"
   ]
  },
  {
   "cell_type": "markdown",
   "metadata": {},
   "source": [
    "# Se importan los datos a usar para entrenar y validar el modelo\n",
    "\n",
    "<div style = \"float:right\"><a style=\"text-decoration:none\" href = \"#Modelo-de-predicción:-Temperatura-ambiente\">"
   ]
  },
  {
   "cell_type": "code",
   "execution_count": null,
   "metadata": {
    "scrolled": true
   },
   "outputs": [
    {
     "name": "stderr",
     "output_type": "stream",
     "text": [
      "ERROR:root:Internal Python error in the inspect module.\n",
      "Below is the traceback from this internal error.\n",
      "\n",
      "ERROR:root:Internal Python error in the inspect module.\n",
      "Below is the traceback from this internal error.\n",
      "\n"
     ]
    },
    {
     "name": "stdout",
     "output_type": "stream",
     "text": [
      "Traceback (most recent call last):\n",
      "  File \"/home/dsc/anaconda3/lib/python3.8/site-packages/IPython/core/interactiveshell.py\", line 3418, in run_code\n",
      "    exec(code_obj, self.user_global_ns, self.user_ns)\n",
      "  File \"<ipython-input-10-e4bc47267508>\", line 1, in <module>\n",
      "    df_datos = pd.read_csv('./data/Modelo_2/Datos_modelo_2.csv', sep=',')\n",
      "  File \"/home/dsc/anaconda3/lib/python3.8/site-packages/pandas/io/parsers.py\", line 686, in read_csv\n",
      "    return _read(filepath_or_buffer, kwds)\n",
      "  File \"/home/dsc/anaconda3/lib/python3.8/site-packages/pandas/io/parsers.py\", line 458, in _read\n",
      "    data = parser.read(nrows)\n",
      "  File \"/home/dsc/anaconda3/lib/python3.8/site-packages/pandas/io/parsers.py\", line 1196, in read\n",
      "    ret = self._engine.read(nrows)\n",
      "  File \"/home/dsc/anaconda3/lib/python3.8/site-packages/pandas/io/parsers.py\", line 2155, in read\n",
      "    data = self._reader.read(nrows)\n",
      "  File \"pandas/_libs/parsers.pyx\", line 847, in pandas._libs.parsers.TextReader.read\n",
      "  File \"pandas/_libs/parsers.pyx\", line 862, in pandas._libs.parsers.TextReader._read_low_memory\n",
      "  File \"pandas/_libs/parsers.pyx\", line 941, in pandas._libs.parsers.TextReader._read_rows\n",
      "  File \"pandas/_libs/parsers.pyx\", line 1073, in pandas._libs.parsers.TextReader._convert_column_data\n",
      "  File \"pandas/_libs/parsers.pyx\", line 1119, in pandas._libs.parsers.TextReader._convert_tokens\n",
      "  File \"pandas/_libs/parsers.pyx\", line 1162, in pandas._libs.parsers.TextReader._convert_with_dtype\n",
      "  File \"/home/dsc/anaconda3/lib/python3.8/site-packages/pandas/core/dtypes/common.py\", line 530, in is_categorical_dtype\n",
      "    def is_categorical_dtype(arr_or_dtype) -> bool:\n",
      "KeyboardInterrupt\n",
      "\n",
      "During handling of the above exception, another exception occurred:\n",
      "\n",
      "Traceback (most recent call last):\n",
      "  File \"/home/dsc/anaconda3/lib/python3.8/site-packages/IPython/core/interactiveshell.py\", line 2045, in showtraceback\n",
      "    stb = value._render_traceback_()\n",
      "AttributeError: 'KeyboardInterrupt' object has no attribute '_render_traceback_'\n",
      "\n",
      "During handling of the above exception, another exception occurred:\n",
      "\n",
      "Traceback (most recent call last):\n",
      "  File \"/home/dsc/anaconda3/lib/python3.8/site-packages/IPython/core/ultratb.py\", line 1170, in get_records\n",
      "    return _fixed_getinnerframes(etb, number_of_lines_of_context, tb_offset)\n",
      "  File \"/home/dsc/anaconda3/lib/python3.8/site-packages/IPython/core/ultratb.py\", line 316, in wrapped\n",
      "    return f(*args, **kwargs)\n",
      "  File \"/home/dsc/anaconda3/lib/python3.8/site-packages/IPython/core/ultratb.py\", line 350, in _fixed_getinnerframes\n",
      "    records = fix_frame_records_filenames(inspect.getinnerframes(etb, context))\n",
      "  File \"/home/dsc/anaconda3/lib/python3.8/inspect.py\", line 1503, in getinnerframes\n",
      "    frameinfo = (tb.tb_frame,) + getframeinfo(tb, context)\n",
      "  File \"/home/dsc/anaconda3/lib/python3.8/inspect.py\", line 1461, in getframeinfo\n",
      "    filename = getsourcefile(frame) or getfile(frame)\n",
      "  File \"/home/dsc/anaconda3/lib/python3.8/inspect.py\", line 708, in getsourcefile\n",
      "    if getattr(getmodule(object, filename), '__loader__', None) is not None:\n",
      "  File \"/home/dsc/anaconda3/lib/python3.8/inspect.py\", line 751, in getmodule\n",
      "    f = getabsfile(module)\n",
      "  File \"/home/dsc/anaconda3/lib/python3.8/inspect.py\", line 720, in getabsfile\n",
      "    _filename = getsourcefile(object) or getfile(object)\n",
      "  File \"/home/dsc/anaconda3/lib/python3.8/inspect.py\", line 705, in getsourcefile\n",
      "    if os.path.exists(filename):\n",
      "  File \"/home/dsc/anaconda3/lib/python3.8/genericpath.py\", line 19, in exists\n",
      "    os.stat(path)\n",
      "KeyboardInterrupt\n",
      "Traceback (most recent call last):\n",
      "  File \"/home/dsc/anaconda3/lib/python3.8/site-packages/IPython/core/interactiveshell.py\", line 3418, in run_code\n",
      "    exec(code_obj, self.user_global_ns, self.user_ns)\n",
      "  File \"<ipython-input-10-e4bc47267508>\", line 1, in <module>\n",
      "    df_datos = pd.read_csv('./data/Modelo_2/Datos_modelo_2.csv', sep=',')\n",
      "  File \"/home/dsc/anaconda3/lib/python3.8/site-packages/pandas/io/parsers.py\", line 686, in read_csv\n",
      "    return _read(filepath_or_buffer, kwds)\n",
      "  File \"/home/dsc/anaconda3/lib/python3.8/site-packages/pandas/io/parsers.py\", line 458, in _read\n",
      "    data = parser.read(nrows)\n",
      "  File \"/home/dsc/anaconda3/lib/python3.8/site-packages/pandas/io/parsers.py\", line 1196, in read\n",
      "    ret = self._engine.read(nrows)\n",
      "  File \"/home/dsc/anaconda3/lib/python3.8/site-packages/pandas/io/parsers.py\", line 2155, in read\n",
      "    data = self._reader.read(nrows)\n",
      "  File \"pandas/_libs/parsers.pyx\", line 847, in pandas._libs.parsers.TextReader.read\n",
      "  File \"pandas/_libs/parsers.pyx\", line 862, in pandas._libs.parsers.TextReader._read_low_memory\n",
      "  File \"pandas/_libs/parsers.pyx\", line 941, in pandas._libs.parsers.TextReader._read_rows\n",
      "  File \"pandas/_libs/parsers.pyx\", line 1073, in pandas._libs.parsers.TextReader._convert_column_data\n",
      "  File \"pandas/_libs/parsers.pyx\", line 1119, in pandas._libs.parsers.TextReader._convert_tokens\n",
      "  File \"pandas/_libs/parsers.pyx\", line 1162, in pandas._libs.parsers.TextReader._convert_with_dtype\n",
      "  File \"/home/dsc/anaconda3/lib/python3.8/site-packages/pandas/core/dtypes/common.py\", line 530, in is_categorical_dtype\n",
      "    def is_categorical_dtype(arr_or_dtype) -> bool:\n",
      "KeyboardInterrupt\n",
      "\n",
      "During handling of the above exception, another exception occurred:\n",
      "\n",
      "Traceback (most recent call last):\n",
      "  File \"/home/dsc/anaconda3/lib/python3.8/site-packages/IPython/core/interactiveshell.py\", line 2045, in showtraceback\n",
      "    stb = value._render_traceback_()\n",
      "AttributeError: 'KeyboardInterrupt' object has no attribute '_render_traceback_'\n",
      "\n",
      "During handling of the above exception, another exception occurred:\n",
      "\n",
      "Traceback (most recent call last):\n",
      "  File \"/home/dsc/anaconda3/lib/python3.8/site-packages/IPython/core/interactiveshell.py\", line 3338, in run_ast_nodes\n",
      "    if (await self.run_code(code, result,  async_=asy)):\n",
      "  File \"/home/dsc/anaconda3/lib/python3.8/site-packages/IPython/core/interactiveshell.py\", line 3435, in run_code\n",
      "    self.showtraceback(running_compiled_code=True)\n",
      "  File \"/home/dsc/anaconda3/lib/python3.8/site-packages/IPython/core/interactiveshell.py\", line 2047, in showtraceback\n",
      "    stb = self.InteractiveTB.structured_traceback(etype,\n",
      "  File \"/home/dsc/anaconda3/lib/python3.8/site-packages/IPython/core/ultratb.py\", line 1436, in structured_traceback\n",
      "    return FormattedTB.structured_traceback(\n",
      "  File \"/home/dsc/anaconda3/lib/python3.8/site-packages/IPython/core/ultratb.py\", line 1336, in structured_traceback\n",
      "    return VerboseTB.structured_traceback(\n",
      "  File \"/home/dsc/anaconda3/lib/python3.8/site-packages/IPython/core/ultratb.py\", line 1193, in structured_traceback\n",
      "    formatted_exception = self.format_exception_as_a_whole(etype, evalue, etb, number_of_lines_of_context,\n",
      "  File \"/home/dsc/anaconda3/lib/python3.8/site-packages/IPython/core/ultratb.py\", line 1151, in format_exception_as_a_whole\n",
      "    last_unique, recursion_repeat = find_recursion(orig_etype, evalue, records)\n",
      "  File \"/home/dsc/anaconda3/lib/python3.8/site-packages/IPython/core/ultratb.py\", line 451, in find_recursion\n",
      "    return len(records), 0\n",
      "TypeError: object of type 'NoneType' has no len()\n",
      "\n",
      "During handling of the above exception, another exception occurred:\n",
      "\n",
      "Traceback (most recent call last):\n",
      "  File \"/home/dsc/anaconda3/lib/python3.8/site-packages/IPython/core/interactiveshell.py\", line 2045, in showtraceback\n",
      "    stb = value._render_traceback_()\n",
      "AttributeError: 'TypeError' object has no attribute '_render_traceback_'\n",
      "\n",
      "During handling of the above exception, another exception occurred:\n",
      "\n",
      "Traceback (most recent call last):\n",
      "  File \"/home/dsc/anaconda3/lib/python3.8/site-packages/IPython/core/ultratb.py\", line 1170, in get_records\n",
      "    return _fixed_getinnerframes(etb, number_of_lines_of_context, tb_offset)\n",
      "  File \"/home/dsc/anaconda3/lib/python3.8/site-packages/IPython/core/ultratb.py\", line 316, in wrapped\n",
      "    return f(*args, **kwargs)\n",
      "  File \"/home/dsc/anaconda3/lib/python3.8/site-packages/IPython/core/ultratb.py\", line 350, in _fixed_getinnerframes\n",
      "    records = fix_frame_records_filenames(inspect.getinnerframes(etb, context))\n",
      "  File \"/home/dsc/anaconda3/lib/python3.8/inspect.py\", line 1503, in getinnerframes\n",
      "    frameinfo = (tb.tb_frame,) + getframeinfo(tb, context)\n",
      "  File \"/home/dsc/anaconda3/lib/python3.8/inspect.py\", line 1461, in getframeinfo\n",
      "    filename = getsourcefile(frame) or getfile(frame)\n",
      "  File \"/home/dsc/anaconda3/lib/python3.8/inspect.py\", line 708, in getsourcefile\n",
      "    if getattr(getmodule(object, filename), '__loader__', None) is not None:\n",
      "  File \"/home/dsc/anaconda3/lib/python3.8/inspect.py\", line 754, in getmodule\n",
      "    os.path.realpath(f)] = module.__name__\n",
      "  File \"/home/dsc/anaconda3/lib/python3.8/posixpath.py\", line 391, in realpath\n",
      "    path, ok = _joinrealpath(filename[:0], filename, {})\n",
      "  File \"/home/dsc/anaconda3/lib/python3.8/posixpath.py\", line 424, in _joinrealpath\n",
      "    newpath = join(path, name)\n",
      "  File \"/home/dsc/anaconda3/lib/python3.8/posixpath.py\", line 82, in join\n",
      "    for b in map(os.fspath, p):\n",
      "KeyboardInterrupt\n"
     ]
    },
    {
     "name": "stderr",
     "output_type": "stream",
     "text": [
      "ERROR:root:Internal Python error in the inspect module.\n",
      "Below is the traceback from this internal error.\n",
      "\n"
     ]
    },
    {
     "name": "stdout",
     "output_type": "stream",
     "text": [
      "Traceback (most recent call last):\n",
      "  File \"/home/dsc/anaconda3/lib/python3.8/site-packages/IPython/core/interactiveshell.py\", line 3418, in run_code\n",
      "    exec(code_obj, self.user_global_ns, self.user_ns)\n",
      "  File \"<ipython-input-10-e4bc47267508>\", line 1, in <module>\n",
      "    df_datos = pd.read_csv('./data/Modelo_2/Datos_modelo_2.csv', sep=',')\n",
      "  File \"/home/dsc/anaconda3/lib/python3.8/site-packages/pandas/io/parsers.py\", line 686, in read_csv\n",
      "    return _read(filepath_or_buffer, kwds)\n",
      "  File \"/home/dsc/anaconda3/lib/python3.8/site-packages/pandas/io/parsers.py\", line 458, in _read\n",
      "    data = parser.read(nrows)\n",
      "  File \"/home/dsc/anaconda3/lib/python3.8/site-packages/pandas/io/parsers.py\", line 1196, in read\n",
      "    ret = self._engine.read(nrows)\n",
      "  File \"/home/dsc/anaconda3/lib/python3.8/site-packages/pandas/io/parsers.py\", line 2155, in read\n",
      "    data = self._reader.read(nrows)\n",
      "  File \"pandas/_libs/parsers.pyx\", line 847, in pandas._libs.parsers.TextReader.read\n",
      "  File \"pandas/_libs/parsers.pyx\", line 862, in pandas._libs.parsers.TextReader._read_low_memory\n",
      "  File \"pandas/_libs/parsers.pyx\", line 941, in pandas._libs.parsers.TextReader._read_rows\n",
      "  File \"pandas/_libs/parsers.pyx\", line 1073, in pandas._libs.parsers.TextReader._convert_column_data\n",
      "  File \"pandas/_libs/parsers.pyx\", line 1119, in pandas._libs.parsers.TextReader._convert_tokens\n",
      "  File \"pandas/_libs/parsers.pyx\", line 1162, in pandas._libs.parsers.TextReader._convert_with_dtype\n",
      "  File \"/home/dsc/anaconda3/lib/python3.8/site-packages/pandas/core/dtypes/common.py\", line 530, in is_categorical_dtype\n",
      "    def is_categorical_dtype(arr_or_dtype) -> bool:\n",
      "KeyboardInterrupt\n",
      "\n",
      "During handling of the above exception, another exception occurred:\n",
      "\n",
      "Traceback (most recent call last):\n",
      "  File \"/home/dsc/anaconda3/lib/python3.8/site-packages/IPython/core/interactiveshell.py\", line 2045, in showtraceback\n",
      "    stb = value._render_traceback_()\n",
      "AttributeError: 'KeyboardInterrupt' object has no attribute '_render_traceback_'\n",
      "\n",
      "During handling of the above exception, another exception occurred:\n",
      "\n",
      "Traceback (most recent call last):\n",
      "  File \"/home/dsc/anaconda3/lib/python3.8/site-packages/IPython/core/interactiveshell.py\", line 3338, in run_ast_nodes\n",
      "    if (await self.run_code(code, result,  async_=asy)):\n",
      "  File \"/home/dsc/anaconda3/lib/python3.8/site-packages/IPython/core/interactiveshell.py\", line 3435, in run_code\n",
      "    self.showtraceback(running_compiled_code=True)\n",
      "  File \"/home/dsc/anaconda3/lib/python3.8/site-packages/IPython/core/interactiveshell.py\", line 2047, in showtraceback\n",
      "    stb = self.InteractiveTB.structured_traceback(etype,\n",
      "  File \"/home/dsc/anaconda3/lib/python3.8/site-packages/IPython/core/ultratb.py\", line 1436, in structured_traceback\n",
      "    return FormattedTB.structured_traceback(\n",
      "  File \"/home/dsc/anaconda3/lib/python3.8/site-packages/IPython/core/ultratb.py\", line 1336, in structured_traceback\n",
      "    return VerboseTB.structured_traceback(\n",
      "  File \"/home/dsc/anaconda3/lib/python3.8/site-packages/IPython/core/ultratb.py\", line 1193, in structured_traceback\n",
      "    formatted_exception = self.format_exception_as_a_whole(etype, evalue, etb, number_of_lines_of_context,\n",
      "  File \"/home/dsc/anaconda3/lib/python3.8/site-packages/IPython/core/ultratb.py\", line 1151, in format_exception_as_a_whole\n",
      "    last_unique, recursion_repeat = find_recursion(orig_etype, evalue, records)\n",
      "  File \"/home/dsc/anaconda3/lib/python3.8/site-packages/IPython/core/ultratb.py\", line 451, in find_recursion\n",
      "    return len(records), 0\n",
      "TypeError: object of type 'NoneType' has no len()\n",
      "\n",
      "During handling of the above exception, another exception occurred:\n",
      "\n",
      "Traceback (most recent call last):\n",
      "  File \"/home/dsc/anaconda3/lib/python3.8/site-packages/IPython/core/interactiveshell.py\", line 2045, in showtraceback\n",
      "    stb = value._render_traceback_()\n",
      "AttributeError: 'TypeError' object has no attribute '_render_traceback_'\n",
      "\n",
      "During handling of the above exception, another exception occurred:\n",
      "\n",
      "Traceback (most recent call last):\n",
      "  File \"/home/dsc/anaconda3/lib/python3.8/site-packages/IPython/core/interactiveshell.py\", line 2923, in _run_cell\n",
      "    return runner(coro)\n",
      "  File \"/home/dsc/anaconda3/lib/python3.8/site-packages/IPython/core/async_helpers.py\", line 68, in _pseudo_sync_runner\n",
      "    coro.send(None)\n",
      "  File \"/home/dsc/anaconda3/lib/python3.8/site-packages/IPython/core/interactiveshell.py\", line 3146, in run_cell_async\n",
      "    has_raised = await self.run_ast_nodes(code_ast.body, cell_name,\n",
      "  File \"/home/dsc/anaconda3/lib/python3.8/site-packages/IPython/core/interactiveshell.py\", line 3357, in run_ast_nodes\n",
      "    self.showtraceback()\n",
      "  File \"/home/dsc/anaconda3/lib/python3.8/site-packages/IPython/core/interactiveshell.py\", line 2047, in showtraceback\n",
      "    stb = self.InteractiveTB.structured_traceback(etype,\n",
      "  File \"/home/dsc/anaconda3/lib/python3.8/site-packages/IPython/core/ultratb.py\", line 1436, in structured_traceback\n",
      "    return FormattedTB.structured_traceback(\n",
      "  File \"/home/dsc/anaconda3/lib/python3.8/site-packages/IPython/core/ultratb.py\", line 1336, in structured_traceback\n",
      "    return VerboseTB.structured_traceback(\n",
      "  File \"/home/dsc/anaconda3/lib/python3.8/site-packages/IPython/core/ultratb.py\", line 1211, in structured_traceback\n",
      "    formatted_exceptions += self.format_exception_as_a_whole(etype, evalue, etb, lines_of_context,\n",
      "  File \"/home/dsc/anaconda3/lib/python3.8/site-packages/IPython/core/ultratb.py\", line 1151, in format_exception_as_a_whole\n",
      "    last_unique, recursion_repeat = find_recursion(orig_etype, evalue, records)\n",
      "  File \"/home/dsc/anaconda3/lib/python3.8/site-packages/IPython/core/ultratb.py\", line 451, in find_recursion\n",
      "    return len(records), 0\n",
      "TypeError: object of type 'NoneType' has no len()\n",
      "\n",
      "During handling of the above exception, another exception occurred:\n",
      "\n",
      "Traceback (most recent call last):\n",
      "  File \"/home/dsc/anaconda3/lib/python3.8/site-packages/IPython/core/interactiveshell.py\", line 2045, in showtraceback\n",
      "    stb = value._render_traceback_()\n",
      "AttributeError: 'TypeError' object has no attribute '_render_traceback_'\n",
      "\n",
      "During handling of the above exception, another exception occurred:\n",
      "\n",
      "Traceback (most recent call last):\n",
      "  File \"/home/dsc/anaconda3/lib/python3.8/site-packages/IPython/core/ultratb.py\", line 1170, in get_records\n",
      "    return _fixed_getinnerframes(etb, number_of_lines_of_context, tb_offset)\n",
      "  File \"/home/dsc/anaconda3/lib/python3.8/site-packages/IPython/core/ultratb.py\", line 316, in wrapped\n",
      "    return f(*args, **kwargs)\n",
      "  File \"/home/dsc/anaconda3/lib/python3.8/site-packages/IPython/core/ultratb.py\", line 350, in _fixed_getinnerframes\n",
      "    records = fix_frame_records_filenames(inspect.getinnerframes(etb, context))\n",
      "  File \"/home/dsc/anaconda3/lib/python3.8/inspect.py\", line 1503, in getinnerframes\n",
      "    frameinfo = (tb.tb_frame,) + getframeinfo(tb, context)\n",
      "  File \"/home/dsc/anaconda3/lib/python3.8/inspect.py\", line 1461, in getframeinfo\n",
      "    filename = getsourcefile(frame) or getfile(frame)\n",
      "  File \"/home/dsc/anaconda3/lib/python3.8/inspect.py\", line 708, in getsourcefile\n",
      "    if getattr(getmodule(object, filename), '__loader__', None) is not None:\n",
      "  File \"/home/dsc/anaconda3/lib/python3.8/inspect.py\", line 754, in getmodule\n",
      "    os.path.realpath(f)] = module.__name__\n",
      "  File \"/home/dsc/anaconda3/lib/python3.8/posixpath.py\", line 391, in realpath\n",
      "    path, ok = _joinrealpath(filename[:0], filename, {})\n",
      "  File \"/home/dsc/anaconda3/lib/python3.8/posixpath.py\", line 425, in _joinrealpath\n",
      "    if not islink(newpath):\n",
      "  File \"/home/dsc/anaconda3/lib/python3.8/posixpath.py\", line 167, in islink\n",
      "    st = os.lstat(path)\n",
      "KeyboardInterrupt\n"
     ]
    }
   ],
   "source": [
    "df_datos = pd.read_csv('./data/Modelo_2/Datos_modelo_2.csv', sep=',')\n",
    "\n",
    "df_datos.head()"
   ]
  },
  {
   "cell_type": "code",
   "execution_count": null,
   "metadata": {},
   "outputs": [
    {
     "name": "stdout",
     "output_type": "stream",
     "text": [
      "ERROR! Session/line number was not unique in database. History logging moved to new session 1265\n"
     ]
    },
    {
     "name": "stderr",
     "output_type": "stream",
     "text": [
      "ERROR:root:Internal Python error in the inspect module.\n",
      "Below is the traceback from this internal error.\n",
      "\n"
     ]
    },
    {
     "name": "stdout",
     "output_type": "stream",
     "text": [
      "Traceback (most recent call last):\n",
      "  File \"/home/dsc/anaconda3/lib/python3.8/site-packages/IPython/core/interactiveshell.py\", line 3418, in run_code\n",
      "    exec(code_obj, self.user_global_ns, self.user_ns)\n",
      "  File \"<ipython-input-10-bff733bc63d0>\", line 2, in <module>\n",
      "    df_datos = df_datos[[\"hora\"] + list(df_datos.columns)[3:]]\n",
      "NameError: name 'df_datos' is not defined\n",
      "\n",
      "During handling of the above exception, another exception occurred:\n",
      "\n",
      "Traceback (most recent call last):\n",
      "  File \"/home/dsc/anaconda3/lib/python3.8/site-packages/IPython/core/interactiveshell.py\", line 2045, in showtraceback\n",
      "    stb = value._render_traceback_()\n",
      "AttributeError: 'NameError' object has no attribute '_render_traceback_'\n",
      "\n",
      "During handling of the above exception, another exception occurred:\n",
      "\n",
      "Traceback (most recent call last):\n",
      "  File \"/home/dsc/anaconda3/lib/python3.8/site-packages/IPython/core/ultratb.py\", line 1170, in get_records\n",
      "    return _fixed_getinnerframes(etb, number_of_lines_of_context, tb_offset)\n",
      "  File \"/home/dsc/anaconda3/lib/python3.8/site-packages/IPython/core/ultratb.py\", line 316, in wrapped\n",
      "    return f(*args, **kwargs)\n",
      "  File \"/home/dsc/anaconda3/lib/python3.8/site-packages/IPython/core/ultratb.py\", line 350, in _fixed_getinnerframes\n",
      "    records = fix_frame_records_filenames(inspect.getinnerframes(etb, context))\n",
      "  File \"/home/dsc/anaconda3/lib/python3.8/inspect.py\", line 1503, in getinnerframes\n",
      "    frameinfo = (tb.tb_frame,) + getframeinfo(tb, context)\n",
      "  File \"/home/dsc/anaconda3/lib/python3.8/inspect.py\", line 1461, in getframeinfo\n",
      "    filename = getsourcefile(frame) or getfile(frame)\n",
      "  File \"/home/dsc/anaconda3/lib/python3.8/inspect.py\", line 708, in getsourcefile\n",
      "    if getattr(getmodule(object, filename), '__loader__', None) is not None:\n",
      "  File \"/home/dsc/anaconda3/lib/python3.8/inspect.py\", line 754, in getmodule\n",
      "    os.path.realpath(f)] = module.__name__\n",
      "  File \"/home/dsc/anaconda3/lib/python3.8/posixpath.py\", line 391, in realpath\n",
      "    path, ok = _joinrealpath(filename[:0], filename, {})\n",
      "  File \"/home/dsc/anaconda3/lib/python3.8/posixpath.py\", line 425, in _joinrealpath\n",
      "    if not islink(newpath):\n",
      "  File \"/home/dsc/anaconda3/lib/python3.8/posixpath.py\", line 167, in islink\n",
      "    st = os.lstat(path)\n",
      "KeyboardInterrupt\n"
     ]
    },
    {
     "name": "stderr",
     "output_type": "stream",
     "text": [
      "ERROR:root:Internal Python error in the inspect module.\n",
      "Below is the traceback from this internal error.\n",
      "\n"
     ]
    },
    {
     "name": "stdout",
     "output_type": "stream",
     "text": [
      "Traceback (most recent call last):\n",
      "  File \"/home/dsc/anaconda3/lib/python3.8/site-packages/IPython/core/interactiveshell.py\", line 3418, in run_code\n",
      "    exec(code_obj, self.user_global_ns, self.user_ns)\n",
      "  File \"<ipython-input-10-bff733bc63d0>\", line 2, in <module>\n",
      "    df_datos = df_datos[[\"hora\"] + list(df_datos.columns)[3:]]\n",
      "NameError: name 'df_datos' is not defined\n",
      "\n",
      "During handling of the above exception, another exception occurred:\n",
      "\n",
      "Traceback (most recent call last):\n",
      "  File \"/home/dsc/anaconda3/lib/python3.8/site-packages/IPython/core/interactiveshell.py\", line 2045, in showtraceback\n",
      "    stb = value._render_traceback_()\n",
      "AttributeError: 'NameError' object has no attribute '_render_traceback_'\n",
      "\n",
      "During handling of the above exception, another exception occurred:\n",
      "\n",
      "Traceback (most recent call last):\n",
      "  File \"/home/dsc/anaconda3/lib/python3.8/site-packages/IPython/core/interactiveshell.py\", line 3338, in run_ast_nodes\n",
      "    if (await self.run_code(code, result,  async_=asy)):\n",
      "  File \"/home/dsc/anaconda3/lib/python3.8/site-packages/IPython/core/interactiveshell.py\", line 3435, in run_code\n",
      "    self.showtraceback(running_compiled_code=True)\n",
      "  File \"/home/dsc/anaconda3/lib/python3.8/site-packages/IPython/core/interactiveshell.py\", line 2047, in showtraceback\n",
      "    stb = self.InteractiveTB.structured_traceback(etype,\n",
      "  File \"/home/dsc/anaconda3/lib/python3.8/site-packages/IPython/core/ultratb.py\", line 1436, in structured_traceback\n",
      "    return FormattedTB.structured_traceback(\n",
      "  File \"/home/dsc/anaconda3/lib/python3.8/site-packages/IPython/core/ultratb.py\", line 1336, in structured_traceback\n",
      "    return VerboseTB.structured_traceback(\n",
      "  File \"/home/dsc/anaconda3/lib/python3.8/site-packages/IPython/core/ultratb.py\", line 1193, in structured_traceback\n",
      "    formatted_exception = self.format_exception_as_a_whole(etype, evalue, etb, number_of_lines_of_context,\n",
      "  File \"/home/dsc/anaconda3/lib/python3.8/site-packages/IPython/core/ultratb.py\", line 1151, in format_exception_as_a_whole\n",
      "    last_unique, recursion_repeat = find_recursion(orig_etype, evalue, records)\n",
      "  File \"/home/dsc/anaconda3/lib/python3.8/site-packages/IPython/core/ultratb.py\", line 451, in find_recursion\n",
      "    return len(records), 0\n",
      "TypeError: object of type 'NoneType' has no len()\n",
      "\n",
      "During handling of the above exception, another exception occurred:\n",
      "\n",
      "Traceback (most recent call last):\n",
      "  File \"/home/dsc/anaconda3/lib/python3.8/site-packages/IPython/core/interactiveshell.py\", line 2045, in showtraceback\n",
      "    stb = value._render_traceback_()\n",
      "AttributeError: 'TypeError' object has no attribute '_render_traceback_'\n",
      "\n",
      "During handling of the above exception, another exception occurred:\n",
      "\n",
      "Traceback (most recent call last):\n",
      "  File \"/home/dsc/anaconda3/lib/python3.8/site-packages/IPython/core/ultratb.py\", line 1170, in get_records\n",
      "    return _fixed_getinnerframes(etb, number_of_lines_of_context, tb_offset)\n",
      "  File \"/home/dsc/anaconda3/lib/python3.8/site-packages/IPython/core/ultratb.py\", line 316, in wrapped\n",
      "    return f(*args, **kwargs)\n",
      "  File \"/home/dsc/anaconda3/lib/python3.8/site-packages/IPython/core/ultratb.py\", line 350, in _fixed_getinnerframes\n",
      "    records = fix_frame_records_filenames(inspect.getinnerframes(etb, context))\n",
      "  File \"/home/dsc/anaconda3/lib/python3.8/inspect.py\", line 1503, in getinnerframes\n",
      "    frameinfo = (tb.tb_frame,) + getframeinfo(tb, context)\n",
      "  File \"/home/dsc/anaconda3/lib/python3.8/inspect.py\", line 1461, in getframeinfo\n",
      "    filename = getsourcefile(frame) or getfile(frame)\n",
      "  File \"/home/dsc/anaconda3/lib/python3.8/inspect.py\", line 708, in getsourcefile\n",
      "    if getattr(getmodule(object, filename), '__loader__', None) is not None:\n",
      "  File \"/home/dsc/anaconda3/lib/python3.8/inspect.py\", line 754, in getmodule\n",
      "    os.path.realpath(f)] = module.__name__\n",
      "  File \"/home/dsc/anaconda3/lib/python3.8/posixpath.py\", line 392, in realpath\n",
      "    return abspath(path)\n",
      "  File \"/home/dsc/anaconda3/lib/python3.8/posixpath.py\", line 375, in abspath\n",
      "    if not isabs(path):\n",
      "KeyboardInterrupt\n"
     ]
    },
    {
     "name": "stderr",
     "output_type": "stream",
     "text": [
      "ERROR:root:Internal Python error in the inspect module.\n",
      "Below is the traceback from this internal error.\n",
      "\n"
     ]
    },
    {
     "name": "stdout",
     "output_type": "stream",
     "text": [
      "Traceback (most recent call last):\n",
      "  File \"/home/dsc/anaconda3/lib/python3.8/site-packages/IPython/core/interactiveshell.py\", line 3418, in run_code\n",
      "    exec(code_obj, self.user_global_ns, self.user_ns)\n",
      "  File \"<ipython-input-10-bff733bc63d0>\", line 2, in <module>\n",
      "    df_datos = df_datos[[\"hora\"] + list(df_datos.columns)[3:]]\n",
      "NameError: name 'df_datos' is not defined\n",
      "\n",
      "During handling of the above exception, another exception occurred:\n",
      "\n",
      "Traceback (most recent call last):\n",
      "  File \"/home/dsc/anaconda3/lib/python3.8/site-packages/IPython/core/interactiveshell.py\", line 2045, in showtraceback\n",
      "    stb = value._render_traceback_()\n",
      "AttributeError: 'NameError' object has no attribute '_render_traceback_'\n",
      "\n",
      "During handling of the above exception, another exception occurred:\n",
      "\n",
      "Traceback (most recent call last):\n",
      "  File \"/home/dsc/anaconda3/lib/python3.8/site-packages/IPython/core/interactiveshell.py\", line 3338, in run_ast_nodes\n",
      "    if (await self.run_code(code, result,  async_=asy)):\n",
      "  File \"/home/dsc/anaconda3/lib/python3.8/site-packages/IPython/core/interactiveshell.py\", line 3435, in run_code\n",
      "    self.showtraceback(running_compiled_code=True)\n",
      "  File \"/home/dsc/anaconda3/lib/python3.8/site-packages/IPython/core/interactiveshell.py\", line 2047, in showtraceback\n",
      "    stb = self.InteractiveTB.structured_traceback(etype,\n",
      "  File \"/home/dsc/anaconda3/lib/python3.8/site-packages/IPython/core/ultratb.py\", line 1436, in structured_traceback\n",
      "    return FormattedTB.structured_traceback(\n",
      "  File \"/home/dsc/anaconda3/lib/python3.8/site-packages/IPython/core/ultratb.py\", line 1336, in structured_traceback\n",
      "    return VerboseTB.structured_traceback(\n",
      "  File \"/home/dsc/anaconda3/lib/python3.8/site-packages/IPython/core/ultratb.py\", line 1193, in structured_traceback\n",
      "    formatted_exception = self.format_exception_as_a_whole(etype, evalue, etb, number_of_lines_of_context,\n",
      "  File \"/home/dsc/anaconda3/lib/python3.8/site-packages/IPython/core/ultratb.py\", line 1151, in format_exception_as_a_whole\n",
      "    last_unique, recursion_repeat = find_recursion(orig_etype, evalue, records)\n",
      "  File \"/home/dsc/anaconda3/lib/python3.8/site-packages/IPython/core/ultratb.py\", line 451, in find_recursion\n",
      "    return len(records), 0\n",
      "TypeError: object of type 'NoneType' has no len()\n",
      "\n",
      "During handling of the above exception, another exception occurred:\n",
      "\n",
      "Traceback (most recent call last):\n",
      "  File \"/home/dsc/anaconda3/lib/python3.8/site-packages/IPython/core/interactiveshell.py\", line 2045, in showtraceback\n",
      "    stb = value._render_traceback_()\n",
      "AttributeError: 'TypeError' object has no attribute '_render_traceback_'\n",
      "\n",
      "During handling of the above exception, another exception occurred:\n",
      "\n",
      "Traceback (most recent call last):\n",
      "  File \"/home/dsc/anaconda3/lib/python3.8/site-packages/IPython/core/interactiveshell.py\", line 2923, in _run_cell\n",
      "    return runner(coro)\n",
      "  File \"/home/dsc/anaconda3/lib/python3.8/site-packages/IPython/core/async_helpers.py\", line 68, in _pseudo_sync_runner\n",
      "    coro.send(None)\n",
      "  File \"/home/dsc/anaconda3/lib/python3.8/site-packages/IPython/core/interactiveshell.py\", line 3146, in run_cell_async\n",
      "    has_raised = await self.run_ast_nodes(code_ast.body, cell_name,\n",
      "  File \"/home/dsc/anaconda3/lib/python3.8/site-packages/IPython/core/interactiveshell.py\", line 3357, in run_ast_nodes\n",
      "    self.showtraceback()\n",
      "  File \"/home/dsc/anaconda3/lib/python3.8/site-packages/IPython/core/interactiveshell.py\", line 2047, in showtraceback\n",
      "    stb = self.InteractiveTB.structured_traceback(etype,\n",
      "  File \"/home/dsc/anaconda3/lib/python3.8/site-packages/IPython/core/ultratb.py\", line 1436, in structured_traceback\n",
      "    return FormattedTB.structured_traceback(\n",
      "  File \"/home/dsc/anaconda3/lib/python3.8/site-packages/IPython/core/ultratb.py\", line 1336, in structured_traceback\n",
      "    return VerboseTB.structured_traceback(\n",
      "  File \"/home/dsc/anaconda3/lib/python3.8/site-packages/IPython/core/ultratb.py\", line 1211, in structured_traceback\n",
      "    formatted_exceptions += self.format_exception_as_a_whole(etype, evalue, etb, lines_of_context,\n",
      "  File \"/home/dsc/anaconda3/lib/python3.8/site-packages/IPython/core/ultratb.py\", line 1151, in format_exception_as_a_whole\n",
      "    last_unique, recursion_repeat = find_recursion(orig_etype, evalue, records)\n",
      "  File \"/home/dsc/anaconda3/lib/python3.8/site-packages/IPython/core/ultratb.py\", line 451, in find_recursion\n",
      "    return len(records), 0\n",
      "TypeError: object of type 'NoneType' has no len()\n",
      "\n",
      "During handling of the above exception, another exception occurred:\n",
      "\n",
      "Traceback (most recent call last):\n",
      "  File \"/home/dsc/anaconda3/lib/python3.8/site-packages/IPython/core/interactiveshell.py\", line 2045, in showtraceback\n",
      "    stb = value._render_traceback_()\n",
      "AttributeError: 'TypeError' object has no attribute '_render_traceback_'\n",
      "\n",
      "During handling of the above exception, another exception occurred:\n",
      "\n",
      "Traceback (most recent call last):\n",
      "  File \"/home/dsc/anaconda3/lib/python3.8/site-packages/IPython/core/ultratb.py\", line 1170, in get_records\n",
      "    return _fixed_getinnerframes(etb, number_of_lines_of_context, tb_offset)\n",
      "  File \"/home/dsc/anaconda3/lib/python3.8/site-packages/IPython/core/ultratb.py\", line 316, in wrapped\n",
      "    return f(*args, **kwargs)\n",
      "  File \"/home/dsc/anaconda3/lib/python3.8/site-packages/IPython/core/ultratb.py\", line 350, in _fixed_getinnerframes\n",
      "    records = fix_frame_records_filenames(inspect.getinnerframes(etb, context))\n",
      "  File \"/home/dsc/anaconda3/lib/python3.8/inspect.py\", line 1503, in getinnerframes\n",
      "    frameinfo = (tb.tb_frame,) + getframeinfo(tb, context)\n",
      "  File \"/home/dsc/anaconda3/lib/python3.8/inspect.py\", line 1465, in getframeinfo\n",
      "    lines, lnum = findsource(frame)\n",
      "  File \"/home/dsc/anaconda3/lib/python3.8/site-packages/IPython/core/ultratb.py\", line 229, in findsource\n",
      "    if pmatch(lines[lnum]):\n",
      "KeyboardInterrupt\n"
     ]
    }
   ],
   "source": [
    "#Selecciono las columnas de interés\n",
    "df_datos = df_datos[[\"hora\"] + list(df_datos.columns)[3:]]\n",
    "df_datos.head()"
   ]
  },
  {
   "cell_type": "markdown",
   "metadata": {},
   "source": [
    "Se determina la columna objetivo, las columnas útilies como entradas del modelo y las columnas mínimas para el modelo base"
   ]
  },
  {
   "cell_type": "code",
   "execution_count": 10,
   "metadata": {},
   "outputs": [
    {
     "name": "stdout",
     "output_type": "stream",
     "text": [
      "ERROR! Session/line number was not unique in database. History logging moved to new session 1266\n"
     ]
    },
    {
     "ename": "NameError",
     "evalue": "name 'df_datos' is not defined",
     "output_type": "error",
     "traceback": [
      "\u001b[0;31m---------------------------------------------------------------------------\u001b[0m",
      "\u001b[0;31mNameError\u001b[0m                                 Traceback (most recent call last)",
      "\u001b[0;32m<ipython-input-10-2d601eb87eaa>\u001b[0m in \u001b[0;36m<module>\u001b[0;34m\u001b[0m\n\u001b[0;32m----> 1\u001b[0;31m \u001b[0mdf_datos\u001b[0m\u001b[0;34m.\u001b[0m\u001b[0mshape\u001b[0m\u001b[0;34m\u001b[0m\u001b[0;34m\u001b[0m\u001b[0m\n\u001b[0m",
      "\u001b[0;31mNameError\u001b[0m: name 'df_datos' is not defined"
     ]
    }
   ],
   "source": [
    "df_datos.shape"
   ]
  },
  {
   "cell_type": "code",
   "execution_count": null,
   "metadata": {},
   "outputs": [],
   "source": [
    "columnas_utiles = list(df_datos.columns[:-2])\n",
    "columnas_objetivo = ['temp_objetivo']\n",
    "columnas_minimas = ['hora'] + list(columnas_objetivo)"
   ]
  },
  {
   "cell_type": "markdown",
   "metadata": {},
   "source": [
    "### Separo las variables en x e y\n",
    "\n",
    "En función de si son columna dato u objetivo"
   ]
  },
  {
   "cell_type": "code",
   "execution_count": null,
   "metadata": {
    "scrolled": true
   },
   "outputs": [],
   "source": [
    "df = df_datos\n",
    "\n",
    "x = df[columnas_utiles]\n",
    "y = df[columnas_objetivo]\n",
    "\n",
    "display(x.head())\n",
    "display(y.head())"
   ]
  },
  {
   "cell_type": "markdown",
   "metadata": {},
   "source": [
    "# Se dividen los datos en train y test\n",
    "\n",
    "<div style = \"float:right\"><a style=\"text-decoration:none\" href = \"#Modelo-de-predicción:-Temperatura-ambiente\">"
   ]
  },
  {
   "cell_type": "code",
   "execution_count": null,
   "metadata": {
    "scrolled": true
   },
   "outputs": [],
   "source": [
    "x_train, x_test, y_train, y_test = dividir_train_test(x,y, 0.7)"
   ]
  },
  {
   "cell_type": "markdown",
   "metadata": {},
   "source": [
    "# Estandarización\n",
    "<div style = \"float:right\"><a style=\"text-decoration:none\" href = \"#Modelo-de-predicción:-Radiación-solar\">"
   ]
  },
  {
   "cell_type": "code",
   "execution_count": null,
   "metadata": {},
   "outputs": [],
   "source": [
    "x_train.head()"
   ]
  },
  {
   "cell_type": "code",
   "execution_count": null,
   "metadata": {},
   "outputs": [],
   "source": [
    "x_test.head()"
   ]
  },
  {
   "cell_type": "markdown",
   "metadata": {},
   "source": [
    "Se aplica la estandarización ``StandardScaler`` a los datos, eliminando la media y escalando los datos de forma que su varianza sea igual a 1"
   ]
  },
  {
   "cell_type": "markdown",
   "metadata": {},
   "source": [
    "Conjunto de train"
   ]
  },
  {
   "cell_type": "code",
   "execution_count": null,
   "metadata": {
    "scrolled": true
   },
   "outputs": [],
   "source": [
    "from sklearn.preprocessing import StandardScaler\n",
    "\n",
    "scaler = StandardScaler()\n",
    "columnas = x_train.columns\n",
    "x_train_normal = scaler.fit_transform(x_train[columnas])\n",
    "x_train_normal = pd.DataFrame(x_train_normal, columns = columnas)\n",
    "\n",
    "print(x_train_normal.head())"
   ]
  },
  {
   "cell_type": "markdown",
   "metadata": {},
   "source": [
    "Se archiva el Scaler"
   ]
  },
  {
   "cell_type": "code",
   "execution_count": null,
   "metadata": {},
   "outputs": [],
   "source": [
    "import pickle as pk\n",
    "\n",
    "with open(directorio + 'data/Modelo_2/scaler_temp.pkl', 'wb') as file:\n",
    "            pk.dump(scaler, file)"
   ]
  },
  {
   "cell_type": "markdown",
   "metadata": {},
   "source": [
    "Conjunto de test"
   ]
  },
  {
   "cell_type": "code",
   "execution_count": null,
   "metadata": {},
   "outputs": [],
   "source": [
    "columnas = x_test.columns\n",
    "x_test_normal = scaler.transform(x_test[columnas])\n",
    "x_test_normal = pd.DataFrame(x_test_normal, columns = columnas)\n",
    "\n",
    "print(x_test_normal.head())"
   ]
  },
  {
   "cell_type": "code",
   "execution_count": null,
   "metadata": {},
   "outputs": [],
   "source": [
    "x_train_normal.shape"
   ]
  },
  {
   "cell_type": "code",
   "execution_count": null,
   "metadata": {},
   "outputs": [],
   "source": [
    "x_test_normal.shape"
   ]
  },
  {
   "cell_type": "markdown",
   "metadata": {},
   "source": [
    "# PCA\n",
    "<div style = \"float:right\"><a style=\"text-decoration:none\" href = \"#Modelo-de-predicción:-Temperatura-ambiente\">"
   ]
  },
  {
   "cell_type": "markdown",
   "metadata": {},
   "source": [
    "Se aplica PCA al dataset. El análisis de componentes principales (PCA) es una técnica utilizada para describir un conjunto de datos en términos de nuevas variables («componentes») no correlacionadas. El PCA busca la proyección según la cual los datos queden mejor representados en términos de mínimos cuadrados. Esta convierte un conjunto de observaciones de variables posiblemente correlacionadas en un conjunto de valores de variables sin correlación lineal llamadas componentes principales. "
   ]
  },
  {
   "cell_type": "markdown",
   "metadata": {},
   "source": [
    "Conjunto de train"
   ]
  },
  {
   "cell_type": "code",
   "execution_count": null,
   "metadata": {},
   "outputs": [],
   "source": [
    "from sklearn.decomposition import PCA\n",
    "\n",
    "pca = PCA(n_components = \"mle\")\n",
    "principalComponents = pca.fit_transform(x_train_normal)\n",
    "x_train_pca = pd.DataFrame(data = principalComponents)"
   ]
  },
  {
   "cell_type": "markdown",
   "metadata": {},
   "source": [
    "En este caso, el número de componentes será:"
   ]
  },
  {
   "cell_type": "code",
   "execution_count": null,
   "metadata": {},
   "outputs": [],
   "source": [
    "pca.n_components_"
   ]
  },
  {
   "cell_type": "markdown",
   "metadata": {},
   "source": [
    "Se representa la varianza explicada acumulada en función del número de componentes, para tratar de buscar el número para el que la curva satura."
   ]
  },
  {
   "cell_type": "code",
   "execution_count": null,
   "metadata": {},
   "outputs": [],
   "source": [
    "plt.plot(np.cumsum(pca.explained_variance_ratio_))\n",
    "plt.xlabel('number of components')\n",
    "plt.ylabel('cumulative explained variance');"
   ]
  },
  {
   "cell_type": "markdown",
   "metadata": {},
   "source": [
    "Se observa que la curva satura con 62 componentes, que serán las que se utilizen"
   ]
  },
  {
   "cell_type": "code",
   "execution_count": null,
   "metadata": {},
   "outputs": [],
   "source": [
    "pca = PCA(n_components = 62)\n",
    "principalComponents = pca.fit_transform(x_train_normal)\n",
    "x_train_pca = pd.DataFrame(data = principalComponents)"
   ]
  },
  {
   "cell_type": "code",
   "execution_count": null,
   "metadata": {},
   "outputs": [],
   "source": [
    "plt.plot(np.cumsum(pca.explained_variance_ratio_))\n",
    "plt.xlabel('number of components')\n",
    "plt.ylabel('cumulative explained variance');"
   ]
  },
  {
   "cell_type": "markdown",
   "metadata": {},
   "source": [
    "Se archiva el PCA"
   ]
  },
  {
   "cell_type": "code",
   "execution_count": null,
   "metadata": {},
   "outputs": [],
   "source": [
    "import pickle as pk\n",
    "\n",
    "with open(directorio + 'data/Modelo_2/pca_temp.pkl', 'wb') as file:\n",
    "            pk.dump(pca, file)"
   ]
  },
  {
   "cell_type": "markdown",
   "metadata": {},
   "source": [
    "Conjunto de test"
   ]
  },
  {
   "cell_type": "code",
   "execution_count": null,
   "metadata": {},
   "outputs": [],
   "source": [
    "principalComponents = pca.transform(x_test_normal)\n",
    "x_test_pca = pd.DataFrame(data = principalComponents)"
   ]
  },
  {
   "cell_type": "code",
   "execution_count": null,
   "metadata": {},
   "outputs": [],
   "source": [
    "x_train_pca.head()"
   ]
  },
  {
   "cell_type": "code",
   "execution_count": null,
   "metadata": {},
   "outputs": [],
   "source": [
    "x_train_pca.shape"
   ]
  },
  {
   "cell_type": "code",
   "execution_count": null,
   "metadata": {},
   "outputs": [],
   "source": [
    "x_test_pca.head()"
   ]
  },
  {
   "cell_type": "code",
   "execution_count": null,
   "metadata": {},
   "outputs": [],
   "source": [
    "x_test_pca.shape"
   ]
  },
  {
   "cell_type": "markdown",
   "metadata": {},
   "source": [
    "### Sanity check"
   ]
  },
  {
   "cell_type": "markdown",
   "metadata": {},
   "source": [
    "Se comprueba si alguna de las componentes no sigue una distribución normal"
   ]
  },
  {
   "cell_type": "code",
   "execution_count": null,
   "metadata": {
    "scrolled": true
   },
   "outputs": [],
   "source": [
    "for i in range(3, len(x_train_pca.columns)):\n",
    "    sns.set()\n",
    "    cols = list(x_train_pca.columns)[i]\n",
    "    sns.displot(x_train_pca[cols])\n",
    "    plt.show();"
   ]
  },
  {
   "cell_type": "markdown",
   "metadata": {},
   "source": [
    "Se comprueba que ninguna de las variables requiere del uso de transformaciones Yeo-Johnson o Box-Cox."
   ]
  },
  {
   "cell_type": "markdown",
   "metadata": {},
   "source": [
    "Se comprueba que las diferentes componentes no tiene relación entre si"
   ]
  },
  {
   "cell_type": "code",
   "execution_count": null,
   "metadata": {},
   "outputs": [],
   "source": [
    "corrmat = x_train_pca[x_train_pca.columns[5:]].corr()\n",
    "f, ax = plt.subplots(figsize = (12, 9))\n",
    "sns.heatmap(corrmat, vmax = 0.8, square = True);"
   ]
  },
  {
   "cell_type": "markdown",
   "metadata": {},
   "source": [
    "# Modelo base\n",
    "\n",
    "<div style = \"float:right\"><a style=\"text-decoration:none\" href = \"#Modelo-de-predicción:-Temperatura-ambiente\">"
   ]
  },
  {
   "cell_type": "markdown",
   "metadata": {},
   "source": [
    "Se genera un primer modelo como base para las comparaciones. Este sencillamente obtiene el valor medio por hora de la función objetivo, asignando el valor predicción en función de la hora de los datos de entrada."
   ]
  },
  {
   "cell_type": "code",
   "execution_count": null,
   "metadata": {
    "scrolled": true
   },
   "outputs": [],
   "source": [
    "# Datos a usar\n",
    "datos_media = df[columnas_minimas]\n",
    "\n",
    "# Se obtienen las medias por hora\n",
    "datos_media = datos_media.groupby(columnas_minimas[:-1]).mean()\n",
    "datos_media"
   ]
  },
  {
   "cell_type": "code",
   "execution_count": null,
   "metadata": {},
   "outputs": [],
   "source": [
    "def modelo_medias_hora(datos, x_test):\n",
    "    datos = pd.DataFrame(datos).reset_index()\n",
    "    \n",
    "    # Se seleccionan las columnas de interés\n",
    "    x_test = x_test[columnas_minimas[:-1]]\n",
    "    \n",
    "    # Se asigna el valor medio por hora\n",
    "    predicciones = []\n",
    "    [predicciones.append([datos[datos[columnas_minimas[:-1][0]] == fila[columnas_minimas[:-1][0]]][[columnas_objetivo[0]]][columnas_objetivo[0]].iloc[0]][0]) for index,fila in x_test.iterrows()]\n",
    "\n",
    "    return predicciones"
   ]
  },
  {
   "cell_type": "code",
   "execution_count": null,
   "metadata": {
    "scrolled": true
   },
   "outputs": [],
   "source": [
    "pred_media = modelo_medias_hora(datos_media, x_test)\n",
    "pred_media[:1000]"
   ]
  },
  {
   "cell_type": "markdown",
   "metadata": {},
   "source": [
    "Se comparan visualmente algunos valores ejemplo de predicción"
   ]
  },
  {
   "cell_type": "code",
   "execution_count": null,
   "metadata": {},
   "outputs": [],
   "source": [
    "y_test_ = list(y_test.iloc[:,0])\n",
    "graf_compara('Modelo medias horarias', y_test_[:100], pred_media[:100])"
   ]
  },
  {
   "cell_type": "markdown",
   "metadata": {},
   "source": [
    "Se comparan visualmente los valores de predicción y la tendencia general de los valores objetivo"
   ]
  },
  {
   "cell_type": "code",
   "execution_count": null,
   "metadata": {
    "scrolled": true
   },
   "outputs": [],
   "source": [
    "sns.regplot(x = y_test, y = pred_media,  scatter_kws = {\"color\": \"green\"}, line_kws = {\"color\": \"red\"}).set_title('Modelo medias horarias');"
   ]
  },
  {
   "cell_type": "markdown",
   "metadata": {},
   "source": [
    "Se obtienen las métricas de los resultados del modelo"
   ]
  },
  {
   "cell_type": "code",
   "execution_count": null,
   "metadata": {
    "scrolled": true
   },
   "outputs": [],
   "source": [
    "metricas_media = metricas('Modelo de medias horarias', y_test, pred_media)"
   ]
  },
  {
   "cell_type": "code",
   "execution_count": null,
   "metadata": {},
   "outputs": [],
   "source": [
    "%store metricas_media"
   ]
  },
  {
   "cell_type": "code",
   "execution_count": null,
   "metadata": {},
   "outputs": [],
   "source": [
    "%store -r metricas_media"
   ]
  },
  {
   "cell_type": "code",
   "execution_count": null,
   "metadata": {},
   "outputs": [],
   "source": [
    "x_train = x_train_pca\n",
    "x_test = x_test_pca"
   ]
  },
  {
   "cell_type": "markdown",
   "metadata": {},
   "source": [
    "# Regresión lineal\n",
    "\n",
    "<div style = \"float:right\"><a style=\"text-decoration:none\" href = \"#Modelo-de-predicción:-Temperatura-ambiente\">"
   ]
  },
  {
   "cell_type": "markdown",
   "metadata": {},
   "source": [
    "Se utiliza para estimar valores reales en función de variables continuas. Aquí, se establece la relación entre las variables independientes y dependientes mediante una recta. Esta línea de ajuste se conoce como línea de regresión y está representada por una ecuación lineal: ``Y = a * X + b``."
   ]
  },
  {
   "cell_type": "code",
   "execution_count": null,
   "metadata": {},
   "outputs": [],
   "source": [
    "from sklearn.linear_model import LinearRegression\n",
    "\n",
    "# Creo el modelo y lo entreno\n",
    "regre = LinearRegression()\n",
    "regre.fit(x_train, y_train)\n",
    "\n",
    "# Obtengo la predicción\n",
    "pred_reg_lineal_ = regre.predict(x_test)"
   ]
  },
  {
   "cell_type": "code",
   "execution_count": null,
   "metadata": {
    "scrolled": true
   },
   "outputs": [],
   "source": [
    "pred_reg_lineal = []\n",
    "[pred_reg_lineal.append(y[0]) for y in pred_reg_lineal_.tolist()]\n",
    "pred_reg_lineal[:1000]"
   ]
  },
  {
   "cell_type": "markdown",
   "metadata": {},
   "source": [
    "Se comparan visualmente algunos valores ejemplo de predicción"
   ]
  },
  {
   "cell_type": "code",
   "execution_count": null,
   "metadata": {},
   "outputs": [],
   "source": [
    "graf_compara('Modelo de regresión lineal', list(y_test[columnas_objetivo[0]])[:100], pred_reg_lineal[:100])"
   ]
  },
  {
   "cell_type": "markdown",
   "metadata": {},
   "source": [
    "Se comparan visualmente los valores de predicción y la tendencia general de los valores objetivo"
   ]
  },
  {
   "cell_type": "code",
   "execution_count": null,
   "metadata": {
    "scrolled": true
   },
   "outputs": [],
   "source": [
    "sns.regplot(x = y_test, y = pred_reg_lineal,  scatter_kws = {\"color\": \"green\"}, line_kws = {\"color\": \"red\"}).set_title('Modelo regresión lineal');"
   ]
  },
  {
   "cell_type": "markdown",
   "metadata": {},
   "source": [
    "Se obtienen las métricas de los resultados del modelo"
   ]
  },
  {
   "cell_type": "code",
   "execution_count": null,
   "metadata": {},
   "outputs": [],
   "source": [
    "metricas_regresion_lineal = metricas('Modelo de regresión lineal', y_test, pred_reg_lineal)"
   ]
  },
  {
   "cell_type": "code",
   "execution_count": null,
   "metadata": {},
   "outputs": [],
   "source": [
    "compracion_metricas([metricas_media,\n",
    "                     metricas_regresion_lineal])"
   ]
  },
  {
   "cell_type": "code",
   "execution_count": null,
   "metadata": {},
   "outputs": [],
   "source": [
    "%store metricas_regresion_lineal"
   ]
  },
  {
   "cell_type": "code",
   "execution_count": null,
   "metadata": {},
   "outputs": [],
   "source": [
    "%store -r metricas_regresion_lineal"
   ]
  },
  {
   "cell_type": "markdown",
   "metadata": {},
   "source": [
    "# k-Nearest Neighbors\n",
    "\n",
    "<div style = \"float:right\"><a style=\"text-decoration:none\" href = \"#Modelo-de-predicción:-Temperatura-ambiente\">"
   ]
  },
  {
   "cell_type": "markdown",
   "metadata": {},
   "source": [
    "Se puede utilizar tanto para problemas de clasificación como de regresión. kNN es un algoritmo simple que almacena todos los casos disponibles y clasifica los casos nuevos por mayoría de votos de sus k vecinos. El caso que se asigna a la clase es el más común entre sus K vecinos más cercanos medidos por una función de distancia."
   ]
  },
  {
   "cell_type": "code",
   "execution_count": null,
   "metadata": {
    "scrolled": true
   },
   "outputs": [],
   "source": [
    "from sklearn.neighbors import KNeighborsRegressor\n",
    "\n",
    "# Para un rango de número de puntos vecinos, se representa gráficamente la precisión del modelo\n",
    "k_range = range(1, (len(x_train) if 5 > len(x_train) else 5))\n",
    "scores = []\n",
    "for k in k_range:\n",
    "    knn = KNeighborsRegressor(n_neighbors = k, weights = 'uniform')\n",
    "    knn.fit(x_train, y_train)\n",
    "    scores.append(knn.score(x_test, y_test))\n",
    "plt.figure();\n",
    "plt.xlabel('k')\n",
    "plt.ylabel('accuracy')\n",
    "plt.scatter(k_range, scores);\n",
    "k_ideal = []\n",
    "[k_ideal.append(list(k_range)[i]) for i in range(0, len(scores)) if scores[i] == np.max(scores)]"
   ]
  },
  {
   "cell_type": "code",
   "execution_count": null,
   "metadata": {},
   "outputs": [],
   "source": [
    "from sklearn.neighbors import KNeighborsRegressor\n",
    "\n",
    "# Se crea y entrena el modelo con el valor de k obtenido\n",
    "knn = KNeighborsRegressor(n_neighbors = k_ideal[0], weights = 'uniform')\n",
    "\n",
    "knn.fit(x_train, y_train)\n",
    "\n",
    "# Se obtiene la predicción\n",
    "pred_knn_ = knn.predict(x_test)"
   ]
  },
  {
   "cell_type": "code",
   "execution_count": null,
   "metadata": {
    "scrolled": true
   },
   "outputs": [],
   "source": [
    "pred_knn = []\n",
    "[pred_knn.append(y[0]) for y in pred_knn_.tolist()]\n",
    "pred_knn[:10000]"
   ]
  },
  {
   "cell_type": "markdown",
   "metadata": {},
   "source": [
    "Se comparan visualmente algunos valores ejemplo de predicción"
   ]
  },
  {
   "cell_type": "code",
   "execution_count": null,
   "metadata": {},
   "outputs": [],
   "source": [
    "graf_compara('Modelo de knn', list(y_test[columnas_objetivo[0]])[:100], pred_knn[:100])"
   ]
  },
  {
   "cell_type": "markdown",
   "metadata": {},
   "source": [
    "Se comparan visualmente los valores de predicción y la tendencia general de los valores objetivo"
   ]
  },
  {
   "cell_type": "code",
   "execution_count": null,
   "metadata": {
    "scrolled": true
   },
   "outputs": [],
   "source": [
    "sns.regplot(x = y_test, y = pred_knn,  scatter_kws = {\"color\": \"green\"}, line_kws = {\"color\": \"red\"}).set_title('Modelo de knn');"
   ]
  },
  {
   "cell_type": "markdown",
   "metadata": {},
   "source": [
    "Se obtienen las métricas de los resultados del modelo"
   ]
  },
  {
   "cell_type": "code",
   "execution_count": null,
   "metadata": {},
   "outputs": [],
   "source": [
    "metricas_knn = metricas('Modelo de knn', y_test, pred_knn)"
   ]
  },
  {
   "cell_type": "code",
   "execution_count": null,
   "metadata": {},
   "outputs": [],
   "source": [
    "compracion_metricas([metricas_media,\n",
    "                    metricas_regresion_lineal,\n",
    "                    metricas_knn])"
   ]
  },
  {
   "cell_type": "code",
   "execution_count": null,
   "metadata": {},
   "outputs": [],
   "source": [
    "%store metricas_knn"
   ]
  },
  {
   "cell_type": "code",
   "execution_count": null,
   "metadata": {},
   "outputs": [],
   "source": [
    "%store -r metricas_knn"
   ]
  },
  {
   "cell_type": "markdown",
   "metadata": {},
   "source": [
    "# Árbol de decisión\n",
    "\n",
    "<div style = \"float:right\"><a style=\"text-decoration:none\" href = \"#Modelo-de-predicción:-Temperatura-ambiente\">"
   ]
  },
  {
   "cell_type": "markdown",
   "metadata": {},
   "source": [
    "Es un tipo de algoritmo de aprendizaje supervisado que funciona tanto para variables dependientes categóricas como continuas. Es un modelo predictivo que divide el espacio de los predictores agrupando observaciones con valores similares para la variable respuesta o dependiente."
   ]
  },
  {
   "cell_type": "code",
   "execution_count": null,
   "metadata": {},
   "outputs": [],
   "source": [
    "from sklearn.tree import DecisionTreeRegressor\n",
    "\n",
    "# Se crea y entrena el modelo\n",
    "tree = DecisionTreeRegressor (max_depth = 20,\n",
    "                              min_samples_leaf = 15)\n",
    "\n",
    "tree.fit(x_train, y_train)\n",
    "\n",
    "# Se obtiene la predicción\n",
    "pred_tree_ = tree.predict(x_test)"
   ]
  },
  {
   "cell_type": "code",
   "execution_count": null,
   "metadata": {
    "scrolled": true
   },
   "outputs": [],
   "source": [
    "pred_tree = []\n",
    "[pred_tree.append(y) for y in pred_tree_.tolist()]\n",
    "pred_tree[:1000]"
   ]
  },
  {
   "cell_type": "markdown",
   "metadata": {},
   "source": [
    "Se comparan visualmente algunos valores ejemplo de predicción"
   ]
  },
  {
   "cell_type": "code",
   "execution_count": null,
   "metadata": {},
   "outputs": [],
   "source": [
    "graf_compara('Modelo de árbol de decisión', list(y_test[columnas_objetivo[0]])[:100], pred_tree[:100])"
   ]
  },
  {
   "cell_type": "markdown",
   "metadata": {},
   "source": [
    "Se comparan visualmente los valores de predicción y la tendencia general de los valores objetivo"
   ]
  },
  {
   "cell_type": "code",
   "execution_count": null,
   "metadata": {
    "scrolled": true
   },
   "outputs": [],
   "source": [
    "sns.regplot(x = y_test, y = pred_tree,  scatter_kws = {\"color\": \"green\"}, line_kws = {\"color\": \"red\"}).set_title('Modelo árbol de decisión');"
   ]
  },
  {
   "cell_type": "markdown",
   "metadata": {},
   "source": [
    "Se obtienen las métricas de los resultados del modelo"
   ]
  },
  {
   "cell_type": "code",
   "execution_count": null,
   "metadata": {},
   "outputs": [],
   "source": [
    "metricas_tree = metricas('Modelo de árbol de decisión', y_test, pred_tree)"
   ]
  },
  {
   "cell_type": "code",
   "execution_count": null,
   "metadata": {},
   "outputs": [],
   "source": [
    "compracion_metricas([metricas_media,\n",
    "                    metricas_regresion_lineal,\n",
    "                    metricas_knn,\n",
    "                    metricas_tree])"
   ]
  },
  {
   "cell_type": "code",
   "execution_count": null,
   "metadata": {},
   "outputs": [],
   "source": [
    "%store metricas_tree"
   ]
  },
  {
   "cell_type": "code",
   "execution_count": null,
   "metadata": {},
   "outputs": [],
   "source": [
    "%store -r metricas_tree"
   ]
  },
  {
   "cell_type": "markdown",
   "metadata": {},
   "source": [
    "# Regresión polinomial \n",
    "\n",
    "<div style = \"float:right\"><a style=\"text-decoration:none\" href = \"#Modelo-de-predicción:-Temperatura-ambiente\">"
   ]
  },
  {
   "cell_type": "markdown",
   "metadata": {},
   "source": [
    "**NO SE UTILIZA**: PROVOCA PROBLEMAS DE MEMORIA"
   ]
  },
  {
   "cell_type": "markdown",
   "metadata": {},
   "source": [
    "Es un caso especial de la regresión lineal, extiende el modelo lineal al agregar predictores adicionales, obtenidos al elevar cada uno de los predictores originales a una potencia. Por ejemplo, una regresión cúbica utiliza tres variables, como predictores. Este enfoque proporciona una forma sencilla de proporcionar un ajuste no lineal a los datos."
   ]
  },
  {
   "cell_type": "code",
   "execution_count": null,
   "metadata": {},
   "outputs": [],
   "source": [
    "from sklearn.base import BaseEstimator\n",
    "from sklearn.linear_model import LinearRegression\n",
    "from sklearn.preprocessing import PolynomialFeatures \n",
    "\n",
    "# Se genera el estimador\n",
    "\n",
    "class PolynomialRegression(BaseEstimator):\n",
    "    def __init__(self, deg = None):\n",
    "        self.deg = deg\n",
    "            \n",
    "    def fit(self, x, y, deg = None):\n",
    "        self.model = LinearRegression()\n",
    "        poli = PolynomialFeatures(degree = self.deg)\n",
    "        x_ = poli.fit_transform(x)\n",
    "        self.model.fit(x_, y)\n",
    "    \n",
    "    def predict(self, x):\n",
    "        poli = PolynomialFeatures(degree = self.deg)\n",
    "        x_ = poli.fit_transform(x)\n",
    "        return self.model.predict(x_)\n",
    "\n",
    "    def coef_(self):\n",
    "        return pol_reg.coef_\n",
    "    \n",
    "    def best_params_(self):\n",
    "        return pol_reg.best_params_"
   ]
  },
  {
   "cell_type": "code",
   "execution_count": null,
   "metadata": {},
   "outputs": [],
   "source": [
    "from sklearn.preprocessing import PolynomialFeatures \n",
    "from sklearn.linear_model import LinearRegression\n",
    "\n",
    "# Se crea y entrena el modelo\n",
    "\n",
    "#pol_reg = LinearRegression()\n",
    "#poli = PolynomialFeatures(degree = 2)\n",
    "#x_train_pol = poli.fit_transform(x_train)\n",
    "#x_test_pol = poli.fit_transform(x_test)\n",
    "#pol_reg.fit(x_train_pol, y_train)\n",
    "\n",
    "#pred_pol_reg_ = pol_reg.predict(x_test_pol)"
   ]
  },
  {
   "cell_type": "markdown",
   "metadata": {},
   "source": [
    "# Gradient boosting\n",
    "\n",
    "<div style = \"float:right\"><a style=\"text-decoration:none\" href = \"#Modelo-de-predicción:-Temperatura-ambiente\">"
   ]
  },
  {
   "cell_type": "markdown",
   "metadata": {},
   "source": [
    "Gradient boosting o Potenciación del gradiente, es una técnica de aprendizaje automático utilizado para el análisis de la regresión y para problemas de clasificación, el cual produce un modelo predictivo en forma de un conjunto de modelos de predicción débiles, típicamente árboles de decisión. Construye el modelo de forma escalonada como lo hacen otros métodos de boosting, y los generaliza permitiendo la optimización arbitraria de una función de pérdida diferenciable."
   ]
  },
  {
   "cell_type": "markdown",
   "metadata": {},
   "source": [
    "En Gradient Boosting, el número de árboles es un hiperparámetro crítico en cuanto que, con forme se añaden árboles, se incrementa el riesgo de overfitting."
   ]
  },
  {
   "cell_type": "code",
   "execution_count": null,
   "metadata": {},
   "outputs": [],
   "source": [
    "from sklearn.ensemble import GradientBoostingRegressor\n",
    "\n",
    "# Se crea y entrena el modelo\n",
    "gbm = GradientBoostingRegressor(\n",
    "            n_estimators = 10,\n",
    "            loss         = 'ls',\n",
    "            max_features = 'auto',\n",
    "            random_state = 123\n",
    "         )\n",
    "\n",
    "gbm.fit(x_train, y_train.values.ravel())\n",
    "\n",
    "# Se obtiene la predicción\n",
    "pred_gbm_ = gbm.predict(x_test)"
   ]
  },
  {
   "cell_type": "code",
   "execution_count": null,
   "metadata": {
    "scrolled": true
   },
   "outputs": [],
   "source": [
    "pred_gbm = []\n",
    "[pred_gbm.append(y) for y in pred_gbm_.tolist()]\n",
    "pred_gbm[:1000]"
   ]
  },
  {
   "cell_type": "markdown",
   "metadata": {},
   "source": [
    "Se comparan visualmente algunos valores ejemplo de predicción"
   ]
  },
  {
   "cell_type": "code",
   "execution_count": null,
   "metadata": {},
   "outputs": [],
   "source": [
    "graf_compara('Modelo de Gradient boosting', list(y_test[columnas_objetivo[0]])[:100], pred_gbm[:100])"
   ]
  },
  {
   "cell_type": "markdown",
   "metadata": {},
   "source": [
    "Se comparan visualmente los valores de predicción y la tendencia general de los valores objetivo"
   ]
  },
  {
   "cell_type": "code",
   "execution_count": null,
   "metadata": {
    "scrolled": true
   },
   "outputs": [],
   "source": [
    "sns.regplot(x = y_test, y = pred_gbm,  scatter_kws = {\"color\": \"green\"}, line_kws = {\"color\": \"red\"}).set_title('Modelo Gradient boosting');"
   ]
  },
  {
   "cell_type": "markdown",
   "metadata": {},
   "source": [
    "Se obtienen las métricas de los resultados del modelo"
   ]
  },
  {
   "cell_type": "code",
   "execution_count": null,
   "metadata": {},
   "outputs": [],
   "source": [
    "metricas_gbm = metricas('Modelo de Gradient boosting', y_test, pred_gbm)"
   ]
  },
  {
   "cell_type": "code",
   "execution_count": null,
   "metadata": {},
   "outputs": [],
   "source": [
    "compracion_metricas([metricas_media,\n",
    "                    metricas_regresion_lineal,\n",
    "                    metricas_knn,\n",
    "                    metricas_tree,\n",
    "                    metricas_gbm])"
   ]
  },
  {
   "cell_type": "code",
   "execution_count": null,
   "metadata": {},
   "outputs": [],
   "source": [
    "%store metricas_gbm"
   ]
  },
  {
   "cell_type": "code",
   "execution_count": null,
   "metadata": {},
   "outputs": [],
   "source": [
    "%store -r metricas_gbm"
   ]
  },
  {
   "cell_type": "markdown",
   "metadata": {},
   "source": [
    "# Random forest\n",
    "\n",
    "<div style = \"float:right\"><a style=\"text-decoration:none\" href = \"#Modelo-de-predicción:-Temperatura-ambiente\">"
   ]
  },
  {
   "cell_type": "markdown",
   "metadata": {},
   "source": [
    "Random forest (o random forests) es una combinación de árboles predictores tal que cada árbol depende de los valores de un vector aleatorio probado independientemente y con la misma distribución para cada uno de estos. Es una modificación sustancial de bagging que construye una larga colección de árboles no correlacionados y luego los promedia."
   ]
  },
  {
   "cell_type": "code",
   "execution_count": null,
   "metadata": {},
   "outputs": [],
   "source": [
    "from sklearn.ensemble import RandomForestRegressor\n",
    "\n",
    "# Se crea y entrena el modelo\n",
    "# n_jobs: -1 means using all processors\n",
    "forest = RandomForestRegressor(max_depth = None,\n",
    "                              min_samples_leaf = 1,\n",
    "                              n_estimators = 100,\n",
    "                              n_jobs = -1)\n",
    "                            \n",
    "forest.fit(x_train,y_train.values.ravel())\n",
    "\n",
    "# Se obtiene la predicción\n",
    "pred_forest_ = forest.predict(x_test)"
   ]
  },
  {
   "cell_type": "code",
   "execution_count": null,
   "metadata": {
    "scrolled": true
   },
   "outputs": [],
   "source": [
    "pred_forest = []\n",
    "[pred_forest.append(y) for y in pred_forest_.tolist()]\n",
    "pred_forest[:1000]"
   ]
  },
  {
   "cell_type": "markdown",
   "metadata": {},
   "source": [
    "Se comparan visualmente algunos valores ejemplo de predicción"
   ]
  },
  {
   "cell_type": "code",
   "execution_count": null,
   "metadata": {},
   "outputs": [],
   "source": [
    "graf_compara('Modelo de random forest', list(y_test[columnas_objetivo[0]])[:100], pred_forest[:100])"
   ]
  },
  {
   "cell_type": "markdown",
   "metadata": {},
   "source": [
    "Se comparan visualmente los valores de predicción y la tendencia general de los valores objetivo"
   ]
  },
  {
   "cell_type": "code",
   "execution_count": null,
   "metadata": {
    "scrolled": true
   },
   "outputs": [],
   "source": [
    "sns.regplot(x = y_test, y = pred_forest,  scatter_kws = {\"color\": \"green\"}, line_kws = {\"color\": \"red\"}).set_title('Modelo random forest');"
   ]
  },
  {
   "cell_type": "markdown",
   "metadata": {},
   "source": [
    "Se obtienen las métricas de los resultados del modelo"
   ]
  },
  {
   "cell_type": "code",
   "execution_count": null,
   "metadata": {},
   "outputs": [],
   "source": [
    "metricas_forest = metricas('Modelo de random forest', y_test, pred_forest)"
   ]
  },
  {
   "cell_type": "code",
   "execution_count": null,
   "metadata": {},
   "outputs": [],
   "source": [
    "compracion_metricas([metricas_media,\n",
    "                    metricas_regresion_lineal,\n",
    "                    metricas_knn,\n",
    "                    metricas_tree,\n",
    "                    metricas_gbm,\n",
    "                    metricas_forest])"
   ]
  },
  {
   "cell_type": "code",
   "execution_count": null,
   "metadata": {},
   "outputs": [],
   "source": [
    "%store metricas_forest"
   ]
  },
  {
   "cell_type": "code",
   "execution_count": null,
   "metadata": {},
   "outputs": [],
   "source": [
    "%store -r metricas_forest"
   ]
  },
  {
   "cell_type": "markdown",
   "metadata": {},
   "source": [
    "# Se comprueba que no haya sobreajuste"
   ]
  },
  {
   "cell_type": "markdown",
   "metadata": {},
   "source": [
    "Una solución para saber si un modelo sufre de \"overfitting\" es un procedimiento llamado validación cruzada (CV). En el enfoque básico, llamado k-fold CV, el conjunto de entrenamiento se divide en k conjuntos más pequeños. Se sigue el siguiente procedimiento para cada uno de los k \"pliegues\":\n",
    "- Un modelo se entrena usando ``k-1`` de los pliegues como datos de entrenamiento;\n",
    "\n",
    "- El modelo resultante se valida en la parte restante de los datos (es decir, se utiliza como un conjunto de pruebas para calcular una medida de rendimiento como la precisión)."
   ]
  },
  {
   "cell_type": "markdown",
   "metadata": {},
   "source": [
    "Se recomienda que el número de folds f se calcule como: ``m/f > n^2`` siendo m x n las dimensiones del conjunto de datos"
   ]
  },
  {
   "cell_type": "code",
   "execution_count": null,
   "metadata": {},
   "outputs": [],
   "source": [
    "x.shape"
   ]
  },
  {
   "cell_type": "code",
   "execution_count": null,
   "metadata": {},
   "outputs": [],
   "source": [
    "f = (x.shape[0]/(x.shape[1])**2)/5\n",
    "f"
   ]
  },
  {
   "cell_type": "code",
   "execution_count": null,
   "metadata": {},
   "outputs": [],
   "source": [
    "scalar_sobredimension = StandardScaler()\n",
    "pca_sobredimension = PCA(n_components = 62)\n",
    "model = knn\n",
    "\n",
    "pipeline = Pipeline([('transformer', scalar_sobredimension), ('pca', pca_sobredimension), ('estimator', model)])\n",
    "\n",
    "scores = cross_val_score(pipeline, x, y.values.ravel(), cv = int(f), scoring = 'r2')\n",
    "scores_numerico = []\n",
    "[scores_numerico.append(float(i)) for i in list(scores)]\n",
    "print(scores_numerico)\n",
    "print(\"El valor medio de R² es {}, con desviación estándar de {}\".format(np.mean(scores_numerico), np.std(scores_numerico)))"
   ]
  },
  {
   "cell_type": "markdown",
   "metadata": {},
   "source": [
    "El mejor modelo entrenado hasta el momento es el de k-Nearest Neighbors, sin embargo, se puede comprobar que se encuentra sobreajustado"
   ]
  },
  {
   "cell_type": "markdown",
   "metadata": {},
   "source": [
    "# GridSearchCV\n",
    "\n",
    "<div style = \"float:right\"><a style=\"text-decoration:none\" href = \"#Modelo-de-predicción:-Temperatura-ambiente\">"
   ]
  },
  {
   "cell_type": "markdown",
   "metadata": {},
   "source": [
    "GridSearchCV es una clase disponible en scikit-learn que permite evaluar y seleccionar de forma sistemática los parámetros de un modelo. Indicándole un modelo y los parámetros a probar, puede evaluar el rendimiento del primero en función de los segundos mediante validación cruzada. Esta función ayuda a recorrer hiperparámetros predefinidos y ajustar su estimador (modelo) en su conjunto de entrenamiento. \n",
    "\n",
    "Por ello, se va a aplicar a los modelos previamente testeados, con r² como métrica"
   ]
  },
  {
   "cell_type": "markdown",
   "metadata": {},
   "source": [
    "# Regresión lineal con GridSearchCV\n",
    "\n",
    "<div style = \"float:right\"><a style=\"text-decoration:none\" href = \"#Modelo-de-predicción:-Temperatura-ambiente\">"
   ]
  },
  {
   "cell_type": "code",
   "execution_count": null,
   "metadata": {},
   "outputs": [],
   "source": [
    "from sklearn.model_selection import GridSearchCV\n",
    "from sklearn.linear_model import LinearRegression\n",
    "\n",
    "# Se crea y entrena el modelo\n",
    "regre_grid = GridSearchCV(LinearRegression(),\n",
    "                       param_grid = {'fit_intercept':[True,False], 'normalize':[True,False], 'copy_X':[True, False]},\n",
    "                       cv = 2,\n",
    "                       scoring = \"r2\")\n",
    "\n",
    "regre_grid.fit(x_train,y_train)\n",
    "\n",
    "# Se obtiene la predicción\n",
    "pred_reg_grid_ = regre_grid.predict(x_test)\n",
    "\n",
    "#Parámetros escogidos\n",
    "regre_grid.best_params_"
   ]
  },
  {
   "cell_type": "code",
   "execution_count": null,
   "metadata": {
    "scrolled": true
   },
   "outputs": [],
   "source": [
    "pred_reg_grid = []\n",
    "[pred_reg_grid.append(y[0]) for y in pred_reg_grid_.tolist()]\n",
    "pred_reg_grid[:1000]"
   ]
  },
  {
   "cell_type": "markdown",
   "metadata": {},
   "source": [
    "Se comparan visualmente algunos valores ejemplo de predicción"
   ]
  },
  {
   "cell_type": "code",
   "execution_count": null,
   "metadata": {},
   "outputs": [],
   "source": [
    "graf_compara('Modelo de regresión lineal con GridSearchCV', list(y_test[columnas_objetivo[0]])[:100], pred_reg_grid[:100])"
   ]
  },
  {
   "cell_type": "markdown",
   "metadata": {},
   "source": [
    "Se comparan visualmente los valores de predicción y la tendencia general de los valores objetivo"
   ]
  },
  {
   "cell_type": "code",
   "execution_count": null,
   "metadata": {
    "scrolled": true
   },
   "outputs": [],
   "source": [
    "sns.regplot(x = y_test, y = pred_reg_grid,  scatter_kws = {\"color\": \"green\"}, line_kws = {\"color\": \"red\"}).set_title('Modelo regresión lineal con GridSearchCV');"
   ]
  },
  {
   "cell_type": "markdown",
   "metadata": {},
   "source": [
    "Se obtienen las métricas de los resultados del modelo"
   ]
  },
  {
   "cell_type": "code",
   "execution_count": null,
   "metadata": {},
   "outputs": [],
   "source": [
    "metricas_reg_grid = metricas('Modelo de regresión lineal con GridSearchCV', y_test, pred_reg_grid)"
   ]
  },
  {
   "cell_type": "code",
   "execution_count": null,
   "metadata": {},
   "outputs": [],
   "source": [
    "compracion_metricas([metricas_media,\n",
    "                    metricas_regresion_lineal,\n",
    "                    metricas_knn,\n",
    "                    metricas_tree,\n",
    "                    metricas_gbm,\n",
    "                    metricas_forest,\n",
    "                    metricas_reg_grid])"
   ]
  },
  {
   "cell_type": "code",
   "execution_count": null,
   "metadata": {},
   "outputs": [],
   "source": [
    "%store metricas_reg_grid"
   ]
  },
  {
   "cell_type": "code",
   "execution_count": null,
   "metadata": {},
   "outputs": [],
   "source": [
    "%store -r metricas_reg_grid"
   ]
  },
  {
   "cell_type": "markdown",
   "metadata": {},
   "source": [
    "# k-Nearest Neighbors con GridSearchCV\n",
    "\n",
    "<div style = \"float:right\"><a style=\"text-decoration:none\" href = \"#Modelo-de-predicción:-Temperatura-ambiente\">"
   ]
  },
  {
   "cell_type": "code",
   "execution_count": null,
   "metadata": {},
   "outputs": [],
   "source": [
    "from sklearn.model_selection import GridSearchCV\n",
    "from sklearn.neighbors import KNeighborsRegressor\n",
    "\n",
    "# Se crea y entrena el modelo\n",
    "knn_grid = GridSearchCV(KNeighborsRegressor(),\n",
    "                       param_grid = {\"n_neighbors\":np.arange(1, 6),\n",
    "                                     \"leaf_size\":np.arange(10, 30)},\n",
    "                       cv = 2,\n",
    "                       scoring = \"r2\")\n",
    "\n",
    "\n",
    "knn_grid.fit(x_train, y_train)\n",
    "\n",
    "# Se obtiene la predicción\n",
    "pred_knn_grid_ = knn_grid.predict(x_test)\n",
    "\n",
    "#Parámetros escogidos\n",
    "knn_grid.best_params_"
   ]
  },
  {
   "cell_type": "code",
   "execution_count": null,
   "metadata": {
    "scrolled": true
   },
   "outputs": [],
   "source": [
    "pred_knn_grid = []\n",
    "[pred_knn_grid.append(y[0]) for y in pred_knn_grid_.tolist()]\n",
    "pred_knn_grid[:1000]"
   ]
  },
  {
   "cell_type": "markdown",
   "metadata": {},
   "source": [
    "Se comparan visualmente algunos valores ejemplo de predicción"
   ]
  },
  {
   "cell_type": "code",
   "execution_count": null,
   "metadata": {},
   "outputs": [],
   "source": [
    "graf_compara('Modelo de knn con GridSearchCV', list(y_test[columnas_objetivo[0]])[:100], pred_knn_grid[:100])"
   ]
  },
  {
   "cell_type": "markdown",
   "metadata": {},
   "source": [
    "Se comparan visualmente los valores de predicción y la tendencia general de los valores objetivo"
   ]
  },
  {
   "cell_type": "code",
   "execution_count": null,
   "metadata": {
    "scrolled": true
   },
   "outputs": [],
   "source": [
    "sns.regplot(x = y_test, y = pred_knn_grid,  scatter_kws = {\"color\": \"green\"}, line_kws = {\"color\": \"red\"}).set_title('Modelo knn con GridSearchCV');"
   ]
  },
  {
   "cell_type": "markdown",
   "metadata": {},
   "source": [
    "Se obtienen las métricas de los resultados del modelo"
   ]
  },
  {
   "cell_type": "code",
   "execution_count": null,
   "metadata": {},
   "outputs": [],
   "source": [
    "metricas_knn_grid = metricas('Modelo de knn con GridSearchCV', y_test, pred_knn_grid)"
   ]
  },
  {
   "cell_type": "code",
   "execution_count": null,
   "metadata": {},
   "outputs": [],
   "source": [
    "compracion_metricas([metricas_media,\n",
    "                    metricas_regresion_lineal,\n",
    "                    metricas_knn,\n",
    "                    metricas_tree,\n",
    "                    metricas_gbm,\n",
    "                    metricas_forest,\n",
    "                    metricas_reg_grid,\n",
    "                    metricas_knn_grid])"
   ]
  },
  {
   "cell_type": "code",
   "execution_count": null,
   "metadata": {},
   "outputs": [],
   "source": [
    "%store metricas_knn_grid"
   ]
  },
  {
   "cell_type": "code",
   "execution_count": null,
   "metadata": {},
   "outputs": [],
   "source": [
    "%store -r metricas_knn_grid"
   ]
  },
  {
   "cell_type": "markdown",
   "metadata": {},
   "source": [
    "# Árbol de decisión con GridSearchCV\n",
    "\n",
    "<div style = \"float:right\"><a style=\"text-decoration:none\" href = \"#Modelo-de-predicción:-Temperatura-ambiente\">"
   ]
  },
  {
   "cell_type": "code",
   "execution_count": null,
   "metadata": {},
   "outputs": [],
   "source": [
    "from sklearn.model_selection import GridSearchCV\n",
    "from sklearn.tree import DecisionTreeRegressor\n",
    "\n",
    "# Se crea y entrena el modelo\n",
    "tree_grid = GridSearchCV(DecisionTreeRegressor(),\n",
    "                       param_grid = {\"max_depth\":np.arange(25,35),\n",
    "                                     \"min_samples_leaf\":np.arange(2,10)},\n",
    "                       cv = 2,\n",
    "                       scoring = \"r2\")\n",
    "\n",
    "tree_grid.fit(x_train,y_train)\n",
    "\n",
    "# Se obtiene la predicción\n",
    "pred_tree_grid_ = tree_grid.predict(x_test)\n",
    "\n",
    "# Parámetros escogidos\n",
    "tree_grid.best_params_"
   ]
  },
  {
   "cell_type": "code",
   "execution_count": null,
   "metadata": {
    "scrolled": true
   },
   "outputs": [],
   "source": [
    "pred_tree_grid = []\n",
    "[pred_tree_grid.append(y) for y in pred_tree_grid_.tolist()]\n",
    "pred_tree_grid[:1000]"
   ]
  },
  {
   "cell_type": "markdown",
   "metadata": {},
   "source": [
    "Se comparan visualmente algunos valores ejemplo de predicción"
   ]
  },
  {
   "cell_type": "code",
   "execution_count": null,
   "metadata": {},
   "outputs": [],
   "source": [
    "graf_compara('Modelo de árbol de decisión con GridSearchCV', list(y_test[columnas_objetivo[0]])[:100], pred_tree_grid[:100])"
   ]
  },
  {
   "cell_type": "markdown",
   "metadata": {},
   "source": [
    "Se comparan visualmente los valores de predicción y la tendencia general de los valores objetivo"
   ]
  },
  {
   "cell_type": "code",
   "execution_count": null,
   "metadata": {
    "scrolled": true
   },
   "outputs": [],
   "source": [
    "sns.regplot(x = y_test, y = pred_tree_grid,  scatter_kws = {\"color\": \"green\"}, line_kws = {\"color\": \"red\"}).set_title('Modelo árbol de decisión con GridSearchCV');"
   ]
  },
  {
   "cell_type": "markdown",
   "metadata": {},
   "source": [
    "Se obtienen las métricas de los resultados del modelo"
   ]
  },
  {
   "cell_type": "code",
   "execution_count": null,
   "metadata": {},
   "outputs": [],
   "source": [
    "metricas_tree_grid = metricas('Modelo de árbol de decisión con GridSearchCV', y_test, pred_tree_grid)"
   ]
  },
  {
   "cell_type": "code",
   "execution_count": null,
   "metadata": {},
   "outputs": [],
   "source": [
    "compracion_metricas([metricas_media,\n",
    "                    metricas_regresion_lineal,\n",
    "                    metricas_knn,\n",
    "                    metricas_tree,\n",
    "                    metricas_gbm,\n",
    "                    metricas_forest,\n",
    "                    metricas_reg_grid,\n",
    "                    metricas_knn_grid,\n",
    "                    metricas_tree_grid])"
   ]
  },
  {
   "cell_type": "code",
   "execution_count": null,
   "metadata": {},
   "outputs": [],
   "source": [
    "%store metricas_tree_grid"
   ]
  },
  {
   "cell_type": "code",
   "execution_count": null,
   "metadata": {},
   "outputs": [],
   "source": [
    "%store -r metricas_tree_grid"
   ]
  },
  {
   "cell_type": "markdown",
   "metadata": {},
   "source": [
    "# Gradient boosting con GridSearchCV\n",
    "\n",
    "<div style = \"float:right\"><a style=\"text-decoration:none\" href = \"#Modelo-de-predicción:-Temperatura-ambiente\">"
   ]
  },
  {
   "cell_type": "code",
   "execution_count": null,
   "metadata": {
    "scrolled": true
   },
   "outputs": [],
   "source": [
    "from sklearn.model_selection import GridSearchCV\n",
    "from sklearn.ensemble import GradientBoostingRegressor\n",
    "\n",
    "# Se crea y entrena el modelo\n",
    "\n",
    "gbm_grid =  GridSearchCV(GradientBoostingRegressor(),\n",
    "                       param_grid = {'n_estimators':[100,500], \n",
    "                                'learning_rate': [0.1,0.05,0.02],\n",
    "                                'max_depth':[4], \n",
    "                                'min_samples_leaf':[3], \n",
    "                                'max_features':[1.0] },\n",
    "                       cv = 2,\n",
    "                       scoring = \"neg_mean_absolute_error\")\n",
    "                            \n",
    "gbm_grid.fit(x_train,y_train.values.ravel())\n",
    "\n",
    "# Se obtiene la predicción\n",
    "pred_gbm_grid_ = gbm_grid.predict(x_test)\n",
    "\n",
    "# Parámetros escogidos\n",
    "gbm_grid.best_params_"
   ]
  },
  {
   "cell_type": "code",
   "execution_count": null,
   "metadata": {
    "scrolled": true
   },
   "outputs": [],
   "source": [
    "pred_gbm_grid = []\n",
    "[pred_gbm_grid.append(y) for y in pred_gbm_grid_.tolist()]\n",
    "pred_gbm_grid[:1000]"
   ]
  },
  {
   "cell_type": "markdown",
   "metadata": {},
   "source": [
    "Se comparan visualmente algunos valores ejemplo de predicción"
   ]
  },
  {
   "cell_type": "code",
   "execution_count": null,
   "metadata": {},
   "outputs": [],
   "source": [
    "graf_compara('Modelo de gradient boosting con GridSearchCV', list(y_test[columnas_objetivo[0]])[:100], pred_gbm_grid[:100])"
   ]
  },
  {
   "cell_type": "markdown",
   "metadata": {},
   "source": [
    "Se comparan visualmente los valores de predicción y la tendencia general de los valores objetivo"
   ]
  },
  {
   "cell_type": "code",
   "execution_count": null,
   "metadata": {
    "scrolled": true
   },
   "outputs": [],
   "source": [
    "sns.regplot(x = y_test, y = pred_gbm_grid,  scatter_kws = {\"color\": \"green\"}, line_kws = {\"color\": \"red\"}).set_title('Modelo gradient boosting con GridSearchCV');"
   ]
  },
  {
   "cell_type": "markdown",
   "metadata": {},
   "source": [
    "Se obtienen las métricas de los resultados del modelo"
   ]
  },
  {
   "cell_type": "code",
   "execution_count": null,
   "metadata": {},
   "outputs": [],
   "source": [
    "metricas_gbm_grid = metricas('Modelo de gradient boosting con GridSearchCV', y_test, pred_gbm_grid)"
   ]
  },
  {
   "cell_type": "code",
   "execution_count": null,
   "metadata": {},
   "outputs": [],
   "source": [
    "compracion_metricas([metricas_media,\n",
    "                    metricas_regresion_lineal,\n",
    "                    metricas_knn,\n",
    "                    metricas_tree,\n",
    "                    metricas_gbm,\n",
    "                    metricas_forest,\n",
    "                    metricas_reg_grid,\n",
    "                    metricas_knn_grid,\n",
    "                    metricas_tree_grid,\n",
    "                    metricas_gbm_grid])"
   ]
  },
  {
   "cell_type": "code",
   "execution_count": null,
   "metadata": {},
   "outputs": [],
   "source": [
    "%store metricas_gbm_grid"
   ]
  },
  {
   "cell_type": "code",
   "execution_count": null,
   "metadata": {},
   "outputs": [],
   "source": [
    "%store -r metricas_gbm_grid"
   ]
  },
  {
   "cell_type": "markdown",
   "metadata": {},
   "source": [
    "# Random forest con Regressor RandomizedSearchCV\n",
    "\n",
    "<div style = \"float:right\"><a style=\"text-decoration:none\" href = \"#Modelo-de-predicción:-Temperatura-ambiente\">"
   ]
  },
  {
   "cell_type": "markdown",
   "metadata": {},
   "source": [
    "RandomizedSearchCV implementa un método de \"ajuste\" y \"puntuación\". Los parámetros del estimador utilizados para aplicar estos métodos se optimizan mediante una búsqueda con validación cruzada sobre la configuración de parámetros. A diferencia de GridSearchCV, no se prueban todos los valores de los parámetros, sino que se muestrea un número fijo de configuraciones de parámetros de las distribuciones especificadas. El número de ajustes de parámetros que se prueban viene dado por n_iter."
   ]
  },
  {
   "cell_type": "code",
   "execution_count": null,
   "metadata": {
    "scrolled": true
   },
   "outputs": [],
   "source": [
    "from sklearn.model_selection import GridSearchCV\n",
    "from sklearn.ensemble import RandomForestRegressor\n",
    "from sklearn.model_selection import RandomizedSearchCV\n",
    "\n",
    "# Se crea y entrena el modelo\n",
    "\n",
    "forest_random = RandomizedSearchCV(RandomForestRegressor(),\n",
    "                       param_distributions={\"max_depth\":np.arange(25,35),\n",
    "                                  \"min_samples_leaf\":np.arange(2,10),\n",
    "                                  \"n_estimators\": (10,50,100,500)},\n",
    "                       cv = 2,\n",
    "                       scoring = \"r2\",\n",
    "                       n_iter = 5)\n",
    "                            \n",
    "forest_random.fit(x_train,y_train.values.ravel())\n",
    "\n",
    "# Se obtiene la predicción\n",
    "pred_forest_random_ = forest_random.predict(x_test)\n",
    "\n",
    "# Parámetros escogidos\n",
    "forest_random.best_params_"
   ]
  },
  {
   "cell_type": "code",
   "execution_count": null,
   "metadata": {
    "scrolled": true
   },
   "outputs": [],
   "source": [
    "pred_forest_random = []\n",
    "[pred_forest_random.append(y) for y in pred_forest_random_.tolist()]\n",
    "pred_forest_random[:1000]"
   ]
  },
  {
   "cell_type": "markdown",
   "metadata": {},
   "source": [
    "Se comparan visualmente algunos valores ejemplo de predicción"
   ]
  },
  {
   "cell_type": "code",
   "execution_count": null,
   "metadata": {},
   "outputs": [],
   "source": [
    "graf_compara('Modelo de random forest con RandomizedSearchCV', list(y_test[columnas_objetivo[0]])[:100], pred_forest_random[:100])"
   ]
  },
  {
   "cell_type": "markdown",
   "metadata": {},
   "source": [
    "Se comparan visualmente los valores de predicción y la tendencia general de los valores objetivo"
   ]
  },
  {
   "cell_type": "code",
   "execution_count": null,
   "metadata": {
    "scrolled": true
   },
   "outputs": [],
   "source": [
    "sns.regplot(x = y_test, y = pred_forest_random,  scatter_kws = {\"color\": \"green\"}, line_kws = {\"color\": \"red\"}).set_title('Modelo random forest con RandomizedSearchCV');"
   ]
  },
  {
   "cell_type": "markdown",
   "metadata": {},
   "source": [
    "Se obtienen las métricas de los resultados del modelo"
   ]
  },
  {
   "cell_type": "code",
   "execution_count": null,
   "metadata": {},
   "outputs": [],
   "source": [
    "metricas_forest_random = metricas('Modelo de random forest con RandomizedSearchCV', y_test, pred_forest_random)"
   ]
  },
  {
   "cell_type": "code",
   "execution_count": null,
   "metadata": {},
   "outputs": [],
   "source": [
    "compracion_metricas([metricas_media,\n",
    "                    metricas_regresion_lineal,\n",
    "                    metricas_knn,\n",
    "                    metricas_tree,\n",
    "                    metricas_gbm,\n",
    "                    metricas_forest,\n",
    "                    metricas_reg_grid,\n",
    "                    metricas_knn_grid,\n",
    "                    metricas_tree_grid,\n",
    "                    metricas_gbm_grid,\n",
    "                    metricas_forest_random])"
   ]
  },
  {
   "cell_type": "code",
   "execution_count": null,
   "metadata": {},
   "outputs": [],
   "source": [
    "%store metricas_forest_random"
   ]
  },
  {
   "cell_type": "code",
   "execution_count": null,
   "metadata": {},
   "outputs": [],
   "source": [
    "%store -r metricas_forest_random"
   ]
  },
  {
   "cell_type": "markdown",
   "metadata": {},
   "source": [
    "# Tensorflow\n",
    "\n",
    "<div style = \"float:right\"><a style=\"text-decoration:none\" href = \"#Modelo-de-predicción:-Temperatura-ambiente\">"
   ]
  },
  {
   "cell_type": "markdown",
   "metadata": {},
   "source": [
    "TensorFlow es el sistema de aprendizaje automático de segunda generación de Google Brain, liberado como software de código abierto en 9 de noviembre de 2015. TensorFlow es una plataforma de código abierto de extremo a extremo para el aprendizaje automático. Cuenta con un ecosistema integral y flexible de herramientas, bibliotecas y recursos de la comunidad que les permite a los investigadores innovar con el aprendizaje automático y, a los desarrolladores, compilar e implementar con facilidad aplicaciones con tecnología de aprendizaje automático."
   ]
  },
  {
   "cell_type": "code",
   "execution_count": null,
   "metadata": {
    "scrolled": true
   },
   "outputs": [],
   "source": [
    "#! pip install --upgrade tensorflow"
   ]
  },
  {
   "cell_type": "code",
   "execution_count": null,
   "metadata": {
    "scrolled": true
   },
   "outputs": [],
   "source": [
    "import tensorflow as tf\n",
    "from tensorflow.keras.layers import Input, Dense, Activation,Dropout\n",
    "from tensorflow.keras.models import Model\n",
    "\n",
    "# Se crea y entrena el modelo\n",
    "\n",
    "input_layer = Input(shape = (x_train_pca.shape[1],))\n",
    "dense_layer_1 = Dense(100, activation = 'relu')(input_layer)\n",
    "dense_layer_2 = Dense(50, activation = 'relu')(dense_layer_1)\n",
    "dense_layer_3 = Dense(25, activation = 'relu')(dense_layer_2)\n",
    "output = Dense(1)(dense_layer_3)\n",
    "\n",
    "tensor = Model(inputs = input_layer, outputs = output)\n",
    "tensor.compile(loss = \"mean_squared_error\" , optimizer = \"adam\", metrics = [\"mean_squared_error\"])\n",
    "\n",
    "tensor.fit(x_train, y_train.values.ravel(), batch_size = 2, epochs = 100, verbose = 1, validation_split = 0.2)\n",
    "\n",
    "# Se obtiene la predicción\n",
    "pred_tensor_ = tensor.predict(x_test)"
   ]
  },
  {
   "cell_type": "code",
   "execution_count": null,
   "metadata": {
    "scrolled": true
   },
   "outputs": [],
   "source": [
    "pred_tensor = []\n",
    "[pred_tensor.append(y[0]) for y in pred_tensor_.tolist()]\n",
    "pred_tensor[:1000]"
   ]
  },
  {
   "cell_type": "markdown",
   "metadata": {},
   "source": [
    "Se comparan visualmente algunos valores ejemplo de predicción"
   ]
  },
  {
   "cell_type": "code",
   "execution_count": null,
   "metadata": {},
   "outputs": [],
   "source": [
    "graf_compara('Modelo de TensorFlow', list(y_test[columnas_objetivo[0]])[:100], pred_tensor[:100])"
   ]
  },
  {
   "cell_type": "markdown",
   "metadata": {},
   "source": [
    "Se comparan visualmente los valores de predicción y la tendencia general de los valores objetivo"
   ]
  },
  {
   "cell_type": "code",
   "execution_count": null,
   "metadata": {
    "scrolled": true
   },
   "outputs": [],
   "source": [
    "sns.regplot(x = y_test, y = pred_tensor,  scatter_kws = {\"color\": \"green\"}, line_kws = {\"color\": \"red\"}).set_title('Modelo tensor flow');"
   ]
  },
  {
   "cell_type": "markdown",
   "metadata": {},
   "source": [
    "Se obtienen las métricas de los resultados del modelo"
   ]
  },
  {
   "cell_type": "code",
   "execution_count": null,
   "metadata": {},
   "outputs": [],
   "source": [
    "metricas_pred_tensor = metricas('Modelo de tensor flow', y_test, pred_tensor)"
   ]
  },
  {
   "cell_type": "code",
   "execution_count": null,
   "metadata": {},
   "outputs": [],
   "source": [
    "compracion_metricas([metricas_media,\n",
    "                    metricas_regresion_lineal,\n",
    "                    metricas_knn,\n",
    "                    metricas_tree,\n",
    "                    metricas_gbm,\n",
    "                    metricas_forest,\n",
    "                    metricas_reg_grid,\n",
    "                    metricas_knn_grid,\n",
    "                    metricas_tree_grid,\n",
    "                    metricas_gbm_grid,\n",
    "                    metricas_forest_random,\n",
    "                    metricas_pred_tensor])"
   ]
  },
  {
   "cell_type": "code",
   "execution_count": null,
   "metadata": {},
   "outputs": [],
   "source": [
    "%store metricas_pred_tensor"
   ]
  },
  {
   "cell_type": "code",
   "execution_count": null,
   "metadata": {},
   "outputs": [],
   "source": [
    "%store -r metricas_pred_tensor"
   ]
  },
  {
   "cell_type": "markdown",
   "metadata": {},
   "source": [
    "# Selección de modelo\n",
    "<div style = \"float:right\"><a style=\"text-decoration:none\" href = \"#Modelo-de-predicción:-Temperatura-ambiente\">"
   ]
  },
  {
   "cell_type": "markdown",
   "metadata": {},
   "source": [
    "Se muestra una comparativa de los resultados de los diferentes modelos"
   ]
  },
  {
   "cell_type": "code",
   "execution_count": null,
   "metadata": {},
   "outputs": [],
   "source": [
    "fig, ax = plt.subplots(4,3, figsize = (15,22))\n",
    "fig.suptitle('Valores predichos frente a reales', fontsize = 20, fontweight = 'bold')\n",
    "fig.tight_layout()\n",
    "fig.subplots_adjust(top = 0.95, hspace = 0.15)\n",
    "\n",
    "sns.regplot(x = y_test, y = pred_media, ax = ax[0,0],\n",
    "            scatter_kws = {\"color\": \"green\"}, line_kws = {\"color\": \"red\"}).set_title('Modelo medias horarias');\n",
    "sns.regplot(x = y_test, y = pred_reg_lineal, ax = ax[0,1],\n",
    "            scatter_kws = {\"color\": \"green\"}, line_kws = {\"color\": \"red\"}).set_title('Modelo regresión lineal');\n",
    "sns.regplot(x = y_test, y = pred_knn, ax = ax[0,2],\n",
    "            scatter_kws = {\"color\": \"green\"}, line_kws = {\"color\": \"red\"}).set_title('Modelo de knn');\n",
    "sns.regplot(x = y_test, y = pred_tree, ax = ax[1,0],\n",
    "            scatter_kws = {\"color\": \"green\"}, line_kws = {\"color\": \"red\"}).set_title('Modelo árbol de decisión');\n",
    "sns.regplot(x = y_test, y = pred_gbm, ax = ax[1,1],\n",
    "            scatter_kws = {\"color\": \"green\"}, line_kws = {\"color\": \"red\"}).set_title('Modelo Gradient boosting');\n",
    "sns.regplot(x = y_test, y = pred_forest, ax = ax[1,2],\n",
    "            scatter_kws = {\"color\": \"green\"}, line_kws = {\"color\": \"red\"}).set_title('Modelo random forest');\n",
    "sns.regplot(x = y_test, y = pred_reg_grid, ax = ax[2,0],\n",
    "            scatter_kws = {\"color\": \"green\"}, line_kws = {\"color\": \"red\"}).set_title('Modelo regresión lineal con GridSearchCV');\n",
    "sns.regplot(x = y_test, y = pred_knn_grid,  ax = ax[2,1],\n",
    "            scatter_kws = {\"color\": \"green\"}, line_kws = {\"color\": \"red\"}).set_title('Modelo knn con GridSearchCV');\n",
    "sns.regplot(x = y_test, y = pred_tree_grid, ax = ax[2,2],\n",
    "            scatter_kws = {\"color\": \"green\"}, line_kws = {\"color\": \"red\"}).set_title('Modelo árbol de decisión con GridSearchCV');\n",
    "sns.regplot(x = y_test, y = pred_gbm_grid, ax = ax[3,0],\n",
    "            scatter_kws = {\"color\": \"green\"}, line_kws = {\"color\": \"red\"}).set_title('Modelo gradient boosting con GridSearchCV');\n",
    "sns.regplot(x = y_test, y = pred_forest_random, ax = ax[3,1], \n",
    "            scatter_kws = {\"color\": \"green\"}, line_kws = {\"color\": \"red\"}).set_title('Modelo random forest con RandomizedSearchCV');\n",
    "sns.regplot(x = y_test, y = pred_tensor, ax = ax[3,2], \n",
    "            scatter_kws = {\"color\": \"green\"}, line_kws = {\"color\": \"red\"}).set_title('Modelo tensorflow');\n",
    "\n",
    "for fila in ax:\n",
    "    for columna in fila:\n",
    "        columna.set_xlabel(\"\")\n",
    "        columna.set_ylabel(\"\")"
   ]
  },
  {
   "cell_type": "markdown",
   "metadata": {},
   "source": [
    "La media de valor de radiación solar en plano horizontal por hora (W/m²) es:"
   ]
  },
  {
   "cell_type": "code",
   "execution_count": null,
   "metadata": {
    "scrolled": true
   },
   "outputs": [],
   "source": [
    "# Se obtiene la media de la variable objetivo\n",
    "\n",
    "df[columnas_objetivo].mean()"
   ]
  },
  {
   "cell_type": "markdown",
   "metadata": {},
   "source": [
    "El mae del método de k-Nearest Neighbors con GridSearchCV sobre el valor medio es:"
   ]
  },
  {
   "cell_type": "code",
   "execution_count": null,
   "metadata": {},
   "outputs": [],
   "source": [
    "metricas_pred_knn[1]/df[columnas_objetivo].mean()[0]*100"
   ]
  },
  {
   "cell_type": "markdown",
   "metadata": {},
   "source": [
    "El modelo seleccionado es el de k-Nearest Neighbors, que cuenta con mayor r² (90 %) que el resto de modelos y menor error medio (15 % sobre el valor medio)."
   ]
  },
  {
   "cell_type": "markdown",
   "metadata": {},
   "source": [
    "# Se comprueba que no haya sobreajuste\n",
    "\n",
    "<div style = \"float:right\"><a style=\"text-decoration:none\" href = \"#Modelo-de-predicción:-Temperatura-ambiente\">"
   ]
  },
  {
   "cell_type": "markdown",
   "metadata": {},
   "source": [
    "Pruebo el modelo con otros grupos de datos aleatorios, para comprobar si los resultados son similares"
   ]
  },
  {
   "cell_type": "code",
   "execution_count": null,
   "metadata": {
    "scrolled": true
   },
   "outputs": [],
   "source": [
    "from sklearn.model_selection import GridSearchCV\n",
    "from sklearn.neighbors import KNeighborsRegressor\n",
    "\n",
    "resultados = []\n",
    "\n",
    "for i in range(1,5):\n",
    "    \n",
    "    # Se obtienen los datos\n",
    "    df_fin = df_datos.sample(frac = 0.6, random_state = i)\n",
    "    \n",
    "    # Se dividen los datos en columnas objetivo y entrada y se dividen en train y test\n",
    "    x_fin = df_fin[columnas_utiles]\n",
    "    y_fin = df_fin[columnas_objetivo]\n",
    "    x_train_fin, x_test_fin, y_train_fin, y_test_fin = dividir_train_test(x_fin,y_fin, 0.8)\n",
    "    \n",
    "    # Estandarización\n",
    "    scaler = StandardScaler()\n",
    "    columnas = x_train_fin.columns\n",
    "    x_train_fin_normal = scaler.fit_transform(x_train_fin[columnas])\n",
    "    x_train_fin_normal = pd.DataFrame(x_train_fin_normal, columns = columnas)\n",
    "    \n",
    "    columnas = x_test_fin.columns\n",
    "    x_test_fin_normal = scaler.transform(x_test_fin[columnas])\n",
    "    x_test_fin_normal = pd.DataFrame(x_test_fin_normal, columns = columnas)\n",
    "    \n",
    "    # PCA\n",
    "    pca = PCA(n_components = 62)\n",
    "    principalComponents = pca.fit_transform(x_train_fin_normal)\n",
    "    x_train_fin_pca = pd.DataFrame(data = principalComponents)\n",
    "    \n",
    "    principalComponents = pca.transform(x_test_fin_normal)\n",
    "    x_test_fin_pca = pd.DataFrame(data = principalComponents)\n",
    "    \n",
    "    # Se crea y entrena el modelo\n",
    "    knn_fin = KNeighborsRegressor(n_neighbors = 4, leaf_size = 10, weights = 'uniform')\n",
    "\n",
    "    knn_fin.fit(x_train_fin,y_train_fin.values.ravel())\n",
    "    \n",
    "    # Se obtiene la predicción\n",
    "    pred_knn_fin_ = knn_fin.predict(x_test_fin)\n",
    "    pred_knn_fin = []\n",
    "    [pred_knn_fin.append(y) for y in pred_knn_fin_.tolist()]\n",
    "    \n",
    "    # Se obtienen las métricas del modelo\n",
    "    metricas_final = metricas('Modelo de knn', y_test_fin, pred_knn_fin)\n",
    "    \n",
    "    \n",
    "    # Se guardan los resultados\n",
    "    resultados.append(metricas_final[4])\n",
    "\n",
    "print(\"El valor medio de R² es {}, con desviación estándar de {}\".format(np.mean(resultados), np.std(resultados)))"
   ]
  },
  {
   "cell_type": "markdown",
   "metadata": {},
   "source": [
    "Se concluye que el modelo es válido."
   ]
  },
  {
   "cell_type": "markdown",
   "metadata": {},
   "source": [
    "# Se guarda el modelo\n",
    "\n",
    "<div style = \"float:right\"><a style=\"text-decoration:none\" href = \"#Modelo-de-predicción:-Temperatura-ambiente\">"
   ]
  },
  {
   "cell_type": "code",
   "execution_count": null,
   "metadata": {},
   "outputs": [],
   "source": [
    "directorio = '/home/dsc/git/TFM/'"
   ]
  },
  {
   "cell_type": "code",
   "execution_count": null,
   "metadata": {},
   "outputs": [],
   "source": [
    "import pickle\n",
    "\n",
    "# Se guarda el modelo\n",
    "modelo = \"modelo_2_temp.pkl\"\n",
    "\n",
    "with open(directorio + 'data/Modelo_2/' + modelo, 'wb') as file:\n",
    "        pickle.dump(knn, file)    "
   ]
  }
 ],
 "metadata": {
  "kernelspec": {
   "display_name": "Python 3",
   "language": "python",
   "name": "python3"
  },
  "language_info": {
   "codemirror_mode": {
    "name": "ipython",
    "version": 3
   },
   "file_extension": ".py",
   "mimetype": "text/x-python",
   "name": "python",
   "nbconvert_exporter": "python",
   "pygments_lexer": "ipython3",
   "version": "3.8.5"
  }
 },
 "nbformat": 4,
 "nbformat_minor": 4
}
