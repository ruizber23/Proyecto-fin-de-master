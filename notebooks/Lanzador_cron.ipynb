{
 "cells": [
  {
   "cell_type": "markdown",
   "metadata": {},
   "source": [
    "# Lazador de procesos periódicos\n",
    "Este notebook se utilizará para obtener de manera automátca y diaria los datos históricos necesarios para los modelos de predicción que se utilizarán:\n",
    "\n",
    "**Radiación del día anterior a la llamada** https://opendata.aemet.es/centrodedescargas/productosAEMET<br>\n",
    "**Radiación solar de dos días antes del día de obtención de datos** http://www.soda-pro.com/web-services/radiation/cams-radiation-service<br>\n",
    "**Datos climáticos de los cinco días anteriores a la llamada** https://openweathermap.org/api/one-call-api#history<br>\n",
    "**Predicción climática de los dos días siguientes a la llamada** https://openweathermap.org/api/one-call-api<br>\n",
    "\n",
    "\n",
    "- [Preparación](#Preparación)<br>\n",
    "\n",
    "### 1. [Generar el job](#Generar-el-job)\n",
    "\n",
    "### 2. [Eliminar el job](#Eliminar-el-job)\n"
   ]
  },
  {
   "cell_type": "markdown",
   "metadata": {},
   "source": [
    "## Preparación"
   ]
  },
  {
   "cell_type": "markdown",
   "metadata": {},
   "source": [
    "Primero se instalan las librerías necesarios y se importan, generando también un cron"
   ]
  },
  {
   "cell_type": "code",
   "execution_count": 1,
   "metadata": {},
   "outputs": [],
   "source": [
    "#! pip install python-crontab\n",
    "#! conda install croniter -y"
   ]
  },
  {
   "cell_type": "code",
   "execution_count": 1,
   "metadata": {},
   "outputs": [],
   "source": [
    "from crontab import CronTab\n",
    "import datetime"
   ]
  },
  {
   "cell_type": "code",
   "execution_count": 2,
   "metadata": {},
   "outputs": [],
   "source": [
    "my_cron = CronTab(user='dsc')"
   ]
  },
  {
   "cell_type": "markdown",
   "metadata": {},
   "source": [
    "# Generar  el job\n",
    "<div style = \"float:right\"><a style=\"text-decoration:none\" href = \"#Lazador-de-procesos-periódicos\">"
   ]
  },
  {
   "cell_type": "code",
   "execution_count": 5,
   "metadata": {},
   "outputs": [
    {
     "name": "stdout",
     "output_type": "stream",
     "text": [
      "La primera ejecución será: \n",
      "2021-05-30 11:02:00\n",
      "\n",
      "2 11 * * * /home/dsc/anaconda3/bin/python /home/dsc/git/TFM/notebooks/Obtencion_datos_periodica.py\n"
     ]
    }
   ],
   "source": [
    "# Me aseguro de poder ejecutar el archivo\n",
    "! chmod a+rwx /home/dsc/git/TFM/notebooks/Obtencion_datos_periodica.py\n",
    "\n",
    "# Creo el trabajo\n",
    "job = my_cron.new(command = \"/home/dsc/anaconda3/bin/python /home/dsc/git/TFM/notebooks/Obtencion_datos_periodica.py\")\n",
    "\n",
    "# Fijo periodicidad\n",
    "job.minute.on(2)\n",
    "job.hour.on(11)\n",
    "my_cron.write()\n",
    "\n",
    "# Activo el trabajo\n",
    "for job in my_cron:\n",
    "    sch = job.schedule(date_from = datetime.datetime.now())\n",
    "    print(\"La primera ejecución será: \")\n",
    "    print(sch.get_next())\n",
    "\n",
    "! crontab -l"
   ]
  },
  {
   "cell_type": "code",
   "execution_count": 3,
   "metadata": {},
   "outputs": [
    {
     "name": "stdout",
     "output_type": "stream",
     "text": [
      "La primera ejecución será: \n",
      "2021-06-02 11:02:00\n",
      "\n",
      "2 11 * * * /home/dsc/anaconda3/bin/python /home/dsc/git/TFM/notebooks/Obtencion_datos_periodica.py\n"
     ]
    }
   ],
   "source": [
    "for job in my_cron:\n",
    "    sch = job.schedule(date_from = datetime.datetime.now())\n",
    "    print(\"La primera ejecución será: \")\n",
    "    print(sch.get_next())\n",
    "! crontab -l"
   ]
  },
  {
   "cell_type": "markdown",
   "metadata": {},
   "source": [
    "# Eliminar el job\n",
    "<div style = \"float:right\"><a style=\"text-decoration:none\" href = \"#Lazador-de-procesos-periódicos\">"
   ]
  },
  {
   "cell_type": "markdown",
   "metadata": {},
   "source": [
    "Si deseo eliminar el trabajo"
   ]
  },
  {
   "cell_type": "code",
   "execution_count": 4,
   "metadata": {},
   "outputs": [],
   "source": [
    "for job in my_cron:\n",
    "    if job.comment == '':\n",
    "        my_cron.remove(job)\n",
    "        my_cron.write()\n",
    "! crontab -l"
   ]
  },
  {
   "cell_type": "code",
   "execution_count": null,
   "metadata": {},
   "outputs": [],
   "source": []
  }
 ],
 "metadata": {
  "kernelspec": {
   "display_name": "Python 3",
   "language": "python",
   "name": "python3"
  },
  "language_info": {
   "codemirror_mode": {
    "name": "ipython",
    "version": 3
   },
   "file_extension": ".py",
   "mimetype": "text/x-python",
   "name": "python",
   "nbconvert_exporter": "python",
   "pygments_lexer": "ipython3",
   "version": "3.8.5"
  }
 },
 "nbformat": 4,
 "nbformat_minor": 4
}
