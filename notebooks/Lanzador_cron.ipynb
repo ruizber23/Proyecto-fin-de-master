{
 "cells": [
  {
   "cell_type": "markdown",
   "metadata": {},
   "source": [
    "# Periodic process launcher\n",
    "This notebook will be used to automatically and daily obtain the historical data necessary for the prediction models to be used:\n",
    "\n",
    "**Radiation from the day before the call** https://opendata.aemet.es/centrodedescargas/productosAEMET<br>\n",
    "**Solar radiation for two days before the day of data obtention** http://www.soda-pro.com/web-services/radiation/cams-radiation-service<br>\n",
    "**Climate data for the five days prior to the call** https://openweathermap.org/api/one-call-api#history<br>\n",
    "**Weather forecast for the two days after the call** https://openweathermap.org/api/one-call-api<br>\n",
    "\n",
    "\n",
    "- [Preparation](#Preparation)<br>\n",
    "\n",
    "### 1. [Generate the job](#Generate-the-job)\n",
    "\n",
    "### 2. [Deleting the job](#Deleting-the-job)\n"
   ]
  },
  {
   "cell_type": "markdown",
   "metadata": {},
   "source": [
    "## Preparation"
   ]
  },
  {
   "cell_type": "markdown",
   "metadata": {},
   "source": [
    "First, the necessary libraries are installed and imported, also generating a cron"
   ]
  },
  {
   "cell_type": "code",
   "execution_count": 1,
   "metadata": {},
   "outputs": [],
   "source": [
    "#! pip install python-crontab\n",
    "#! conda install croniter -y"
   ]
  },
  {
   "cell_type": "code",
   "execution_count": 2,
   "metadata": {},
   "outputs": [],
   "source": [
    "from crontab import CronTab\n",
    "import datetime"
   ]
  },
  {
   "cell_type": "code",
   "execution_count": 3,
   "metadata": {},
   "outputs": [],
   "source": [
    "my_cron = CronTab(user='dsc')"
   ]
  },
  {
   "cell_type": "markdown",
   "metadata": {},
   "source": [
    "# Generate the job\n",
    "<div style = \"float:right\"><a style=\"text-decoration:none\" href = \"#Periodic-process-launcher\">"
   ]
  },
  {
   "cell_type": "markdown",
   "metadata": {},
   "source": [
    "**If you want to run it, you must modify the corresponding path where the file is located**"
   ]
  },
  {
   "cell_type": "code",
   "execution_count": 5,
   "metadata": {},
   "outputs": [
    {
     "name": "stdout",
     "output_type": "stream",
     "text": [
      "La primera ejecución será: \n",
      "2021-06-24 11:02:00\n",
      "\n",
      "2 11 * * * /home/dsc/anaconda3/bin/python /home/dsc/git/TFM/notebooks/Obtencion_datos_periodica.py\n"
     ]
    }
   ],
   "source": [
    "# Ensures that the file can be executed\n",
    "! chmod a+rwx /home/dsc/git/TFM/notebooks/Obtencion_datos_periodica.py\n",
    "\n",
    "# Work is created\n",
    "job = my_cron.new(command = \"/home/dsc/anaconda3/bin/python /home/dsc/git/TFM/notebooks/Obtencion_datos_periodica.py\")\n",
    "\n",
    "# The periodicity is set\n",
    "job.minute.on(2)\n",
    "job.hour.on(11)\n",
    "my_cron.write()\n",
    "\n",
    "# Work is activated\n",
    "for job in my_cron:\n",
    "    sch = job.schedule(date_from = datetime.datetime.now())\n",
    "    print(\"La primera ejecución será: \")\n",
    "    print(sch.get_next())\n",
    "\n",
    "! crontab -l"
   ]
  },
  {
   "cell_type": "code",
   "execution_count": 5,
   "metadata": {},
   "outputs": [],
   "source": [
    "for job in my_cron:\n",
    "    sch = job.schedule(date_from = datetime.datetime.now())\n",
    "    print(\"La primera ejecución será: \")\n",
    "    print(sch.get_next())\n",
    "! crontab -l"
   ]
  },
  {
   "cell_type": "markdown",
   "metadata": {},
   "source": [
    "# Deleting the job\n",
    "<div style = \"float:right\"><a style=\"text-decoration:none\" href = \"#Periodic-process-launcher\">"
   ]
  },
  {
   "cell_type": "markdown",
   "metadata": {},
   "source": [
    "If you want to delete the job"
   ]
  },
  {
   "cell_type": "code",
   "execution_count": 4,
   "metadata": {},
   "outputs": [],
   "source": [
    "for job in my_cron:\n",
    "    if job.comment == '':\n",
    "        my_cron.remove(job)\n",
    "        my_cron.write()\n",
    "! crontab -l"
   ]
  }
 ],
 "metadata": {
  "kernelspec": {
   "display_name": "Python 3",
   "language": "python",
   "name": "python3"
  },
  "language_info": {
   "codemirror_mode": {
    "name": "ipython",
    "version": 3
   },
   "file_extension": ".py",
   "mimetype": "text/x-python",
   "name": "python",
   "nbconvert_exporter": "python",
   "pygments_lexer": "ipython3",
   "version": "3.8.5"
  }
 },
 "nbformat": 4,
 "nbformat_minor": 4
}
