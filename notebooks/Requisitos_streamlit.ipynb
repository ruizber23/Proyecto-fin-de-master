{
 "cells": [
  {
   "cell_type": "markdown",
   "metadata": {},
   "source": [
    "# Requisitos para la ejecución de la aplicación\n",
    "\n",
    "Se debe correr este notebook para poder utilizarla. **SOLO SE EJECUTA UNA VEZ**."
   ]
  },
  {
   "cell_type": "markdown",
   "metadata": {},
   "source": [
    "Se fija el directorio"
   ]
  },
  {
   "cell_type": "code",
   "execution_count": 12,
   "metadata": {},
   "outputs": [
    {
     "name": "stdout",
     "output_type": "stream",
     "text": [
      "/home/dsc/git/TFM/notebooks\n"
     ]
    }
   ],
   "source": [
    "%cd /home/dsc/git/TFM/notebooks"
   ]
  },
  {
   "cell_type": "code",
   "execution_count": 13,
   "metadata": {
    "scrolled": true
   },
   "outputs": [
    {
     "name": "stdout",
     "output_type": "stream",
     "text": [
      "Requirement already satisfied: streamlit-drawable-canvas in /home/dsc/anaconda3/lib/python3.8/site-packages (0.8.0)\n",
      "Requirement already satisfied: Pillow in /home/dsc/anaconda3/lib/python3.8/site-packages (from streamlit-drawable-canvas) (8.0.1)\n",
      "Requirement already satisfied: numpy in /home/dsc/anaconda3/lib/python3.8/site-packages (from streamlit-drawable-canvas) (1.19.2)\n",
      "Requirement already satisfied: streamlit>=0.63 in /home/dsc/anaconda3/lib/python3.8/site-packages (from streamlit-drawable-canvas) (0.82.0)\n",
      "Requirement already satisfied: watchdog; platform_system != \"Darwin\" in /home/dsc/anaconda3/lib/python3.8/site-packages (from streamlit>=0.63->streamlit-drawable-canvas) (0.10.3)\n",
      "Requirement already satisfied: pyarrow; python_version < \"3.9\" in /home/dsc/anaconda3/lib/python3.8/site-packages (from streamlit>=0.63->streamlit-drawable-canvas) (4.0.1)\n",
      "Requirement already satisfied: click<8.0,>=7.0 in /home/dsc/anaconda3/lib/python3.8/site-packages (from streamlit>=0.63->streamlit-drawable-canvas) (7.1.2)\n",
      "Requirement already satisfied: blinker in /home/dsc/anaconda3/lib/python3.8/site-packages (from streamlit>=0.63->streamlit-drawable-canvas) (1.4)\n",
      "Requirement already satisfied: pandas>=0.21.0 in /home/dsc/anaconda3/lib/python3.8/site-packages (from streamlit>=0.63->streamlit-drawable-canvas) (1.1.3)\n",
      "Requirement already satisfied: python-dateutil in /home/dsc/anaconda3/lib/python3.8/site-packages (from streamlit>=0.63->streamlit-drawable-canvas) (2.8.1)\n",
      "Requirement already satisfied: altair>=3.2.0 in /home/dsc/anaconda3/lib/python3.8/site-packages (from streamlit>=0.63->streamlit-drawable-canvas) (4.1.0)\n",
      "Requirement already satisfied: gitpython in /home/dsc/anaconda3/lib/python3.8/site-packages (from streamlit>=0.63->streamlit-drawable-canvas) (3.1.17)\n",
      "Requirement already satisfied: validators in /home/dsc/anaconda3/lib/python3.8/site-packages (from streamlit>=0.63->streamlit-drawable-canvas) (0.18.2)\n",
      "Requirement already satisfied: protobuf!=3.11,>=3.6.0 in /home/dsc/anaconda3/lib/python3.8/site-packages (from streamlit>=0.63->streamlit-drawable-canvas) (3.17.0)\n",
      "Requirement already satisfied: toml in /home/dsc/anaconda3/lib/python3.8/site-packages (from streamlit>=0.63->streamlit-drawable-canvas) (0.10.1)\n",
      "Requirement already satisfied: tzlocal in /home/dsc/anaconda3/lib/python3.8/site-packages (from streamlit>=0.63->streamlit-drawable-canvas) (2.1)\n",
      "Requirement already satisfied: pydeck>=0.1.dev5 in /home/dsc/anaconda3/lib/python3.8/site-packages (from streamlit>=0.63->streamlit-drawable-canvas) (0.6.2)\n",
      "Requirement already satisfied: base58 in /home/dsc/anaconda3/lib/python3.8/site-packages (from streamlit>=0.63->streamlit-drawable-canvas) (2.1.0)\n",
      "Requirement already satisfied: requests in /home/dsc/anaconda3/lib/python3.8/site-packages (from streamlit>=0.63->streamlit-drawable-canvas) (2.24.0)\n",
      "Requirement already satisfied: cachetools>=4.0 in /home/dsc/anaconda3/lib/python3.8/site-packages (from streamlit>=0.63->streamlit-drawable-canvas) (4.2.2)\n",
      "Requirement already satisfied: packaging in /home/dsc/anaconda3/lib/python3.8/site-packages (from streamlit>=0.63->streamlit-drawable-canvas) (20.4)\n",
      "Requirement already satisfied: tornado>=5.0 in /home/dsc/anaconda3/lib/python3.8/site-packages (from streamlit>=0.63->streamlit-drawable-canvas) (6.0.4)\n",
      "Requirement already satisfied: astor in /home/dsc/anaconda3/lib/python3.8/site-packages (from streamlit>=0.63->streamlit-drawable-canvas) (0.8.1)\n",
      "Requirement already satisfied: pathtools>=0.1.1 in /home/dsc/anaconda3/lib/python3.8/site-packages (from watchdog; platform_system != \"Darwin\"->streamlit>=0.63->streamlit-drawable-canvas) (0.1.2)\n",
      "Requirement already satisfied: pytz>=2017.2 in /home/dsc/anaconda3/lib/python3.8/site-packages (from pandas>=0.21.0->streamlit>=0.63->streamlit-drawable-canvas) (2020.1)\n",
      "Requirement already satisfied: six>=1.5 in /home/dsc/anaconda3/lib/python3.8/site-packages (from python-dateutil->streamlit>=0.63->streamlit-drawable-canvas) (1.15.0)\n",
      "Requirement already satisfied: entrypoints in /home/dsc/anaconda3/lib/python3.8/site-packages (from altair>=3.2.0->streamlit>=0.63->streamlit-drawable-canvas) (0.3)\n",
      "Requirement already satisfied: jinja2 in /home/dsc/anaconda3/lib/python3.8/site-packages (from altair>=3.2.0->streamlit>=0.63->streamlit-drawable-canvas) (2.11.2)\n",
      "Requirement already satisfied: jsonschema in /home/dsc/anaconda3/lib/python3.8/site-packages (from altair>=3.2.0->streamlit>=0.63->streamlit-drawable-canvas) (3.2.0)\n",
      "Requirement already satisfied: toolz in /home/dsc/anaconda3/lib/python3.8/site-packages (from altair>=3.2.0->streamlit>=0.63->streamlit-drawable-canvas) (0.11.1)\n",
      "Requirement already satisfied: gitdb<5,>=4.0.1 in /home/dsc/anaconda3/lib/python3.8/site-packages (from gitpython->streamlit>=0.63->streamlit-drawable-canvas) (4.0.7)\n",
      "Requirement already satisfied: decorator>=3.4.0 in /home/dsc/anaconda3/lib/python3.8/site-packages (from validators->streamlit>=0.63->streamlit-drawable-canvas) (4.4.2)\n",
      "Requirement already satisfied: traitlets>=4.3.2 in /home/dsc/anaconda3/lib/python3.8/site-packages (from pydeck>=0.1.dev5->streamlit>=0.63->streamlit-drawable-canvas) (5.0.5)\n",
      "Requirement already satisfied: ipywidgets>=7.0.0 in /home/dsc/anaconda3/lib/python3.8/site-packages (from pydeck>=0.1.dev5->streamlit>=0.63->streamlit-drawable-canvas) (7.5.1)\n",
      "Requirement already satisfied: ipykernel>=5.1.2; python_version >= \"3.4\" in /home/dsc/anaconda3/lib/python3.8/site-packages (from pydeck>=0.1.dev5->streamlit>=0.63->streamlit-drawable-canvas) (5.3.4)\n",
      "Requirement already satisfied: idna<3,>=2.5 in /home/dsc/anaconda3/lib/python3.8/site-packages (from requests->streamlit>=0.63->streamlit-drawable-canvas) (2.10)\n",
      "Requirement already satisfied: certifi>=2017.4.17 in /home/dsc/anaconda3/lib/python3.8/site-packages (from requests->streamlit>=0.63->streamlit-drawable-canvas) (2020.6.20)\n",
      "Requirement already satisfied: chardet<4,>=3.0.2 in /home/dsc/anaconda3/lib/python3.8/site-packages (from requests->streamlit>=0.63->streamlit-drawable-canvas) (3.0.4)\n",
      "Requirement already satisfied: urllib3!=1.25.0,!=1.25.1,<1.26,>=1.21.1 in /home/dsc/anaconda3/lib/python3.8/site-packages (from requests->streamlit>=0.63->streamlit-drawable-canvas) (1.25.11)\n",
      "Requirement already satisfied: pyparsing>=2.0.2 in /home/dsc/anaconda3/lib/python3.8/site-packages (from packaging->streamlit>=0.63->streamlit-drawable-canvas) (2.4.7)\n",
      "Requirement already satisfied: MarkupSafe>=0.23 in /home/dsc/anaconda3/lib/python3.8/site-packages (from jinja2->altair>=3.2.0->streamlit>=0.63->streamlit-drawable-canvas) (1.1.1)\n",
      "Requirement already satisfied: pyrsistent>=0.14.0 in /home/dsc/anaconda3/lib/python3.8/site-packages (from jsonschema->altair>=3.2.0->streamlit>=0.63->streamlit-drawable-canvas) (0.17.3)\n",
      "Requirement already satisfied: attrs>=17.4.0 in /home/dsc/anaconda3/lib/python3.8/site-packages (from jsonschema->altair>=3.2.0->streamlit>=0.63->streamlit-drawable-canvas) (20.3.0)\n",
      "Requirement already satisfied: setuptools in /home/dsc/anaconda3/lib/python3.8/site-packages (from jsonschema->altair>=3.2.0->streamlit>=0.63->streamlit-drawable-canvas) (50.3.1.post20201107)\n",
      "Requirement already satisfied: smmap<5,>=3.0.1 in /home/dsc/anaconda3/lib/python3.8/site-packages (from gitdb<5,>=4.0.1->gitpython->streamlit>=0.63->streamlit-drawable-canvas) (4.0.0)\n",
      "Requirement already satisfied: ipython-genutils in /home/dsc/anaconda3/lib/python3.8/site-packages (from traitlets>=4.3.2->pydeck>=0.1.dev5->streamlit>=0.63->streamlit-drawable-canvas) (0.2.0)\n",
      "Requirement already satisfied: widgetsnbextension~=3.5.0 in /home/dsc/anaconda3/lib/python3.8/site-packages (from ipywidgets>=7.0.0->pydeck>=0.1.dev5->streamlit>=0.63->streamlit-drawable-canvas) (3.5.1)\n",
      "Requirement already satisfied: nbformat>=4.2.0 in /home/dsc/anaconda3/lib/python3.8/site-packages (from ipywidgets>=7.0.0->pydeck>=0.1.dev5->streamlit>=0.63->streamlit-drawable-canvas) (5.0.8)\n",
      "Requirement already satisfied: ipython>=4.0.0; python_version >= \"3.3\" in /home/dsc/anaconda3/lib/python3.8/site-packages (from ipywidgets>=7.0.0->pydeck>=0.1.dev5->streamlit>=0.63->streamlit-drawable-canvas) (7.19.0)\n",
      "Requirement already satisfied: jupyter-client in /home/dsc/anaconda3/lib/python3.8/site-packages (from ipykernel>=5.1.2; python_version >= \"3.4\"->pydeck>=0.1.dev5->streamlit>=0.63->streamlit-drawable-canvas) (6.1.7)\n",
      "Requirement already satisfied: notebook>=4.4.1 in /home/dsc/anaconda3/lib/python3.8/site-packages (from widgetsnbextension~=3.5.0->ipywidgets>=7.0.0->pydeck>=0.1.dev5->streamlit>=0.63->streamlit-drawable-canvas) (6.1.4)\n",
      "Requirement already satisfied: jupyter-core in /home/dsc/anaconda3/lib/python3.8/site-packages (from nbformat>=4.2.0->ipywidgets>=7.0.0->pydeck>=0.1.dev5->streamlit>=0.63->streamlit-drawable-canvas) (4.6.3)\n",
      "Requirement already satisfied: pickleshare in /home/dsc/anaconda3/lib/python3.8/site-packages (from ipython>=4.0.0; python_version >= \"3.3\"->ipywidgets>=7.0.0->pydeck>=0.1.dev5->streamlit>=0.63->streamlit-drawable-canvas) (0.7.5)\n",
      "Requirement already satisfied: backcall in /home/dsc/anaconda3/lib/python3.8/site-packages (from ipython>=4.0.0; python_version >= \"3.3\"->ipywidgets>=7.0.0->pydeck>=0.1.dev5->streamlit>=0.63->streamlit-drawable-canvas) (0.2.0)\n",
      "Requirement already satisfied: jedi>=0.10 in /home/dsc/anaconda3/lib/python3.8/site-packages (from ipython>=4.0.0; python_version >= \"3.3\"->ipywidgets>=7.0.0->pydeck>=0.1.dev5->streamlit>=0.63->streamlit-drawable-canvas) (0.17.1)\n",
      "Requirement already satisfied: pygments in /home/dsc/anaconda3/lib/python3.8/site-packages (from ipython>=4.0.0; python_version >= \"3.3\"->ipywidgets>=7.0.0->pydeck>=0.1.dev5->streamlit>=0.63->streamlit-drawable-canvas) (2.7.2)\n",
      "Requirement already satisfied: pexpect>4.3; sys_platform != \"win32\" in /home/dsc/anaconda3/lib/python3.8/site-packages (from ipython>=4.0.0; python_version >= \"3.3\"->ipywidgets>=7.0.0->pydeck>=0.1.dev5->streamlit>=0.63->streamlit-drawable-canvas) (4.8.0)\n",
      "Requirement already satisfied: prompt-toolkit!=3.0.0,!=3.0.1,<3.1.0,>=2.0.0 in /home/dsc/anaconda3/lib/python3.8/site-packages (from ipython>=4.0.0; python_version >= \"3.3\"->ipywidgets>=7.0.0->pydeck>=0.1.dev5->streamlit>=0.63->streamlit-drawable-canvas) (3.0.8)\n",
      "Requirement already satisfied: pyzmq>=13 in /home/dsc/anaconda3/lib/python3.8/site-packages (from jupyter-client->ipykernel>=5.1.2; python_version >= \"3.4\"->pydeck>=0.1.dev5->streamlit>=0.63->streamlit-drawable-canvas) (19.0.2)\n",
      "Requirement already satisfied: argon2-cffi in /home/dsc/anaconda3/lib/python3.8/site-packages (from notebook>=4.4.1->widgetsnbextension~=3.5.0->ipywidgets>=7.0.0->pydeck>=0.1.dev5->streamlit>=0.63->streamlit-drawable-canvas) (20.1.0)\n",
      "Requirement already satisfied: nbconvert in /home/dsc/anaconda3/lib/python3.8/site-packages (from notebook>=4.4.1->widgetsnbextension~=3.5.0->ipywidgets>=7.0.0->pydeck>=0.1.dev5->streamlit>=0.63->streamlit-drawable-canvas) (6.0.7)\n",
      "Requirement already satisfied: terminado>=0.8.3 in /home/dsc/anaconda3/lib/python3.8/site-packages (from notebook>=4.4.1->widgetsnbextension~=3.5.0->ipywidgets>=7.0.0->pydeck>=0.1.dev5->streamlit>=0.63->streamlit-drawable-canvas) (0.9.1)\n",
      "Requirement already satisfied: prometheus-client in /home/dsc/anaconda3/lib/python3.8/site-packages (from notebook>=4.4.1->widgetsnbextension~=3.5.0->ipywidgets>=7.0.0->pydeck>=0.1.dev5->streamlit>=0.63->streamlit-drawable-canvas) (0.8.0)\n",
      "Requirement already satisfied: Send2Trash in /home/dsc/anaconda3/lib/python3.8/site-packages (from notebook>=4.4.1->widgetsnbextension~=3.5.0->ipywidgets>=7.0.0->pydeck>=0.1.dev5->streamlit>=0.63->streamlit-drawable-canvas) (1.5.0)\n",
      "Requirement already satisfied: parso<0.8.0,>=0.7.0 in /home/dsc/anaconda3/lib/python3.8/site-packages (from jedi>=0.10->ipython>=4.0.0; python_version >= \"3.3\"->ipywidgets>=7.0.0->pydeck>=0.1.dev5->streamlit>=0.63->streamlit-drawable-canvas) (0.7.0)\n",
      "Requirement already satisfied: ptyprocess>=0.5 in /home/dsc/anaconda3/lib/python3.8/site-packages (from pexpect>4.3; sys_platform != \"win32\"->ipython>=4.0.0; python_version >= \"3.3\"->ipywidgets>=7.0.0->pydeck>=0.1.dev5->streamlit>=0.63->streamlit-drawable-canvas) (0.6.0)\n",
      "Requirement already satisfied: wcwidth in /home/dsc/anaconda3/lib/python3.8/site-packages (from prompt-toolkit!=3.0.0,!=3.0.1,<3.1.0,>=2.0.0->ipython>=4.0.0; python_version >= \"3.3\"->ipywidgets>=7.0.0->pydeck>=0.1.dev5->streamlit>=0.63->streamlit-drawable-canvas) (0.2.5)\n",
      "Requirement already satisfied: cffi>=1.0.0 in /home/dsc/anaconda3/lib/python3.8/site-packages (from argon2-cffi->notebook>=4.4.1->widgetsnbextension~=3.5.0->ipywidgets>=7.0.0->pydeck>=0.1.dev5->streamlit>=0.63->streamlit-drawable-canvas) (1.14.3)\n",
      "Requirement already satisfied: mistune<2,>=0.8.1 in /home/dsc/anaconda3/lib/python3.8/site-packages (from nbconvert->notebook>=4.4.1->widgetsnbextension~=3.5.0->ipywidgets>=7.0.0->pydeck>=0.1.dev5->streamlit>=0.63->streamlit-drawable-canvas) (0.8.4)\n",
      "Requirement already satisfied: jupyterlab-pygments in /home/dsc/anaconda3/lib/python3.8/site-packages (from nbconvert->notebook>=4.4.1->widgetsnbextension~=3.5.0->ipywidgets>=7.0.0->pydeck>=0.1.dev5->streamlit>=0.63->streamlit-drawable-canvas) (0.1.2)\n",
      "Requirement already satisfied: bleach in /home/dsc/anaconda3/lib/python3.8/site-packages (from nbconvert->notebook>=4.4.1->widgetsnbextension~=3.5.0->ipywidgets>=7.0.0->pydeck>=0.1.dev5->streamlit>=0.63->streamlit-drawable-canvas) (3.2.1)\n",
      "Requirement already satisfied: pandocfilters>=1.4.1 in /home/dsc/anaconda3/lib/python3.8/site-packages (from nbconvert->notebook>=4.4.1->widgetsnbextension~=3.5.0->ipywidgets>=7.0.0->pydeck>=0.1.dev5->streamlit>=0.63->streamlit-drawable-canvas) (1.4.3)\n",
      "Requirement already satisfied: testpath in /home/dsc/anaconda3/lib/python3.8/site-packages (from nbconvert->notebook>=4.4.1->widgetsnbextension~=3.5.0->ipywidgets>=7.0.0->pydeck>=0.1.dev5->streamlit>=0.63->streamlit-drawable-canvas) (0.4.4)\n",
      "Requirement already satisfied: defusedxml in /home/dsc/anaconda3/lib/python3.8/site-packages (from nbconvert->notebook>=4.4.1->widgetsnbextension~=3.5.0->ipywidgets>=7.0.0->pydeck>=0.1.dev5->streamlit>=0.63->streamlit-drawable-canvas) (0.6.0)\n",
      "Requirement already satisfied: nbclient<0.6.0,>=0.5.0 in /home/dsc/anaconda3/lib/python3.8/site-packages (from nbconvert->notebook>=4.4.1->widgetsnbextension~=3.5.0->ipywidgets>=7.0.0->pydeck>=0.1.dev5->streamlit>=0.63->streamlit-drawable-canvas) (0.5.1)\n",
      "Requirement already satisfied: pycparser in /home/dsc/anaconda3/lib/python3.8/site-packages (from cffi>=1.0.0->argon2-cffi->notebook>=4.4.1->widgetsnbextension~=3.5.0->ipywidgets>=7.0.0->pydeck>=0.1.dev5->streamlit>=0.63->streamlit-drawable-canvas) (2.20)\n",
      "Requirement already satisfied: webencodings in /home/dsc/anaconda3/lib/python3.8/site-packages (from bleach->nbconvert->notebook>=4.4.1->widgetsnbextension~=3.5.0->ipywidgets>=7.0.0->pydeck>=0.1.dev5->streamlit>=0.63->streamlit-drawable-canvas) (0.5.1)\n",
      "Requirement already satisfied: async-generator in /home/dsc/anaconda3/lib/python3.8/site-packages (from nbclient<0.6.0,>=0.5.0->nbconvert->notebook>=4.4.1->widgetsnbextension~=3.5.0->ipywidgets>=7.0.0->pydeck>=0.1.dev5->streamlit>=0.63->streamlit-drawable-canvas) (1.10)\n",
      "Requirement already satisfied: nest-asyncio in /home/dsc/anaconda3/lib/python3.8/site-packages (from nbclient<0.6.0,>=0.5.0->nbconvert->notebook>=4.4.1->widgetsnbextension~=3.5.0->ipywidgets>=7.0.0->pydeck>=0.1.dev5->streamlit>=0.63->streamlit-drawable-canvas) (1.4.2)\n"
     ]
    }
   ],
   "source": [
    "! pip install streamlit-drawable-canvas"
   ]
  },
  {
   "cell_type": "markdown",
   "metadata": {},
   "source": [
    "Se instala ``node``. Se debe tener Python 3.6+, Node.js (https://nodejs.org/), y npm instalados."
   ]
  },
  {
   "cell_type": "code",
   "execution_count": 14,
   "metadata": {
    "scrolled": true
   },
   "outputs": [
    {
     "name": "stdout",
     "output_type": "stream",
     "text": [
      "\u001b[K\u001b[?25h\u001b[37;40mnpm\u001b[0m \u001b[0m\u001b[30;43mWARN\u001b[0m \u001b[0m\u001b[35mdeprecated\u001b[0m request@2.88.2: request has been deprecated, see https://github.com/request/request/issues/3142\n",
      "\u001b[K\u001b[?25h\u001b[37;40mnpm\u001b[0m \u001b[0m\u001b[30;43mWARN\u001b[0m \u001b[0m\u001b[35mdeprecated\u001b[0m har-validator@5.1.5: this library is no longer supported h\u001b[0m\u001b[K\n",
      "\u001b[K\u001b[?25h27m\u001b[90m................\u001b[0m] / fetchMetadata: \u001b[30;43mWARN\u001b[0m \u001b[35mdeprecated\u001b[0m har-validator@5.1.5: this\u001b[0m\u001b[Khis\u001b[0m\u001b[K\u001b[37;40mnpm\u001b[0m \u001b[0m\u001b[30;43mWARN\u001b[0m \u001b[0m\u001b[35mdeprecated\u001b[0m uuid@3.4.0: Please upgrade  to version 7 or higher.  Older versions may use Math.random() in certain circumstances, which is known to be problematic.  See https://v8.dev/blog/math-random for details.\n",
      "\u001b[K\u001b[?25h\u001b[37;40mnpm\u001b[0m \u001b[0m\u001b[30;43mWARN\u001b[0m \u001b[0m\u001b[35msaveError\u001b[0m ENOENT: no such file or directory, open '/home/dsc/git/TFM/notebooks/package.json'\n",
      "\u001b[K\u001b[?25h\u001b[37;40mnpm\u001b[0m \u001b[0m\u001b[34;40mnotice\u001b[0m\u001b[35m\u001b[0m created a lockfile as package-lock.json. You should commit this file.re\u001b[0m\u001b[K\n",
      "\u001b[0m\u001b[37;40mnpm\u001b[0m \u001b[0m\u001b[30;43mWARN\u001b[0m \u001b[0m\u001b[35menoent\u001b[0m ENOENT: no such file or directory, open '/home/dsc/git/TFM/notebooks/package.json'\n",
      "\u001b[0m\u001b[37;40mnpm\u001b[0m \u001b[0m\u001b[30;43mWARN\u001b[0m\u001b[35m\u001b[0m notebooks No description\n",
      "\u001b[0m\u001b[37;40mnpm\u001b[0m \u001b[0m\u001b[30;43mWARN\u001b[0m\u001b[35m\u001b[0m notebooks No repository field.\n",
      "\u001b[0m\u001b[37;40mnpm\u001b[0m \u001b[0m\u001b[30;43mWARN\u001b[0m\u001b[35m\u001b[0m notebooks No README data\n",
      "\u001b[0m\u001b[37;40mnpm\u001b[0m \u001b[0m\u001b[30;43mWARN\u001b[0m\u001b[35m\u001b[0m notebooks No license field.\n",
      "\u001b[0m\n",
      "+ python.node@1.0.4\n",
      "added 166 packages from 113 contributors and audited 166 packages in 45.093s\n",
      "\n",
      "4 packages are looking for funding\n",
      "  run `npm fund` for details\n",
      "\n",
      "found \u001b[92m0\u001b[0m vulnerabilities\n",
      "\n",
      "\u001b[K\u001b[?25h7m            \u001b[27m\u001b[90m......\u001b[0m] / postinstall: \u001b[7msill\u001b[0m \u001b[35minstall\u001b[0m printInstalled\u001b[0m\u001b[K"
     ]
    }
   ],
   "source": [
    "! npm install python.node\n",
    "! rm /home/dsc/git/TFM/notebooks/package-lock.json"
   ]
  },
  {
   "cell_type": "markdown",
   "metadata": {},
   "source": [
    "Para mostrar el mapa de la interfaz en ``Streamlit`` se va a utilizar ``Folium``. Sin embargo, el streamlit habitual es estático. Para poder extraer datos de él, el componente streamlit debe ser 'bidireccional'.\n",
    "\n",
    "Para poder extraer las coordenadas del punto seleccionado en el mapa por el usuario, se debe crear un componente bidireccional. Para ello, se ha utilizado las instrucciones de **Streamlit** (https://docs.streamlit.io/en/latest/develop_streamlit_components.html#create-a-bi-directional-component). Además, se ha utilizado parte de otro repositorio de Github: https://github.com/andfanilo/streamlit-light-leaflet."
   ]
  },
  {
   "cell_type": "markdown",
   "metadata": {},
   "source": [
    "Se clona el repositorio indicado por Streamlit"
   ]
  },
  {
   "cell_type": "code",
   "execution_count": 15,
   "metadata": {
    "scrolled": true
   },
   "outputs": [
    {
     "name": "stdout",
     "output_type": "stream",
     "text": [
      "Cloning into 'component-template'...\n",
      "remote: Enumerating objects: 376, done.\u001b[K\n",
      "remote: Counting objects: 100% (376/376), done.\u001b[K\n",
      "remote: Compressing objects: 100% (223/223), done.\u001b[K (195/223)\u001b[K\n",
      "remote: Total 376 (delta 212), reused 286 (delta 148), pack-reused 0\u001b[K\n",
      "Receiving objects: 100% (376/376), 215.87 KiB | 2.02 MiB/s, done.\n",
      "Resolving deltas: 100% (212/212), done.\n"
     ]
    }
   ],
   "source": [
    "! git clone https://github.com/streamlit/component-template"
   ]
  },
  {
   "cell_type": "markdown",
   "metadata": {},
   "source": [
    "Se clona el repositorio mencionado antes"
   ]
  },
  {
   "cell_type": "code",
   "execution_count": 16,
   "metadata": {
    "scrolled": true
   },
   "outputs": [
    {
     "name": "stdout",
     "output_type": "stream",
     "text": [
      "Cloning into 'streamlit-light-leaflet'...\n",
      "remote: Enumerating objects: 24, done.\u001b[K\n",
      "remote: Counting objects: 100% (24/24), done.\u001b[K\n",
      "remote: Compressing objects: 100% (22/22), done.\u001b[K\n",
      "remote: Total 24 (delta 0), reused 24 (delta 0), pack-reused 0\u001b[K\n",
      "Unpacking objects: 100% (24/24), done.\n"
     ]
    }
   ],
   "source": [
    "! git clone https://github.com/andfanilo/streamlit-light-leaflet"
   ]
  },
  {
   "cell_type": "markdown",
   "metadata": {},
   "source": [
    "Se copia la parte útil del segundo al primero"
   ]
  },
  {
   "cell_type": "code",
   "execution_count": 17,
   "metadata": {},
   "outputs": [],
   "source": [
    "! cp -r ./streamlit-light-leaflet/my_component/frontend/src/streamlit ./component-template/template/my_component/frontend/src\n",
    "! cp ./streamlit-light-leaflet/my_component/frontend/src/index.tsx ./component-template/template/my_component/frontend/src"
   ]
  },
  {
   "cell_type": "markdown",
   "metadata": {},
   "source": [
    "Se fija el directorio en el repositorio"
   ]
  },
  {
   "cell_type": "code",
   "execution_count": 18,
   "metadata": {},
   "outputs": [
    {
     "name": "stdout",
     "output_type": "stream",
     "text": [
      "/home/dsc/git/TFM/notebooks/component-template/template/my_component/frontend\n"
     ]
    }
   ],
   "source": [
    "%cd ./component-template/template/my_component/frontend"
   ]
  },
  {
   "cell_type": "code",
   "execution_count": 19,
   "metadata": {
    "scrolled": true
   },
   "outputs": [
    {
     "name": "stdout",
     "output_type": "stream",
     "text": [
      "\u001b[K\u001b[?25h\u001b[37;40mnpm\u001b[0m \u001b[0m\u001b[34;40mnotice\u001b[0m\u001b[35m\u001b[0m created a lockfile as package-lock.json. You should commit this file.\n",
      "\u001b[0m+ leaflet@1.7.1\n",
      "+ @types/leaflet@1.7.1\n",
      "added 3 packages from 12 contributors and audited 3 packages in 3.514s\n",
      "found \u001b[92m0\u001b[0m vulnerabilities\n",
      "\n",
      "\u001b[K\u001b[?25h7m            \u001b[27m\u001b[90m......\u001b[0m] | postinstall: \u001b[7msill\u001b[0m \u001b[35minstall\u001b[0m printInstalled\u001b[0m\u001b[K"
     ]
    }
   ],
   "source": [
    "! npm add leaflet @types/leaflet"
   ]
  },
  {
   "cell_type": "markdown",
   "metadata": {},
   "source": [
    "## Importante\n",
    "\n",
    "Se modifica el código de la interfaz en **component-template/template/my_component/frontend/src/index.tsx**:\n",
    "- Se introduce mi access token de Mapbox (sk.eyJ1IjoicnVpemJlciIsImEiOiJja3BjdDZpcm8wbzM2Mm5ycjY2cG1qcTFyIn0.d-xVxHfFsbjVQSLjQWJKmw).\n",
    "- Se modifica el código de index.tsx para centrar el mapa mostrado en Madrid (coordenadas 40,41;-3,69 y zoom base 6).\n"
   ]
  },
  {
   "cell_type": "markdown",
   "metadata": {},
   "source": [
    "Se crea y activa venv"
   ]
  },
  {
   "cell_type": "code",
   "execution_count": 21,
   "metadata": {},
   "outputs": [
    {
     "name": "stdout",
     "output_type": "stream",
     "text": [
      "/home/dsc/git/TFM/notebooks/component-template/template\n"
     ]
    }
   ],
   "source": [
    "%cd /home/dsc/git/TFM/notebooks/component-template/template\n",
    "! python3 -m venv venv  # Se crea venv\n",
    "! . venv/bin/activate   # Se activa venv"
   ]
  },
  {
   "cell_type": "markdown",
   "metadata": {},
   "source": [
    "El código útil de Python en **component-template/template/my_component/\\_\\_init__.py** se integra en ``Interfaz.ipynb``. Se eliminan los archivos o directorios innecesarios:"
   ]
  },
  {
   "cell_type": "code",
   "execution_count": 20,
   "metadata": {},
   "outputs": [],
   "source": [
    "! rm -rf /home/dsc/git/TFM/notebooks/streamlit-light-leaflet\n",
    "! rm -rf /home/dsc/git/TFM/notebooks/node_modules\n",
    "! rm /home/dsc/git/TFM/notebooks/component-template/template/my_component/frontend/src/MyComponent.tsx"
   ]
  },
  {
   "cell_type": "code",
   "execution_count": 22,
   "metadata": {
    "scrolled": true
   },
   "outputs": [
    {
     "name": "stdout",
     "output_type": "stream",
     "text": [
      "/home/dsc/git/TFM/notebooks/component-template/template/my_component/frontend\n",
      "\u001b[K\u001b[?25h\u001b[37;40mnpm\u001b[0m \u001b[0m\u001b[30;43mWARN\u001b[0m \u001b[0m\u001b[35mdeprecated\u001b[0m babel-eslint@10.1.0: babel-eslint is now @babel/eslint-parser. This package will no longer receive updates.\n",
      "\u001b[K\u001b[?25h7m\u001b[90m.................\u001b[0m] - fetchMetadata: \u001b[7msill\u001b[0m \u001b[35mpacote\u001b[0m range manifest for @typescrip\u001b[0m\u001b[Km\u001b[Kabe\u001b[0m\u001b[K\u001b[37;40mnpm\u001b[0m \u001b[0m\u001b[30;43mWARN\u001b[0m \u001b[0m\u001b[35mdeprecated\u001b[0m eslint-loader@3.0.3: This loader has been deprecated. Please use eslint-webpack-plugin\n",
      "\u001b[K\u001b[?25h\u001b[37;40mnpm\u001b[0m \u001b[0m\u001b[30;43mWARN\u001b[0m \u001b[0m\u001b[35mdeprecated\u001b[0m html-webpack-plugin@4.0.0-beta.11: please switch to a stable version\n",
      "\u001b[K\u001b[?25h\u001b[37;40mnpm\u001b[0m \u001b[0m\u001b[30;43mWARN\u001b[0m \u001b[0m\u001b[35mdeprecated\u001b[0m fsevents@2.1.2: \"Please update to latest v2.3 or v2.2\"K0.0\u001b[0m\u001b[K\n",
      "\u001b[K\u001b[?25h\u001b[37;40mnpm\u001b[0m \u001b[0m\u001b[30;43mWARN\u001b[0m \u001b[0m\u001b[35mdeprecated\u001b[0m urix@0.1.0: Please see https://github.com/lydell/urix#deprecatedK\n",
      "\u001b[K\u001b[?25h\u001b[37;40mnpm\u001b[0m \u001b[0m\u001b[30;43mWARN\u001b[0m \u001b[0m\u001b[35mdeprecated\u001b[0m @types/testing-library__dom@7.5.0: This is a stub types definition. testing-library__dom provides its own type definitions, so you do not need this installed.\n",
      "\u001b[K\u001b[?25h\u001b[37;40mnpm\u001b[0m \u001b[0m\u001b[30;43mWARN\u001b[0m \u001b[0m\u001b[35mdeprecated\u001b[0m chokidar@2.1.8: Chokidar 2 will break on node v14+. Upgrade to chokidar 3 with 15x less dependencies.\n",
      "\u001b[K\u001b[?25h\u001b[37;40mnpm\u001b[0m \u001b[0m\u001b[30;43mWARN\u001b[0m \u001b[0m\u001b[35mdeprecated\u001b[0m resolve-url@0.2.1: https://github.com/lydell/resolve-url#deprecated\n",
      "\u001b[K\u001b[?25h\u001b[37;40mnpm\u001b[0m \u001b[0m\u001b[30;43mWARN\u001b[0m \u001b[0m\u001b[35mdeprecated\u001b[0m request@2.88.2: request has been deprecated, see https://github.com/request/request/issues/3142\n",
      "\u001b[0m\u001b[37;40mnpm\u001b[0m \u001b[0m\u001b[30;43mWARN\u001b[0m \u001b[0m\u001b[35mdeprecated\u001b[0m request-promise-native@1.0.9: request-promise-native has been deprecated because it extends the now deprecated request package, see https://github.com/request/request/issues/3142\n",
      "\u001b[K\u001b[?25h\u001b[37;40mnpm\u001b[0m \u001b[0m\u001b[30;43mWARN\u001b[0m \u001b[0m\u001b[35mdeprecated\u001b[0m fsevents@1.2.13: fsevents 1 will break on node v14+ and could be using insecure binaries. Upgrade to fsevents 2.\n",
      "\u001b[K\u001b[?25h\u001b[37;40mnpm\u001b[0m \u001b[0m\u001b[30;43mWARN\u001b[0m \u001b[0m\u001b[35mdeprecated\u001b[0m uuid@3.4.0: Please upgrade  to version 7 or higher.  Older versions may use Math.random() in certain circumstances, which is known to be problematic.  See https://v8.dev/blog/math-random for details.\n",
      "\u001b[K\u001b[?25h\u001b[37;40mnpm\u001b[0m \u001b[0m\u001b[30;43mWARN\u001b[0m \u001b[0m\u001b[35mdeprecated\u001b[0m @hapi/joi@15.1.1: Switch to 'npm install joi'[0m\u001b[Kbso\u001b[0m\u001b[K\n",
      "\u001b[K\u001b[?25h\u001b[37;40mnpm\u001b[0m \u001b[0m\u001b[30;43mWARN\u001b[0m \u001b[0m\u001b[35mdeprecated\u001b[0m har-validator@5.1.5: this library is no longer supportedh\u001b[0m\u001b[K\n",
      "\u001b[K\u001b[?25h\u001b[37;40mnpm\u001b[0m \u001b[0m\u001b[30;43mWARN\u001b[0m \u001b[0m\u001b[35mdeprecated\u001b[0m @hapi/bourne@1.3.2: This version has been deprecated and is no longer supported or maintained\n",
      "\u001b[0m\u001b[37;40mnpm\u001b[0m \u001b[0m\u001b[30;43mWARN\u001b[0m \u001b[0m\u001b[35mdeprecated\u001b[0m @hapi/address@2.1.4: Moved to 'npm install @sideway/address'\n",
      "\u001b[K\u001b[?25h\u001b[37;40mnpm\u001b[0m \u001b[0m\u001b[30;43mWARN\u001b[0m \u001b[0m\u001b[35mdeprecated\u001b[0m @hapi/hoek@8.5.1: This version has been deprecated and is no longer supported or maintained\n",
      "\u001b[K\u001b[?25h\u001b[37;40mnpm\u001b[0m \u001b[0m\u001b[30;43mWARN\u001b[0m \u001b[0m\u001b[35mdeprecated\u001b[0m @hapi/topo@3.1.6: This version has been deprecated and is no longer supported or maintained\n",
      "\u001b[K\u001b[?25h\u001b[37;40mnpm\u001b[0m \u001b[0m\u001b[30;43mWARN\u001b[0m \u001b[0m\u001b[35mdeprecated\u001b[0m left-pad@1.3.0: use String.prototype.padStart()m\u001b[Km\u001b[K ve\u001b[0m\u001b[K\n",
      "\u001b[K\u001b[?25h\u001b[37;40mnpm\u001b[0m \u001b[0m....\u001b[0m] / fetchMetadata: \u001b[7msill\u001b[0m \u001b[35mpacote\u001b[0m range manifest for is-fullwid\u001b[0m\u001b[Ke Strin\u001b[0m\u001b[K\u001b[30;43mWARN\u001b[0m \u001b[0m\u001b[35mdeprecated\u001b[0m core-js@2.6.12: core-js@<3.3 is no longer maintained and not recommended for usage due to the number of issues. Because of the V8 engine whims, feature detection in old core-js versions could cause a slowdown up to 100x even if nothing is polyfilled. Please, upgrade your dependencies to the actual version of core-js.\n",
      "\u001b[K\u001b[?25h\u001b[37;40mnpm\u001b[0m \u001b[0m\u001b[30;43mWARN\u001b[0m \u001b[0m\u001b[35mlifecycle\u001b[0m The node binary used for scripts is /snap/bin/node but npm is using /snap/node/4594/bin/node itself. Use the `--scripts-prepend-node-path` option to include the path for the node binary npm was executed with.\n",
      "\u001b[0m\n",
      "> core-js@2.6.12 postinstall /home/dsc/git/TFM/notebooks/component-template/template/my_component/frontend/node_modules/babel-runtime/node_modules/core-js\n",
      "> node -e \"try{require('./postinstall')}catch(e){}\"\n",
      "\n",
      "\u001b[96mThank you for using core-js (\u001b[94m https://github.com/zloirock/core-js \u001b[96m) for polyfilling JavaScript standard library!\u001b[0m\n",
      "\n",
      "\u001b[96mThe project needs your help! Please consider supporting of core-js on Open Collective or Patreon: \u001b[0m\n",
      "\u001b[96m>\u001b[94m https://opencollective.com/core-js \u001b[0m\n",
      "\u001b[96m>\u001b[94m https://www.patreon.com/zloirock \u001b[0m\n",
      "\n",
      "\u001b[96mAlso, the author of core-js (\u001b[94m https://github.com/zloirock \u001b[96m) is looking for a good job -)\u001b[0m\n",
      "\n",
      "\u001b[K\u001b[?25h        \u001b[27m\u001b[90m......\u001b[0m] \\ postinstall:cookie: \u001b[32minfo\u001b[0m \u001b[35mlifecycle\u001b[0m cookie@0.4.0~postinst\u001b[0m\u001b[K[0m\u001b[K\n",
      "> core-js@3.14.0 postinstall /home/dsc/git/TFM/notebooks/component-template/template/my_component/frontend/node_modules/core-js\n",
      "> node -e \"try{require('./postinstall')}catch(e){}\"\n",
      "\n",
      "\n",
      "> core-js-pure@3.14.0 postinstall /home/dsc/git/TFM/notebooks/component-template/template/my_component/frontend/node_modules/core-js-pure\n",
      "> node -e \"try{require('./postinstall')}catch(e){}\"\n",
      "\n",
      "\u001b[K\u001b[?25h\u001b[37;40mnpm\u001b[0m \u001b[0m\u001b[30;43mWARN\u001b[0m \u001b[0m\u001b[35moptional\u001b[0m SKIPPING OPTIONAL DEPENDENCY: fsevents@2.1.2 (node_modules/react-scripts/node_modules/fsevents):\n",
      "\u001b[0m\u001b[37;40mnpm\u001b[0m \u001b[0m\u001b[30;43mWARN\u001b[0m \u001b[0m\u001b[35mnotsup\u001b[0m SKIPPING OPTIONAL DEPENDENCY: Unsupported platform for fsevents@2.1.2: wanted {\"os\":\"darwin\",\"arch\":\"any\"} (current: {\"os\":\"linux\",\"arch\":\"x64\"})\n",
      "\u001b[0m\u001b[37;40mnpm\u001b[0m \u001b[0m\u001b[30;43mWARN\u001b[0m \u001b[0m\u001b[35moptional\u001b[0m SKIPPING OPTIONAL DEPENDENCY: fsevents@^1.2.7 (node_modules/jest-haste-map/node_modules/fsevents):\n",
      "\u001b[0m\u001b[37;40mnpm\u001b[0m \u001b[0m\u001b[30;43mWARN\u001b[0m \u001b[0m\u001b[35mnotsup\u001b[0m SKIPPING OPTIONAL DEPENDENCY: Unsupported platform for fsevents@1.2.13: wanted {\"os\":\"darwin\",\"arch\":\"any\"} (current: {\"os\":\"linux\",\"arch\":\"x64\"})\n",
      "\u001b[0m\u001b[37;40mnpm\u001b[0m \u001b[0m\u001b[30;43mWARN\u001b[0m \u001b[0m\u001b[35moptional\u001b[0m SKIPPING OPTIONAL DEPENDENCY: fsevents@~2.3.1 (node_modules/chokidar/node_modules/fsevents):\n",
      "\u001b[0m\u001b[37;40mnpm\u001b[0m \u001b[0m\u001b[30;43mWARN\u001b[0m \u001b[0m\u001b[35mnotsup\u001b[0m SKIPPING OPTIONAL DEPENDENCY: Unsupported platform for fsevents@2.3.2: wanted {\"os\":\"darwin\",\"arch\":\"any\"} (current: {\"os\":\"linux\",\"arch\":\"x64\"})\n",
      "\u001b[0m\u001b[37;40mnpm\u001b[0m \u001b[0m\u001b[30;43mWARN\u001b[0m \u001b[0m\u001b[35moptional\u001b[0m SKIPPING OPTIONAL DEPENDENCY: fsevents@^1.2.7 (node_modules/watchpack-chokidar2/node_modules/chokidar/node_modules/fsevents):\n",
      "\u001b[0m\u001b[37;40mnpm\u001b[0m \u001b[0m\u001b[30;43mWARN\u001b[0m \u001b[0m\u001b[35mnotsup\u001b[0m SKIPPING OPTIONAL DEPENDENCY: Unsupported platform for fsevents@1.2.13: wanted {\"os\":\"darwin\",\"arch\":\"any\"} (current: {\"os\":\"linux\",\"arch\":\"x64\"})\n",
      "\u001b[0m\u001b[37;40mnpm\u001b[0m \u001b[0m\u001b[30;43mWARN\u001b[0m \u001b[0m\u001b[35moptional\u001b[0m SKIPPING OPTIONAL DEPENDENCY: fsevents@^1.2.7 (node_modules/webpack-dev-server/node_modules/chokidar/node_modules/fsevents):\n",
      "\u001b[0m\u001b[37;40mnpm\u001b[0m \u001b[0m\u001b[30;43mWARN\u001b[0m \u001b[0m\u001b[35mnotsup\u001b[0m SKIPPING OPTIONAL DEPENDENCY: Unsupported platform for fsevents@1.2.13: wanted {\"os\":\"darwin\",\"arch\":\"any\"} (current: {\"os\":\"linux\",\"arch\":\"x64\"})\n",
      "\u001b[0m\u001b[37;40mnpm\u001b[0m \u001b[0m\u001b[30;43mWARN\u001b[0m\u001b[35m\u001b[0m @babel/plugin-bugfix-v8-spread-parameters-in-optional-chaining@7.13.12 requires a peer of @babel/core@^7.13.0 but none is installed. You must install peer dependencies yourself.\n",
      "\u001b[0m\u001b[37;40mnpm\u001b[0m \u001b[0m\u001b[30;43mWARN\u001b[0m\u001b[35m\u001b[0m @babel/plugin-proposal-class-static-block@7.14.3 requires a peer of @babel/core@^7.12.0 but none is installed. You must install peer dependencies yourself.\n",
      "\u001b[0m\n",
      "added 1654 packages from 822 contributors and audited 1664 packages in 322.099s\n",
      "\n",
      "93 packages are looking for funding\n",
      "  run `npm fund` for details\n",
      "\n",
      "found \u001b[91m99\u001b[0m vulnerabilities (1 \u001b[1mlow\u001b[0m, 91 \u001b[93mmoderate\u001b[0m, 7 \u001b[91mhigh\u001b[0m)\n",
      "  run `npm audit fix` to fix them, or `npm audit` for details\n",
      "\u001b[K\u001b[?25h7m             \u001b[27m\u001b[90m.....\u001b[0m] - prepare:frontend: \u001b[7msill\u001b[0m \u001b[35minstall\u001b[0m printInstalled\u001b[0m\u001b[K"
     ]
    }
   ],
   "source": [
    "%cd /home/dsc/git/TFM/notebooks/component-template/template/my_component/frontend\n",
    "\n",
    "! npm install"
   ]
  },
  {
   "cell_type": "markdown",
   "metadata": {},
   "source": [
    "## Theme"
   ]
  },
  {
   "cell_type": "code",
   "execution_count": 6,
   "metadata": {
    "scrolled": true
   },
   "outputs": [
    {
     "name": "stdout",
     "output_type": "stream",
     "text": [
      "# Below are all the sections and options you can have in ~/.streamlit/config.toml.\n",
      "\n",
      "\u001b[32m\u001b[1m[global]\u001b[0m\n",
      "\n",
      "\u001b[1m# By default, Streamlit checks if the Python watchdog module is available and, if not, prints a warning asking for you to install it. The watchdog module is not required, but highly recommended. It improves Streamlit's ability to detect changes to files in your filesystem.\u001b[0m\n",
      "# If you'd like to turn off this warning, set this to True.\u001b[0m\n",
      "# Default: false\u001b[0m\n",
      "\u001b[32mdisableWatchdogWarning = false\n",
      "\u001b[0m\n",
      "\u001b[1m# If True, will show a warning when you run a Streamlit-enabled script via \"python my_script.py\".\u001b[0m\n",
      "# Default: true\u001b[0m\n",
      "\u001b[32mshowWarningOnDirectExecution = true\n",
      "\u001b[0m\n",
      "\n",
      "\u001b[32m\u001b[1m[logger]\u001b[0m\n",
      "\n",
      "\u001b[1m# Level of logging: 'error', 'warning', 'info', or 'debug'.\u001b[0m\n",
      "# Default: 'info'\u001b[0m\n",
      "\u001b[32mlevel = \"info\"\n",
      "\u001b[0m\n",
      "\u001b[1m# String format for logging messages. If logger.datetimeFormat is set, logger messages will default to `%(asctime)s.%(msecs)03d %(message)s`. See [Python's documentation](https://docs.python.org/2.6/library/logging.html#formatter-objects) for available attributes.\u001b[0m\n",
      "# Default: None\u001b[0m\n",
      "\u001b[32mmessageFormat = \"%(asctime)s %(message)s\"\n",
      "\u001b[0m\n",
      "\n",
      "\u001b[32m\u001b[1m[client]\u001b[0m\n",
      "\n",
      "\u001b[1m# Whether to enable st.cache.\u001b[0m\n",
      "# Default: true\u001b[0m\n",
      "\u001b[32mcaching = true\n",
      "\u001b[0m\n",
      "\u001b[1m# If false, makes your Streamlit script not draw to a Streamlit app.\u001b[0m\n",
      "# Default: true\u001b[0m\n",
      "\u001b[32mdisplayEnabled = true\n",
      "\u001b[0m\n",
      "\u001b[1m# Controls whether uncaught app exceptions are displayed in the browser. By default, this is set to True and Streamlit displays app exceptions and associated tracebacks in the browser.\u001b[0m\n",
      "# If set to False, an exception will result in a generic message being shown in the browser, and exceptions and tracebacks will be printed to the console only.\u001b[0m\n",
      "# Default: true\u001b[0m\n",
      "\u001b[32mshowErrorDetails = true\n",
      "\u001b[0m\n",
      "\n",
      "\u001b[32m\u001b[1m[runner]\u001b[0m\n",
      "\n",
      "\u001b[1m# Allows you to type a variable or string by itself in a single line of Python code to write it to the app.\u001b[0m\n",
      "# Default: true\u001b[0m\n",
      "\u001b[32mmagicEnabled = true\n",
      "\u001b[0m\n",
      "\u001b[1m# Install a Python tracer to allow you to stop or pause your script at any point and introspect it. As a side-effect, this slows down your script's execution.\u001b[0m\n",
      "# Default: false\u001b[0m\n",
      "\u001b[32minstallTracer = false\n",
      "\u001b[0m\n",
      "\u001b[1m# Sets the MPLBACKEND environment variable to Agg inside Streamlit to prevent Python crashing.\u001b[0m\n",
      "# Default: true\u001b[0m\n",
      "\u001b[32mfixMatplotlib = true\n",
      "\u001b[0m\n",
      "\u001b[1m# Run the Python Garbage Collector after each script execution. This can help avoid excess memory use in Streamlit apps, but could introduce delay in rerunning the app script for high-memory-use applications.\u001b[0m\n",
      "# Default: true\u001b[0m\n",
      "\u001b[32mpostScriptGC = true\n",
      "\u001b[0m\n",
      "\n",
      "\u001b[32m\u001b[1m[server]\u001b[0m\n",
      "\n",
      "\u001b[1m# List of folders that should not be watched for changes. This impacts both \"Run on Save\" and @st.cache.\u001b[0m\n",
      "# Relative paths will be taken as relative to the current working directory.\u001b[0m\n",
      "# Example: ['/home/user1/env', 'relative/path/to/folder']\u001b[0m\n",
      "# Default: []\u001b[0m\n",
      "\u001b[32mfolderWatchBlacklist = []\n",
      "\u001b[0m\n",
      "\u001b[1m# Change the type of file watcher used by Streamlit, or turn it off completely.\u001b[0m\n",
      "# Allowed values: * \"auto\" : Streamlit will attempt to use the watchdog module, and falls back to polling if watchdog is not available. * \"watchdog\" : Force Streamlit to use the watchdog module. * \"poll\" : Force Streamlit to always use polling. * \"none\" : Streamlit will not watch files.\u001b[0m\n",
      "# Default: \"auto\"\u001b[0m\n",
      "\u001b[32mfileWatcherType = \"auto\"\n",
      "\u001b[0m\n",
      "\u001b[1m# Symmetric key used to produce signed cookies. If deploying on multiple replicas, this should be set to the same value across all replicas to ensure they all share the same secret.\u001b[0m\n",
      "# Default: randomly generated secret key.\u001b[0m\n",
      "\u001b[32mcookieSecret = \"4535aec27c3202bbead56bcd17c1aba0d0059271936b84e5667d5612aed71d2b\"\n",
      "\u001b[0m\n",
      "\u001b[1m# If false, will attempt to open a browser window on start.\u001b[0m\n",
      "# Default: false unless (1) we are on a Linux box where DISPLAY is unset, or (2) server.liveSave is set.\u001b[0m\n",
      "\u001b[32mheadless = false\n",
      "\u001b[0m\n",
      "\u001b[1m# Automatically rerun script when the file is modified on disk.\u001b[0m\n",
      "# Default: false\u001b[0m\n",
      "\u001b[32mrunOnSave = false\n",
      "\u001b[0m\n",
      "\u001b[1m# The address where the server will listen for client and browser connections. Use this if you want to bind the server to a specific address. If set, the server will only be accessible from this address, and not from any aliases (like localhost).\u001b[0m\n",
      "# Default: (unset)\u001b[0m\n",
      "\u001b[32m#address =\n",
      "\u001b[0m\n",
      "\u001b[1m# The port where the server will listen for browser connections.\u001b[0m\n",
      "# Default: 8501\u001b[0m\n",
      "\u001b[32mport = 8501\n",
      "\u001b[0m\n",
      "\u001b[1m# The base path for the URL where Streamlit should be served from.\u001b[0m\n",
      "# Default: \"\"\u001b[0m\n",
      "\u001b[32mbaseUrlPath = \"\"\n",
      "\u001b[0m\n",
      "\u001b[1m# Enables support for Cross-Origin Request Sharing (CORS) protection, for added security.\u001b[0m\n",
      "# Due to conflicts between CORS and XSRF, if `server.enableXsrfProtection` is on and `server.enableCORS` is off at the same time, we will prioritize `server.enableXsrfProtection`.\u001b[0m\n",
      "# Default: true\u001b[0m\n",
      "\u001b[32menableCORS = true\n",
      "\u001b[0m\n",
      "\u001b[1m# Enables support for Cross-Site Request Forgery (XSRF) protection, for added security.\u001b[0m\n",
      "# Due to conflicts between CORS and XSRF, if `server.enableXsrfProtection` is on and `server.enableCORS` is off at the same time, we will prioritize `server.enableXsrfProtection`.\u001b[0m\n",
      "# Default: true\u001b[0m\n",
      "\u001b[32menableXsrfProtection = true\n",
      "\u001b[0m\n",
      "\u001b[1m# Max size, in megabytes, for files uploaded with the file_uploader.\u001b[0m\n",
      "# Default: 200\u001b[0m\n",
      "\u001b[32mmaxUploadSize = 200\n",
      "\u001b[0m\n",
      "\u001b[1m# Enables support for websocket compression.\u001b[0m\n",
      "# Default: true\u001b[0m\n",
      "\u001b[32menableWebsocketCompression = true\n",
      "\u001b[0m\n",
      "\n",
      "\u001b[32m\u001b[1m[browser]\u001b[0m\n",
      "\n",
      "\u001b[1m# Internet address where users should point their browsers in order to connect to the app. Can be IP address or DNS name and path.\u001b[0m\n",
      "# This is used to: - Set the correct URL for CORS and XSRF protection purposes. - Show the URL on the terminal - Open the browser - Tell the browser where to connect to the server when in liveSave mode.\u001b[0m\n",
      "# Default: 'localhost'\u001b[0m\n",
      "\u001b[32mserverAddress = \"localhost\"\n",
      "\u001b[0m\n",
      "\u001b[1m# Whether to send usage statistics to Streamlit.\u001b[0m\n",
      "# Default: true\u001b[0m\n",
      "\u001b[32mgatherUsageStats = true\n",
      "\u001b[0m\n",
      "\u001b[1m# Port where users should point their browsers in order to connect to the app.\u001b[0m\n",
      "# This is used to: - Set the correct URL for CORS and XSRF protection purposes. - Show the URL on the terminal - Open the browser - Tell the browser where to connect to the server when in liveSave mode.\u001b[0m\n",
      "# Default: whatever value is set in server.port.\u001b[0m\n",
      "\u001b[32mserverPort = 8501\n",
      "\u001b[0m\n",
      "\n",
      "\u001b[32m\u001b[1m[mapbox]\u001b[0m\n",
      "\n",
      "\u001b[1m# Configure Streamlit to use a custom Mapbox token for elements like st.pydeck_chart and st.map. To get a token for yourself, create an account at https://mapbox.com. It's free (for moderate usage levels)!\u001b[0m\n",
      "# Default: \"\"\u001b[0m\n",
      "\u001b[32mtoken = \"\"\n",
      "\u001b[0m\n",
      "\n",
      "\u001b[32m\u001b[1m[deprecation]\u001b[0m\n",
      "\n",
      "\u001b[1m# Set to false to disable the deprecation warning for the file uploader encoding.\u001b[0m\n",
      "# Default: \"True\"\u001b[0m\n",
      "\u001b[32mshowfileUploaderEncoding = \"True\"\n",
      "\u001b[0m\n",
      "\u001b[1m# Set to false to disable the deprecation warning for using the global pyplot instance.\u001b[0m\n",
      "# Default: \"True\"\u001b[0m\n",
      "\u001b[32mshowPyplotGlobalUse = \"True\"\n",
      "\u001b[0m\n",
      "\n",
      "\u001b[32m\u001b[1m[s3]\u001b[0m\n",
      "\n",
      "\u001b[1m# Name of the AWS S3 bucket to save apps.\u001b[0m\n",
      "# Default: (unset)\u001b[0m\n",
      "\u001b[32m#bucket =\n",
      "\u001b[0m\n",
      "\u001b[1m# URL root for external view of Streamlit apps.\u001b[0m\n",
      "# Default: (unset)\u001b[0m\n",
      "\u001b[32m#url =\n",
      "\u001b[0m\n",
      "\u001b[1m# Access key to write to the S3 bucket.\u001b[0m\n",
      "# Leave unset if you want to use an AWS profile.\u001b[0m\n",
      "# Default: (unset)\u001b[0m\n",
      "\u001b[32m#accessKeyId =\n",
      "\u001b[0m\n",
      "\u001b[1m# Secret access key to write to the S3 bucket.\u001b[0m\n",
      "# Leave unset if you want to use an AWS profile.\u001b[0m\n",
      "# Default: (unset)\u001b[0m\n",
      "\u001b[32m#secretAccessKey =\n",
      "\u001b[0m\n",
      "\u001b[1m# The \"subdirectory\" within the S3 bucket where to save apps.\u001b[0m\n",
      "# S3 calls paths \"keys\" which is why the keyPrefix is like a subdirectory. Use \"\" to mean the root directory.\u001b[0m\n",
      "# Default: \"\"\u001b[0m\n",
      "\u001b[32mkeyPrefix = \"\"\n",
      "\u001b[0m\n",
      "\u001b[1m# AWS region where the bucket is located, e.g. \"us-west-2\".\u001b[0m\n",
      "# Default: (unset)\u001b[0m\n",
      "\u001b[32m#region =\n",
      "\u001b[0m\n",
      "\u001b[1m# AWS credentials profile to use.\u001b[0m\n",
      "# Leave unset to use your default profile.\u001b[0m\n",
      "# Default: (unset)\u001b[0m\n",
      "\u001b[32m#profile =\n",
      "\u001b[0m\n",
      "\n",
      "\u001b[32m\u001b[1m[theme]\u001b[0m\n",
      "\n",
      "\u001b[1m# The preset Streamlit theme that your custom theme inherits from. One of \"light\" or \"dark\".\u001b[0m\n",
      "\u001b[32m#base =\n",
      "\u001b[0m\n",
      "\u001b[1m# Primary accent color for interactive elements.\u001b[0m\n",
      "\u001b[32m#primaryColor =\n",
      "\u001b[0m\n",
      "\u001b[1m# Background color for the main content area.\u001b[0m\n",
      "\u001b[32m#backgroundColor =\n",
      "\u001b[0m\n",
      "\u001b[1m# Background color used for the sidebar and most interactive widgets.\u001b[0m\n",
      "\u001b[32m#secondaryBackgroundColor =\n",
      "\u001b[0m\n",
      "\u001b[1m# Color used for almost all text.\u001b[0m\n",
      "\u001b[32m#textColor =\n",
      "\u001b[0m\n",
      "\u001b[1m# Font family for all text in the app, except code blocks. One of \"sans serif\", \"serif\", or \"monospace\".\u001b[0m\n",
      "\u001b[32m#font =\n",
      "\u001b[0m\n"
     ]
    }
   ],
   "source": [
    "! streamlit config show"
   ]
  },
  {
   "cell_type": "code",
   "execution_count": 7,
   "metadata": {},
   "outputs": [],
   "source": [
    "! cd ~/.streamlit"
   ]
  },
  {
   "cell_type": "code",
   "execution_count": 8,
   "metadata": {},
   "outputs": [],
   "source": [
    "! touch config.toml"
   ]
  },
  {
   "cell_type": "markdown",
   "metadata": {},
   "source": [
    "Se modifica el tema de la interfaz en **~/.streamlit/config.toml**, pegando el siguiente texto (tema editado mediante la interfaz de streamlit, y copiado desde allí):"
   ]
  },
  {
   "cell_type": "raw",
   "metadata": {},
   "source": [
    "[theme]\n",
    "primaryColor=\"#ffd700\"\n",
    "backgroundColor=\"#2f2e2e\"\n",
    "secondaryBackgroundColor=\"#000000\"\n",
    "textColor=\"#ffffff\""
   ]
  }
 ],
 "metadata": {
  "kernelspec": {
   "display_name": "Python 3",
   "language": "python",
   "name": "python3"
  },
  "language_info": {
   "codemirror_mode": {
    "name": "ipython",
    "version": 3
   },
   "file_extension": ".py",
   "mimetype": "text/x-python",
   "name": "python",
   "nbconvert_exporter": "python",
   "pygments_lexer": "ipython3",
   "version": "3.8.5"
  }
 },
 "nbformat": 4,
 "nbformat_minor": 4
}
