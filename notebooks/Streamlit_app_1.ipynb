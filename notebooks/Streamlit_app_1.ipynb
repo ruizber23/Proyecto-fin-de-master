{
 "cells": [
  {
   "cell_type": "markdown",
   "metadata": {},
   "source": [
    "# Notebook 1 to launch the app\n"
   ]
  },
  {
   "cell_type": "markdown",
   "metadata": {},
   "source": [
    "**For the app to function, once the last cell is running, the corresponding cell of ``Streamlit_app_2.ipynb`` must also be running.**"
   ]
  },
  {
   "cell_type": "markdown",
   "metadata": {},
   "source": [
    "The notebook ``Interface.ipynb`` must be run, so that the .py file that defines the interface exists"
   ]
  },
  {
   "cell_type": "code",
   "execution_count": 1,
   "metadata": {},
   "outputs": [],
   "source": [
    "def run_streamlit_1():\n",
    " \n",
    "    %cd /home/dsc/git/TFM/notebooks/component-template/template/my_component/frontend\n",
    "    \n",
    "    ! npm run start"
   ]
  },
  {
   "cell_type": "markdown",
   "metadata": {},
   "source": [
    "The component template interface is initialized and executed. In order to use the application, the following cell must be kept running at the same time the notebook ``Streamlit_app_2.ipynb`` is also running. This second script should be run when the following cell is running and a couple of minutes has passed (when it shows: **Compiled successfully!**)"
   ]
  },
  {
   "cell_type": "code",
   "execution_count": 2,
   "metadata": {
    "scrolled": true
   },
   "outputs": [
    {
     "name": "stdout",
     "output_type": "stream",
     "text": [
      "/home/dsc/git/TFM/notebooks/component-template/template/my_component/frontend\n",
      "\u001b[37;40mnpm\u001b[0m \u001b[0m\u001b[30;43mWARN\u001b[0m \u001b[0m\u001b[35mlifecycle\u001b[0m The node binary used for scripts is /snap/bin/node but npm is using /snap/node/4933/bin/node itself. Use the `--scripts-prepend-node-path` option to include the path for the node binary npm was executed with.\n",
      "\u001b[0m\n",
      "> streamlit_component_template@0.1.0 start /home/dsc/git/TFM/notebooks/component-template/template/my_component/frontend\n",
      "> react-scripts start\n",
      "\n",
      "\u001b[34mℹ\u001b[39m \u001b[90m｢wds｣\u001b[39m: Project is running at http://10.0.2.15/\n",
      "\u001b[34mℹ\u001b[39m \u001b[90m｢wds｣\u001b[39m: webpack output is served from \n",
      "\u001b[34mℹ\u001b[39m \u001b[90m｢wds｣\u001b[39m: Content not from webpack is served from /home/dsc/git/TFM/notebooks/component-template/template/my_component/frontend/public\n",
      "\u001b[34mℹ\u001b[39m \u001b[90m｢wds｣\u001b[39m: 404s will fallback to /\n",
      "\u001b[2J\u001b[3J\u001b[H\u001b[36mStarting the development server...\u001b[39m\n",
      "\u001b[36m\u001b[39m\n",
      "\u001b[2J\u001b[3J\u001b[H\u001b[33mFiles successfully emitted, waiting for typecheck results...\u001b[39m\n",
      "\u001b[2J\u001b[3J\u001b[H\u001b[32mCompiled successfully!\u001b[39m\n",
      "\n",
      "You can now view \u001b[1mstreamlit_component_template\u001b[22m in the browser.\n",
      "\n",
      "  \u001b[1mLocal:\u001b[22m            http://localhost:\u001b[1m3001\u001b[22m\n",
      "  \u001b[1mOn Your Network:\u001b[22m  http://10.0.2.15:\u001b[1m3001\u001b[22m\n",
      "\n",
      "Note that the development build is not optimized.\n",
      "To create a production build, use \u001b[36mnpm run build\u001b[39m.\n",
      "\n",
      "^C\n"
     ]
    }
   ],
   "source": [
    "run_streamlit_1()"
   ]
  }
 ],
 "metadata": {
  "kernelspec": {
   "display_name": "Python 3",
   "language": "python",
   "name": "python3"
  },
  "language_info": {
   "codemirror_mode": {
    "name": "ipython",
    "version": 3
   },
   "file_extension": ".py",
   "mimetype": "text/x-python",
   "name": "python",
   "nbconvert_exporter": "python",
   "pygments_lexer": "ipython3",
   "version": "3.8.5"
  }
 },
 "nbformat": 4,
 "nbformat_minor": 4
}
