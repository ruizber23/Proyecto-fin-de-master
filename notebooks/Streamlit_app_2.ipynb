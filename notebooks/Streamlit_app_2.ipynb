{
 "cells": [
  {
   "cell_type": "markdown",
   "metadata": {},
   "source": [
    "# Notebook 2 to launch the application\n",
    "\n",
    "When running the code, the application link is obtained. It can be copied and pasted into the browser if a tab doesn't automatically open"
   ]
  },
  {
   "cell_type": "markdown",
   "metadata": {},
   "source": [
    "**The corresponding cell of ``Streamlit_app_1.ipynb`` must also be running**"
   ]
  },
  {
   "cell_type": "code",
   "execution_count": 1,
   "metadata": {},
   "outputs": [],
   "source": [
    "def run_streamlit_2():\n",
    "    \n",
    "    # The directory is set\n",
    "    %cd /home/dsc/git/TFM/notebooks/component-template/template/my_component\n",
    "    \n",
    "    ! streamlit run interfaz.py"
   ]
  },
  {
   "cell_type": "code",
   "execution_count": 2,
   "metadata": {
    "scrolled": true
   },
   "outputs": [
    {
     "name": "stdout",
     "output_type": "stream",
     "text": [
      "/home/dsc/git/TFM/notebooks/component-template/template/my_component\n",
      "\u001b[0m\n",
      "\u001b[34m\u001b[1m  You can now view your Streamlit app in your browser.\u001b[0m\n",
      "\u001b[0m\n",
      "\u001b[34m  Local URL: \u001b[0m\u001b[1mhttp://localhost:8501\u001b[0m\n",
      "\u001b[34m  Network URL: \u001b[0m\u001b[1mhttp://10.0.2.15:8501\u001b[0m\n",
      "\u001b[0m\n",
      "2021-07-20 23:12:02.420 NumExpr defaulting to 2 threads.\n",
      "^C\n",
      "\u001b[34m  Stopping...\u001b[0m\n"
     ]
    }
   ],
   "source": [
    "run_streamlit_2()"
   ]
  },
  {
   "cell_type": "markdown",
   "metadata": {},
   "source": [
    "## **If an error message is displayed instead of the map, refresh the page or repeat the *Streamlit_app_1-Streamlit_app_2* process, leaving more time between running one notebook and the other**"
   ]
  },
  {
   "cell_type": "markdown",
   "metadata": {},
   "source": [
    "## **If this doesn't work, try refreshing the page**"
   ]
  }
 ],
 "metadata": {
  "kernelspec": {
   "display_name": "Python 3",
   "language": "python",
   "name": "python3"
  },
  "language_info": {
   "codemirror_mode": {
    "name": "ipython",
    "version": 3
   },
   "file_extension": ".py",
   "mimetype": "text/x-python",
   "name": "python",
   "nbconvert_exporter": "python",
   "pygments_lexer": "ipython3",
   "version": "3.8.5"
  }
 },
 "nbformat": 4,
 "nbformat_minor": 4
}
