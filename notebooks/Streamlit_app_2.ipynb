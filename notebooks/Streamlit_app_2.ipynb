{
 "cells": [
  {
   "cell_type": "markdown",
   "metadata": {},
   "source": [
    "# Notebook 2 para lanzar la aplicación\n",
    "\n",
    "Al correr el código se obtiene el link de la aplicación. Se puede copiar y pegar en el navegador si no se abre automáticamente una pestaña. "
   ]
  },
  {
   "cell_type": "markdown",
   "metadata": {},
   "source": [
    "**Debe estar corriendo también la celda correspondiente de ``Streamlit_app_1.ipynb``**"
   ]
  },
  {
   "cell_type": "code",
   "execution_count": 21,
   "metadata": {},
   "outputs": [],
   "source": [
    "def run_streamlit_2():\n",
    "    \n",
    "    #Se fija el directorio\n",
    "    %cd /home/dsc/git/TFM/notebooks/component-template/template/my_component\n",
    "    \n",
    "    ! streamlit run interfaz.py"
   ]
  },
  {
   "cell_type": "code",
   "execution_count": null,
   "metadata": {
    "scrolled": true
   },
   "outputs": [
    {
     "name": "stdout",
     "output_type": "stream",
     "text": [
      "/home/dsc/git/TFM/notebooks/component-template/template/my_component\n",
      "\u001b[0m\n",
      "\u001b[34m\u001b[1m  You can now view your Streamlit app in your browser.\u001b[0m\n",
      "\u001b[0m\n",
      "\u001b[34m  Local URL: \u001b[0m\u001b[1mhttp://localhost:8501\u001b[0m\n",
      "\u001b[34m  Network URL: \u001b[0m\u001b[1mhttp://10.0.2.15:8501\u001b[0m\n",
      "\u001b[0m\n",
      "2021-06-18 13:22:43.934 NumExpr defaulting to 2 threads.\n"
     ]
    }
   ],
   "source": [
    "run_streamlit_2()"
   ]
  },
  {
   "cell_type": "code",
   "execution_count": null,
   "metadata": {},
   "outputs": [],
   "source": []
  }
 ],
 "metadata": {
  "kernelspec": {
   "display_name": "Python 3",
   "language": "python",
   "name": "python3"
  },
  "language_info": {
   "codemirror_mode": {
    "name": "ipython",
    "version": 3
   },
   "file_extension": ".py",
   "mimetype": "text/x-python",
   "name": "python",
   "nbconvert_exporter": "python",
   "pygments_lexer": "ipython3",
   "version": "3.8.5"
  }
 },
 "nbformat": 4,
 "nbformat_minor": 4
}
