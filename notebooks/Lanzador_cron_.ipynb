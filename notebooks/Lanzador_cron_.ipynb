{
 "cells": [
  {
   "cell_type": "code",
   "execution_count": 1,
   "metadata": {},
   "outputs": [],
   "source": [
    "#! pip install python-crontab\n",
    "#! conda install croniter -y"
   ]
  },
  {
   "cell_type": "code",
   "execution_count": 2,
   "metadata": {},
   "outputs": [],
   "source": [
    "from crontab import CronTab\n",
    "import datetime"
   ]
  },
  {
   "cell_type": "code",
   "execution_count": 3,
   "metadata": {},
   "outputs": [],
   "source": [
    "my_cron = CronTab(user='dsc')"
   ]
  },
  {
   "cell_type": "markdown",
   "metadata": {},
   "source": [
    "## Obtencion Datos"
   ]
  },
  {
   "cell_type": "code",
   "execution_count": 224,
   "metadata": {},
   "outputs": [
    {
     "name": "stdout",
     "output_type": "stream",
     "text": [
      "La primera ejecución será: \n",
      "2021-03-16 19:10:00\n",
      "\n",
      "*/10 * * * * python /home/dsc/Downloads/Obtencion_datos_periodica.py\n"
     ]
    }
   ],
   "source": [
    "! chmod a+rwx /home/dsc/Downloads/Obtencion_datos_periodica.py \n",
    "\n",
    "#job = my_cron.new(command = \"python /home/dsc/git/TFM/notebooks/Obtencion_datos_periodica.py\")\n",
    "job = my_cron.new(command = \"python /home/dsc/Downloads/Obtencion_datos_periodica.py\")\n",
    "\n",
    "job.minute.every(10)\n",
    "my_cron.write()\n",
    "\n",
    "for job in my_cron:\n",
    "    sch = job.schedule(date_from = datetime.datetime.now())\n",
    "    print(\"La primera ejecución será: \")\n",
    "    print(sch.get_next())\n",
    "\n",
    "! crontab -l"
   ]
  },
  {
   "cell_type": "code",
   "execution_count": 225,
   "metadata": {},
   "outputs": [
    {
     "name": "stdout",
     "output_type": "stream",
     "text": [
      "La primera ejecución será: \n",
      "2021-03-16 19:20:00\n",
      "\n",
      "*/10 * * * * python /home/dsc/Downloads/Obtencion_datos_periodica.py\n"
     ]
    }
   ],
   "source": [
    "for job in my_cron:\n",
    "    sch = job.schedule(date_from = datetime.datetime.now())\n",
    "    print(\"La primera ejecución será: \")\n",
    "    print(sch.get_next())\n",
    "! crontab -l"
   ]
  },
  {
   "cell_type": "code",
   "execution_count": 146,
   "metadata": {},
   "outputs": [],
   "source": [
    "# Eliminar"
   ]
  },
  {
   "cell_type": "code",
   "execution_count": 226,
   "metadata": {},
   "outputs": [],
   "source": [
    "for job in my_cron:\n",
    "    if job.comment == '':\n",
    "        my_cron.remove(job)\n",
    "        my_cron.write()\n",
    "! crontab -l"
   ]
  },
  {
   "cell_type": "code",
   "execution_count": null,
   "metadata": {},
   "outputs": [],
   "source": []
  },
  {
   "cell_type": "code",
   "execution_count": null,
   "metadata": {},
   "outputs": [],
   "source": []
  },
  {
   "cell_type": "code",
   "execution_count": null,
   "metadata": {},
   "outputs": [],
   "source": []
  }
 ],
 "metadata": {
  "kernelspec": {
   "display_name": "Python 3",
   "language": "python",
   "name": "python3"
  },
  "language_info": {
   "codemirror_mode": {
    "name": "ipython",
    "version": 3
   },
   "file_extension": ".py",
   "mimetype": "text/x-python",
   "name": "python",
   "nbconvert_exporter": "python",
   "pygments_lexer": "ipython3",
   "version": "3.8.5"
  }
 },
 "nbformat": 4,
 "nbformat_minor": 4
}
